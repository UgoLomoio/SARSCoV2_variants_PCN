{
 "cells": [
  {
   "cell_type": "code",
   "execution_count": 1,
   "metadata": {
    "id": "bHXKi5EOIjn2",
    "tags": []
   },
   "outputs": [],
   "source": [
    "import numpy as np\n",
    "import os\n",
    "import sys "
   ]
  },
  {
   "cell_type": "code",
   "execution_count": 8,
   "metadata": {
    "tags": []
   },
   "outputs": [
    {
     "name": "stdout",
     "output_type": "stream",
     "text": [
      "Collecting tmscoring\n",
      "  Downloading tmscoring-0.4.post0.tar.gz (5.3 kB)\n",
      "  Preparing metadata (setup.py): started\n",
      "  Preparing metadata (setup.py): finished with status 'done'\n",
      "Building wheels for collected packages: tmscoring\n",
      "  Building wheel for tmscoring (setup.py): started\n",
      "  Building wheel for tmscoring (setup.py): finished with status 'done'\n",
      "  Created wheel for tmscoring: filename=tmscoring-0.4.post0-py3-none-any.whl size=5777 sha256=61bfd65a51a3aa794369d22702029ab0e1ec2bbcbb6f257fc575f0b9ad5b7de9\n",
      "  Stored in directory: c:\\users\\utente\\appdata\\local\\pip\\cache\\wheels\\2e\\aa\\8b\\75ee8d841075da56395ad290e23cd9745eddaba2b1156a0958\n",
      "Successfully built tmscoring\n",
      "Installing collected packages: tmscoring\n",
      "Successfully installed tmscoring-0.4.post0\n"
     ]
    },
    {
     "name": "stderr",
     "output_type": "stream",
     "text": [
      "WARNING: Ignoring invalid distribution -tkinter-pymol (e:\\pymol\\envs\\pcn\\dlls)\n",
      "WARNING: Ignoring invalid distribution -tkinter-pymol (e:\\pymol\\envs\\pcn\\dlls)\n",
      "WARNING: Ignoring invalid distribution -tkinter-pymol (e:\\pymol\\envs\\pcn\\dlls)\n",
      "WARNING: Ignoring invalid distribution -tkinter-pymol (e:\\pymol\\envs\\pcn\\dlls)\n",
      "WARNING: Ignoring invalid distribution -tkinter-pymol (e:\\pymol\\envs\\pcn\\dlls)\n",
      "WARNING: Ignoring invalid distribution -tkinter-pymol (e:\\pymol\\envs\\pcn\\dlls)\n"
     ]
    }
   ],
   "source": [
    "#!pip install tmscoring"
   ]
  },
  {
   "cell_type": "code",
   "execution_count": 9,
   "metadata": {
    "tags": []
   },
   "outputs": [
    {
     "name": "stdout",
     "output_type": "stream",
     "text": [
      "Collecting iminuit<2\n",
      "  Downloading iminuit-1.5.4-cp38-cp38-win_amd64.whl (278 kB)\n",
      "     ---------------------------------------- 0.0/278.6 kB ? eta -:--:--\n",
      "     ------------ -------------------------- 92.2/278.6 kB 2.6 MB/s eta 0:00:01\n",
      "     -------------------------------------  276.5/278.6 kB 3.4 MB/s eta 0:00:01\n",
      "     -------------------------------------- 278.6/278.6 kB 2.4 MB/s eta 0:00:00\n",
      "Requirement already satisfied: numpy>=1.11.3 in e:\\pymol\\envs\\pcn\\lib\\site-packages (from iminuit<2) (1.24.3)\n",
      "Installing collected packages: iminuit\n",
      "Successfully installed iminuit-1.5.4\n"
     ]
    },
    {
     "name": "stderr",
     "output_type": "stream",
     "text": [
      "WARNING: Ignoring invalid distribution -tkinter-pymol (e:\\pymol\\envs\\pcn\\dlls)\n",
      "WARNING: Ignoring invalid distribution -tkinter-pymol (e:\\pymol\\envs\\pcn\\dlls)\n",
      "WARNING: Ignoring invalid distribution -tkinter-pymol (e:\\pymol\\envs\\pcn\\dlls)\n",
      "WARNING: Ignoring invalid distribution -tkinter-pymol (e:\\pymol\\envs\\pcn\\dlls)\n",
      "WARNING: Ignoring invalid distribution -tkinter-pymol (e:\\pymol\\envs\\pcn\\dlls)\n",
      "WARNING: Ignoring invalid distribution -tkinter-pymol (e:\\pymol\\envs\\pcn\\dlls)\n"
     ]
    }
   ],
   "source": [
    "#!pip install \"iminuit<2\""
   ]
  },
  {
   "cell_type": "code",
   "execution_count": 4,
   "metadata": {
    "tags": []
   },
   "outputs": [],
   "source": [
    "#!pip install plotly"
   ]
  },
  {
   "cell_type": "code",
   "execution_count": 5,
   "metadata": {
    "tags": []
   },
   "outputs": [],
   "source": [
    "#!pip install Bio"
   ]
  },
  {
   "cell_type": "code",
   "execution_count": 10,
   "metadata": {
    "tags": []
   },
   "outputs": [],
   "source": [
    "import plotly.io as pio\n",
    "dpi = 600\n",
    "format = \".eps\"\n",
    "width = 1.0\n",
    "height = 1.0\n",
    "scale = 6\n",
    "text_color = \"black\""
   ]
  },
  {
   "cell_type": "code",
   "execution_count": 11,
   "metadata": {
    "tags": []
   },
   "outputs": [
    {
     "name": "stderr",
     "output_type": "stream",
     "text": [
      "E:\\PyMOL\\envs\\PCN\\lib\\site-packages\\Bio\\pairwise2.py:278: BiopythonDeprecationWarning: Bio.pairwise2 has been deprecated, and we intend to remove it in a future release of Biopython. As an alternative, please consider using Bio.Align.PairwiseAligner as a replacement, and contact the Biopython developers if you still need the Bio.pairwise2 module.\n",
      "  warnings.warn(\n"
     ]
    }
   ],
   "source": [
    "import tmscoring"
   ]
  },
  {
   "cell_type": "code",
   "execution_count": 12,
   "metadata": {
    "id": "_gFduGRoIZYt",
    "tags": []
   },
   "outputs": [],
   "source": [
    "spike_names = [\"SPWT\",\"Epsl\",\"Zeta\",\"Beta\", \"Alfa\",\"Delt\",\"Kapp\",\"Gamm\",\"Iota\",\"Iot2\",\"Eta1\",\"Ihu1\",\"Omi1\",\"Omi5\"] #\"Mt02\",\"Mt09\",\"Mt10\",\"Mt06\",\"Mt07\",\"Mt13\", \"Mt14\"]\n",
    "spikes = {\n",
    "                      \"Omicron1\": \"Omi1\",\n",
    "                      \"Omicron5\": \"Omi5\",\n",
    "                      \"Delta\": \"Delt\",  \n",
    "                      \"Alpha\": \"Alfa\",\n",
    "                      \"Beta\": \"Beta\",\n",
    "                      \"Gamma\": \"Gamm\", \n",
    "                      \"Zeta\":  \"Zeta\",\n",
    "                      \"Kappa\": \"Kapp\",\n",
    "                      \"Iota1\": \"Iota\",\n",
    "                      \"Iota2\": \"Iot2\",\n",
    "                      \"Epsilon\": \"Epsl\",\n",
    "                      \"Eta\": \"Eta1\",\n",
    "                      \"Ihu\": \"Ihu1\",\n",
    "                      \"Wild Type\": \"SPWT\"\n",
    "}\n",
    "\n",
    "th_min = 4.0\n",
    "th_max = 8.0\n",
    "\n",
    "basepath = os.getcwd()+\"\\\\Data\\\\\"\n",
    "pdbSwissFilesPath = basepath+\"PDB_Swiss\\\\\"\n",
    "pdbFilesPath = basepath+\"PDB\\\\\"\n",
    "\n",
    "spike_muts_variants = {'Wild Type': np.array([]),\n",
    " 'Epsilon': np.array([ 13, 152, 452, 614]),\n",
    " 'Zeta': np.array([ 484,  614, 1176]),\n",
    " 'Beta': np.array([ 80, 215, 246, 417, 484, 501, 614, 701]),\n",
    " 'Alpha': np.array([ 501,  570,  614,  681,  716,  982, 1118]),\n",
    " 'Delta': np.array([158, 452, 478, 614, 681, 950]),\n",
    " 'Kappa': np.array([ 154,  484,  614,  681, 1071]),\n",
    " 'Gamma': np.array([ 138,  190,  417,  484,  501,  614,  655, 1027]),\n",
    " 'Iota1': np.array([  5,  95, 253, 477, 614]),\n",
    " 'Iota2': np.array([  5,  95, 253, 484, 614]),\n",
    " 'Eta': np.array([ 52,  67, 484, 614, 677, 888]),\n",
    " 'Ihu': np.array([  96,  190,  210,  346,  394,  449,  490,  501,  614,  681,  859,\n",
    "         936, 1191]),\n",
    " 'Omicron1': np.array([ 67,  95, 142, 212, 339, 371, 373, 375, 417, 440, 446, 477, 478,\n",
    "        484, 493, 496, 498, 501, 505, 547, 614, 655, 679, 681, 764, 796,\n",
    "        856, 954, 969, 981]),\n",
    " 'Omicron5': np.array([142, 213, 339, 371, 373, 375, 376, 405, 408, 417, 440, 452, 477,\n",
    "        478, 484, 486, 498, 501, 505, 614, 655, 679, 681, 764, 796, 954,\n",
    "        969])}\n",
    "                      \n"
   ]
  },
  {
   "cell_type": "code",
   "execution_count": 14,
   "metadata": {
    "id": "wDhPArx92cCA",
    "tags": []
   },
   "outputs": [],
   "source": [
    "basesequence = \"MFVFLVLLPLVSSQCVNLTTRTQLPPAYTNSFTRGVYYPDKVFRSSVLHSTQDLFLPFFSNVTWFHAIHVSGTNGTKRFDNPVLPFNDGVYFASTEKSNIIRGWIFGTTLDSKTQSLLIVNNATNVVIKVCEFQFCNDPFLGVYYHKNNKSWMESEFRVYSSANNCTFEYVSQPFLMDLEGKQGNFKNLREFVFKNIDGYFKIYSKHTPINLVRDLPQGFSALEPLVDLPIGINITRFQTLLALHRSYLTPGDSSSGWTAGAAAYYVGYLQPRTFLLKYNENGTITDAVDCALDPLSETKCTLKSFTVEKGIYQTSNFRVQPTESIVRFPNITNLCPFGEVFNATRFASVYAWNRKRISNCVADYSVLYNSASFSTFKCYGVSPTKLNDLCFTNVYADSFVIRGDEVRQIAPGQTGKIADYNYKLPDDFTGCVIAWNSNNLDSKVGGNYNYLYRLFRKSNLKPFERDISTEIYQAGSTPCNGVEGFNCYFPLQSYGFQPTNGVGYQPYRVVVLSFELLHAPATVCGPKKSTNLVKNKCVNFNFNGLTGTGVLTESNKKFLPFQQFGRDIADTTDAVRDPQTLEILDITPCSFGGVSVITPGTNTSNQVAVLYQDVNCTEVPVAIHADQLTPTWRVYSTGSNVFQTRAGCLIGAEHVNNSYECDIPIGAGICASYQTQTNSPRRARSVASQSIIAYTMSLGAENSVAYSNNSIAIPTNFTISVTTEILPVSMTKTSVDCTMYICGDSTECSNLLLQYGSFCTQLNRALTGIAVEQDKNTQEVFAQVKQIYKTPPIKDFGGFNFSQILPDPSKPSKRSFIEDLLFNKVTLADAGFIKQYGDCLGDIAARDLICAQKFNGLTVLPPLLTDEMIAQYTSALLAGTITSGWTFGAGAALQIPFAMQMAYRFNGIGVTQNVLYENQKLIANQFNSAIGKIQDSLSSTASALGKLQDVVNQNAQALNTLVKQLSSNFGAISSVLNDILSRLDKVEAEVQIDRLITGRLQSLQTYVTQQLIRAAEIRASANLAATKMSECVLGQSKRVDFCGKGYHLMSFPQSAPHGVVFLHVTYVPAQEKNFTTAPAICHDGKAHFPREGVFVSNGTHWFVTQRNFYEPQIITTDNTFVSGNCDVVIGIVNNTVYDPLQPELDSFKEELDKYFKNHTSPDVDLGDISGINASVVNIQKEIDRLNEVAKNLNESLIDLQELGKYEQYIKWPWYIWLGFIAGLIAIVMVTIMLCCMTSCCSCLKGCCSCGSCCKFDEDDSEPVLKGVKLHYT\""
   ]
  },
  {
   "cell_type": "code",
   "execution_count": 15,
   "metadata": {
    "colab": {
     "base_uri": "https://localhost:8080/"
    },
    "id": "R0Y_-Wg8CJOV",
    "outputId": "52c860cd-3461-46f4-cf7f-551c68c2385f",
    "tags": []
   },
   "outputs": [
    {
     "data": {
      "text/plain": [
       "1273"
      ]
     },
     "execution_count": 15,
     "metadata": {},
     "output_type": "execute_result"
    }
   ],
   "source": [
    "len(basesequence)"
   ]
  },
  {
   "cell_type": "code",
   "execution_count": 16,
   "metadata": {
    "colab": {
     "base_uri": "https://localhost:8080/",
     "height": 35
    },
    "id": "geVrTq5Kj_lK",
    "outputId": "217b40bf-54a8-45e9-c282-2b0e2839c437",
    "tags": []
   },
   "outputs": [
    {
     "data": {
      "text/plain": [
       "'C:\\\\Users\\\\Utente\\\\Desktop\\\\SARSCoV2_variants_PCN\\\\Data\\\\'"
      ]
     },
     "execution_count": 16,
     "metadata": {},
     "output_type": "execute_result"
    }
   ],
   "source": [
    "basepath"
   ]
  },
  {
   "cell_type": "code",
   "execution_count": 17,
   "metadata": {
    "id": "woRHRp1ahuMs",
    "tags": []
   },
   "outputs": [],
   "source": [
    "def create_sequence(basesequence, muts, inss, dels):\n",
    "    for mut in muts:\n",
    "        print(\"Single aa mutation: \", mut)\n",
    "        to_aa = mut[-1]\n",
    "        from_aa = mut[0]\n",
    "        id_aa = mut[1:-2]\n",
    "        if basesequence[id_aa] == from_aa:\n",
    "            basesequence[id_aa] = to_aa\n",
    "        else:\n",
    "            print(\"{} and {} doesn't match\".format(basesequence[id_aa], from_aa))\n",
    "      \n",
    "    for ins in inss:\n",
    "        print(\"Insert aa: \", ins)\n",
    "\n",
    "    for del_ in dels:\n",
    "        print(\"aa deletion: \", del_)\n"
   ]
  },
  {
   "cell_type": "code",
   "execution_count": 18,
   "metadata": {
    "id": "tDJ_Bf_2id05",
    "tags": []
   },
   "outputs": [],
   "source": [
    "def printProgressBar (iteration, total):\n",
    "\n",
    "    length = 100\n",
    "    fill = '█'\n",
    "    printEnd = '\\r'\n",
    "    percent = (\"{0:.\" + str(2) + \"f}\").format(100 * (iteration / float(total)))\n",
    "    filledLength = int(length * iteration // total)\n",
    "    bar = fill * filledLength + '-' * (length - filledLength)\n",
    "    print(f\"\\r |{bar}| Current progress: {percent}%\", end = printEnd)\n",
    "    sys.stdout.flush()\n",
    "    \n",
    "    if percent == 100:\n",
    "        print()"
   ]
  },
  {
   "cell_type": "code",
   "execution_count": 19,
   "metadata": {
    "id": "lhzYnUtTkMba",
    "tags": []
   },
   "outputs": [],
   "source": [
    "def adjacent_matrix(output_path, coordinates, min_=4, max_=8, mutations = None):\n",
    "    from sklearn.metrics import pairwise_distances\n",
    "    \"\"\"\n",
    "    Parallel computation of the adjacency matrix.\n",
    "    Parameters:\n",
    "        output_path: string, is the output file path.\n",
    "        coordinates: np.array, contains the euclidean distance between the alpha carbon of the amino acids of the proteins.\n",
    "        min_: float, is the minimum threshold distance for extract only the non covalent interactions between amino acids.\n",
    "        max_: float, is the maximum threshold distance for extract only the significant interactions between amino acids.\n",
    "    Returns: adj\n",
    "    \"\"\"\n",
    "\n",
    "    n = coordinates.shape[0]\n",
    "    cords = np.hstack(coordinates[:,1]).reshape(n,3)\n",
    "    adj = np.zeros((n,n))\n",
    "    #d = np.zeros((n,n), dtype=float)\n",
    "    d = pairwise_distances(X = cords, n_jobs = -1)\n",
    "\n",
    "    value = 0\n",
    "    printProgressBar(value, n)\n",
    "\n",
    "    for i in range(n):\n",
    "        for j in range(i):\n",
    "            if ((d[i][j]>min_) and (d[i][j]<max_)):\n",
    "                adj[i][j] = 1\n",
    "                adj[j][i] = 1\n",
    "\n",
    "        printProgressBar(i + 1, n)\n",
    "\n",
    "    printProgressBar(i + 1, n)\n",
    "    \n",
    "\n",
    "    if not os.path.exists(\"{}Adj_Swiss\".format(output_path)):\n",
    "        os.makedirs(\"{}Adj_Swiss\".format(output_path))\n",
    "    if mutations is not None:\n",
    "                # Save\n",
    "        if isinstance(mutations, list):\n",
    "            if len(mutations)>1:\n",
    "                str_mut = \"\"\n",
    "                for mut in mutations:\n",
    "                    str_mut += \"{}_\".format(mut)\n",
    "                str_mut = str_mut[:-2]\n",
    "            else:\n",
    "                str_mut = mutations[0]\n",
    "        else:\n",
    "            str_mut = mutations\n",
    "        np.savetxt(\"{}Adj_Swiss\\\\6VXX_{}_adj_mat_{}_{}.txt\".format(output_path, str_mut, min_, max_), adj, fmt='%.2f')\n",
    "    else: \n",
    "        np.savetxt(\"{}Adj_Swiss\\\\6VXX_adj_mat_{}_{}.txt\".format(output_path, min_, max_), adj, fmt='%.2f')\n",
    "    print(\"saved adj matrix\")\n",
    "\n",
    "    return adj"
   ]
  },
  {
   "cell_type": "code",
   "execution_count": 20,
   "metadata": {
    "id": "fmC58tJUmocU",
    "tags": []
   },
   "outputs": [],
   "source": [
    "def readPDBFile(pdbFilePath):\n",
    "    \"\"\"\n",
    "    Read the pdb file.\n",
    "    Parameters:\n",
    "        pdbFilePath: string, is the complete PDB file path to read.\n",
    "    Returns:\n",
    "        atoms: np.array, contains all the informations contained in the 'ATOM' key of the pdb files.\n",
    "    \"\"\"\n",
    "\n",
    "    atoms = []\n",
    "    with open(pdbFilePath) as pdbfile:\n",
    "        for line in pdbfile:\n",
    "            if line[:4] == 'ATOM':\n",
    "                #split the line\n",
    "                splitted_line = [line[:6], line[6:11], line[12:16], line[17:20], line[21], line[22:26], line[30:38], line[38:46], line[46:54], line[56:61], line[62:66]]\n",
    "                atoms.append(splitted_line)\n",
    "    return np.array(atoms)"
   ]
  },
  {
   "cell_type": "code",
   "execution_count": 21,
   "metadata": {
    "tags": []
   },
   "outputs": [],
   "source": [
    "#!conda install -c conda-forge -c schrodinger pymol-bundle"
   ]
  },
  {
   "cell_type": "code",
   "execution_count": 22,
   "metadata": {
    "id": "0lcJ4mLPKkbC",
    "tags": []
   },
   "outputs": [],
   "source": [
    "#import pymol\n",
    "#from pymol import cmd\n",
    "#from pymol import stored\n",
    "#from pymol import selector"
   ]
  },
  {
   "cell_type": "code",
   "execution_count": 23,
   "metadata": {
    "id": "wDbx_nkfJxGg",
    "tags": []
   },
   "outputs": [],
   "source": [
    "def create_pdb_with_mutations(pdbFilePath, mutations, outfilename = None):\n",
    "  \n",
    "    all_res_names = {\n",
    "        \"A\":\"ALA\",\n",
    "        \"C\":\"CYS\",\n",
    "        \"D\":\"ASP\",\n",
    "        \"E\":\"GLU\",\n",
    "        \"F\":\"PHE\",\n",
    "        \"G\":\"GLY\",\n",
    "        \"H\":\"HIS\",\n",
    "        \"I\":\"ILE\",\n",
    "        \"K\":\"LYS\",\n",
    "        \"L\":\"LEU\",\n",
    "        \"M\":\"MET\",\n",
    "        \"N\":\"ASN\",\n",
    "        \"P\":\"PRO\",\n",
    "        \"Q\":\"GLN\",\n",
    "        \"R\":\"ARG\",\n",
    "        \"S\":\"SER\",\n",
    "        \"T\":\"THR\",\n",
    "        \"V\":\"VAL\",\n",
    "        \"W\":\"TRP\",\n",
    "        \"Y\":\"TYR\"\n",
    "    }\n",
    "    for mutation in mutations:\n",
    "        \n",
    "        from_resn_1 = mutation[0]\n",
    "        resi = mutation[1:len(mutation)-1]\n",
    "        to_resn_1 = mutation[-1]\n",
    "        to_resn_3 = all_res_names[to_resn_1]\n",
    "\n",
    "        spike = \"6VXX\"\n",
    "        cmd.load(pdbFilePath) \n",
    "        spike_chains = [\"A\", \"B\", \"C\"]\n",
    "\n",
    "        print(\"Mutating resi {} from {} to {}...\".format(resi, from_resn_1, to_resn_1))\n",
    "        for chain in spike_chains:\n",
    "            cmd.wizard(\"mutagenesis\")\n",
    "            cmd.refresh_wizard()  \n",
    "\n",
    "            # Mutate\n",
    "            cmd.get_wizard().set_mode(\"{}\".format(to_resn_3))\n",
    "            cmd.get_wizard().do_select(\"{}/{}/\".format(chain, resi))\n",
    "            cmd.frame(\"1\")\n",
    "            cmd.get_wizard().apply()\n",
    "            cmd.set_wizard(\"\")\n",
    "\n",
    "        if isinstance(mutations, list):\n",
    "            if len(mutations)>1:\n",
    "                str_mut = \"\"\n",
    "                for mut in mutations:\n",
    "                    str_mut += \"{}_\".format(mut)\n",
    "                str_mut = str_mut[:-2]\n",
    "            else:\n",
    "                str_mut = mutations[0]\n",
    "        else:\n",
    "            str_mut = mutations\n",
    "        \n",
    "    if outfilename is None:\n",
    "        cmd.save(pdbSwissFilesPath+\"{}_{}.pdb\".format(spike, str_mut)) \n",
    "    else:\n",
    "        cmd.save(outfilename)\n",
    "        \n",
    "    cmd.delete(\"all\")"
   ]
  },
  {
   "cell_type": "code",
   "execution_count": 24,
   "metadata": {
    "id": "sk1-zTJDkOhB",
    "tags": []
   },
   "outputs": [],
   "source": [
    "def getResidueCoordinates(atoms):\n",
    "    \"\"\"\n",
    "    Compute the distances between the alpha carbons of the amino acids.\n",
    "    Parameters:\n",
    "        atoms: np.array, contains all the informations contained in the 'ATOM' key of the pdb files.\n",
    "    Returns:\n",
    "        coordinates: np.array, contains alpha carbon coordinates of the amino acids of the proteins.\n",
    "    \"\"\"\n",
    "    coordinates = []\n",
    "    residues_list = ['ALA', 'CYS', 'ASP', 'GLU', 'PHE', 'GLY', 'HIS', 'ILE', 'LYS',\n",
    "                   'LEU', 'MET', 'ASN', 'PRO', 'GLN', 'ARG', 'SER', 'THR', 'VAL',\n",
    "                   'TRP', 'TYR']\n",
    "\n",
    "    dropped = []\n",
    "\n",
    "    last_residue_num = 0\n",
    "\n",
    "    for i, atom in enumerate(atoms):\n",
    "\n",
    "        residue_name = atom[3]\n",
    "        residue_chain = atom[4]\n",
    "        residue_num = int (atom[5])\n",
    "\n",
    "        if residue_name in residues_list:\n",
    "\n",
    "            if (residue_num != last_residue_num):\n",
    "\n",
    "                if (atom[2].replace(\" \",\"\")==\"CA\"):\n",
    "                    cord_C = atom[6:9]\n",
    "                    coordinates.append([residue_name + str (residue_num) + \" \" + residue_chain, cord_C])\n",
    "                    last_residue_num = residue_num\n",
    "\n",
    "        else:\n",
    "            dropped.append(residue_name)\n",
    "\n",
    "    return np.array(coordinates)\n"
   ]
  },
  {
   "cell_type": "code",
   "execution_count": 25,
   "metadata": {
    "tags": []
   },
   "outputs": [],
   "source": [
    "def compute_tm_score(pdbWTpath, pdbFilePath):\n",
    "    alignment = tmscoring.TMscoring(pdbWTpath, pdbFilePath)\n",
    "    # Find the optimal alignment\n",
    "    alignment.optimise()\n",
    "    # Get the TM score:\n",
    "    tm_score = alignment.tmscore(**alignment.get_current_values())\n",
    "    return tm_score"
   ]
  },
  {
   "cell_type": "code",
   "execution_count": 26,
   "metadata": {
    "tags": []
   },
   "outputs": [],
   "source": [
    "def compute_contact_similarity_matrix(A1, A2):\n",
    "    diff = A1 != A2\n",
    "    contact_sim = np.zeros((diff.shape[0], diff.shape[1]))\n",
    "    for i in range (diff.shape[0]):\n",
    "        for j in range (diff.shape[1]):\n",
    "            elem = diff[i][j]\n",
    "            if elem == True: #contact difference\n",
    "                contact_sim[i, j] = 1.0\n",
    "            else:\n",
    "                contact_sim[i, j] = 0.0\n",
    "    return contact_sim\n",
    "\n",
    "def plot_contact_sim(contact_sim, var1, var2):\n",
    "    import plotly.graph_objects as go\n",
    "    n = contact_sim.shape[0]\n",
    "    fig = go.Figure(data=go.Heatmap(\n",
    "                      z=contact_sim,\n",
    "                      x=np.arange(0, n),\n",
    "                      y=np.arange(0, n),\n",
    "                      colorscale='OrRd'\n",
    "                    )\n",
    "                 )\n",
    "    #fig.show()    \n",
    "    return fig\n",
    "\n",
    "def compute_contact_similarity(contact_sim_matrix):\n",
    "    n, m = contact_sim_matrix.shape\n",
    "    total = n*m\n",
    "    n_diff_contacts = np.count_nonzero(contact_sim_matrix)\n",
    "    return ((total-n_diff_contacts)/total)*100.0"
   ]
  },
  {
   "cell_type": "code",
   "execution_count": 27,
   "metadata": {
    "tags": []
   },
   "outputs": [
    {
     "data": {
      "text/html": [
       "<div>\n",
       "<style scoped>\n",
       "    .dataframe tbody tr th:only-of-type {\n",
       "        vertical-align: middle;\n",
       "    }\n",
       "\n",
       "    .dataframe tbody tr th {\n",
       "        vertical-align: top;\n",
       "    }\n",
       "\n",
       "    .dataframe thead th {\n",
       "        text-align: right;\n",
       "    }\n",
       "</style>\n",
       "<table border=\"1\" class=\"dataframe\">\n",
       "  <thead>\n",
       "    <tr style=\"text-align: right;\">\n",
       "      <th></th>\n",
       "      <th>Chain</th>\n",
       "      <th>Wild type AA</th>\n",
       "      <th>Residue ID</th>\n",
       "      <th>Amino acid</th>\n",
       "      <th>Overall Stability</th>\n",
       "      <th>Torsion</th>\n",
       "      <th>Predicted DDG (kcal/mol)</th>\n",
       "    </tr>\n",
       "  </thead>\n",
       "  <tbody>\n",
       "    <tr>\n",
       "      <th>0</th>\n",
       "      <td>A</td>\n",
       "      <td>GLN</td>\n",
       "      <td>14</td>\n",
       "      <td>GLY</td>\n",
       "      <td>Destabilising</td>\n",
       "      <td>Favourable</td>\n",
       "      <td>-1.35</td>\n",
       "    </tr>\n",
       "    <tr>\n",
       "      <th>1</th>\n",
       "      <td>A</td>\n",
       "      <td>GLN</td>\n",
       "      <td>14</td>\n",
       "      <td>ALA</td>\n",
       "      <td>Destabilising</td>\n",
       "      <td>Favourable</td>\n",
       "      <td>-0.93</td>\n",
       "    </tr>\n",
       "    <tr>\n",
       "      <th>2</th>\n",
       "      <td>A</td>\n",
       "      <td>GLN</td>\n",
       "      <td>14</td>\n",
       "      <td>VAL</td>\n",
       "      <td>Destabilising</td>\n",
       "      <td>Unfavourable</td>\n",
       "      <td>-1.64</td>\n",
       "    </tr>\n",
       "    <tr>\n",
       "      <th>3</th>\n",
       "      <td>A</td>\n",
       "      <td>GLN</td>\n",
       "      <td>14</td>\n",
       "      <td>LEU</td>\n",
       "      <td>Destabilising</td>\n",
       "      <td>Favourable</td>\n",
       "      <td>-1.52</td>\n",
       "    </tr>\n",
       "    <tr>\n",
       "      <th>4</th>\n",
       "      <td>A</td>\n",
       "      <td>GLN</td>\n",
       "      <td>14</td>\n",
       "      <td>ILE</td>\n",
       "      <td>Destabilising</td>\n",
       "      <td>Unfavourable</td>\n",
       "      <td>-1.80</td>\n",
       "    </tr>\n",
       "    <tr>\n",
       "      <th>...</th>\n",
       "      <td>...</td>\n",
       "      <td>...</td>\n",
       "      <td>...</td>\n",
       "      <td>...</td>\n",
       "      <td>...</td>\n",
       "      <td>...</td>\n",
       "      <td>...</td>\n",
       "    </tr>\n",
       "    <tr>\n",
       "      <th>64462</th>\n",
       "      <td>C</td>\n",
       "      <td>GLU</td>\n",
       "      <td>1144</td>\n",
       "      <td>ASN</td>\n",
       "      <td>Destabilising</td>\n",
       "      <td>Favourable</td>\n",
       "      <td>-1.90</td>\n",
       "    </tr>\n",
       "    <tr>\n",
       "      <th>64463</th>\n",
       "      <td>C</td>\n",
       "      <td>GLU</td>\n",
       "      <td>1144</td>\n",
       "      <td>CYS</td>\n",
       "      <td>Stabilising</td>\n",
       "      <td>Unfavourable</td>\n",
       "      <td>0.10</td>\n",
       "    </tr>\n",
       "    <tr>\n",
       "      <th>64464</th>\n",
       "      <td>C</td>\n",
       "      <td>GLU</td>\n",
       "      <td>1144</td>\n",
       "      <td>ASP</td>\n",
       "      <td>Destabilising</td>\n",
       "      <td>Favourable</td>\n",
       "      <td>-0.97</td>\n",
       "    </tr>\n",
       "    <tr>\n",
       "      <th>64465</th>\n",
       "      <td>C</td>\n",
       "      <td>GLU</td>\n",
       "      <td>1144</td>\n",
       "      <td>ARG</td>\n",
       "      <td>Destabilising</td>\n",
       "      <td>Unfavourable</td>\n",
       "      <td>-1.01</td>\n",
       "    </tr>\n",
       "    <tr>\n",
       "      <th>64466</th>\n",
       "      <td>C</td>\n",
       "      <td>GLU</td>\n",
       "      <td>1144</td>\n",
       "      <td>HIS</td>\n",
       "      <td>Destabilising</td>\n",
       "      <td>Favourable</td>\n",
       "      <td>-3.75</td>\n",
       "    </tr>\n",
       "  </tbody>\n",
       "</table>\n",
       "<p>64467 rows × 7 columns</p>\n",
       "</div>"
      ],
      "text/plain": [
       "      Chain Wild type AA  Residue ID Amino acid Overall Stability   \n",
       "0         A          GLN          14        GLY     Destabilising  \\\n",
       "1         A          GLN          14        ALA     Destabilising   \n",
       "2         A          GLN          14        VAL     Destabilising   \n",
       "3         A          GLN          14        LEU     Destabilising   \n",
       "4         A          GLN          14        ILE     Destabilising   \n",
       "...     ...          ...         ...        ...               ...   \n",
       "64462     C          GLU        1144        ASN     Destabilising   \n",
       "64463     C          GLU        1144        CYS       Stabilising   \n",
       "64464     C          GLU        1144        ASP     Destabilising   \n",
       "64465     C          GLU        1144        ARG     Destabilising   \n",
       "64466     C          GLU        1144        HIS     Destabilising   \n",
       "\n",
       "            Torsion  Predicted DDG (kcal/mol)  \n",
       "0        Favourable                     -1.35  \n",
       "1        Favourable                     -0.93  \n",
       "2      Unfavourable                     -1.64  \n",
       "3        Favourable                     -1.52  \n",
       "4      Unfavourable                     -1.80  \n",
       "...             ...                       ...  \n",
       "64462    Favourable                     -1.90  \n",
       "64463  Unfavourable                      0.10  \n",
       "64464    Favourable                     -0.97  \n",
       "64465  Unfavourable                     -1.01  \n",
       "64466    Favourable                     -3.75  \n",
       "\n",
       "[64467 rows x 7 columns]"
      ]
     },
     "execution_count": 27,
     "metadata": {},
     "output_type": "execute_result"
    }
   ],
   "source": [
    "import pandas as pd\n",
    "\n",
    "df = pd.read_csv(\"Data\\cupsat_prediction_6vxxpdb_thermal_8F38B585EA3FF7EEDD431875ADDACDF6.csv\", sep = ';', header = 0)\n",
    "df "
   ]
  },
  {
   "cell_type": "code",
   "execution_count": 28,
   "metadata": {
    "tags": []
   },
   "outputs": [],
   "source": [
    "df_groupped = df.groupby(\"Residue ID\")"
   ]
  },
  {
   "cell_type": "code",
   "execution_count": 29,
   "metadata": {
    "tags": []
   },
   "outputs": [
    {
     "data": {
      "text/html": [
       "<div>\n",
       "<style scoped>\n",
       "    .dataframe tbody tr th:only-of-type {\n",
       "        vertical-align: middle;\n",
       "    }\n",
       "\n",
       "    .dataframe tbody tr th {\n",
       "        vertical-align: top;\n",
       "    }\n",
       "\n",
       "    .dataframe thead th {\n",
       "        text-align: right;\n",
       "    }\n",
       "</style>\n",
       "<table border=\"1\" class=\"dataframe\">\n",
       "  <thead>\n",
       "    <tr style=\"text-align: right;\">\n",
       "      <th></th>\n",
       "      <th>Chain</th>\n",
       "      <th>Wild type AA</th>\n",
       "      <th>Residue ID</th>\n",
       "      <th>Amino acid</th>\n",
       "      <th>Overall Stability</th>\n",
       "      <th>Torsion</th>\n",
       "      <th>Predicted DDG (kcal/mol)</th>\n",
       "    </tr>\n",
       "  </thead>\n",
       "  <tbody>\n",
       "    <tr>\n",
       "      <th>0</th>\n",
       "      <td>A</td>\n",
       "      <td>GLN</td>\n",
       "      <td>14</td>\n",
       "      <td>GLY</td>\n",
       "      <td>Destabilising</td>\n",
       "      <td>Favourable</td>\n",
       "      <td>-1.35</td>\n",
       "    </tr>\n",
       "    <tr>\n",
       "      <th>1</th>\n",
       "      <td>A</td>\n",
       "      <td>GLN</td>\n",
       "      <td>14</td>\n",
       "      <td>ALA</td>\n",
       "      <td>Destabilising</td>\n",
       "      <td>Favourable</td>\n",
       "      <td>-0.93</td>\n",
       "    </tr>\n",
       "    <tr>\n",
       "      <th>2</th>\n",
       "      <td>A</td>\n",
       "      <td>GLN</td>\n",
       "      <td>14</td>\n",
       "      <td>VAL</td>\n",
       "      <td>Destabilising</td>\n",
       "      <td>Unfavourable</td>\n",
       "      <td>-1.64</td>\n",
       "    </tr>\n",
       "    <tr>\n",
       "      <th>3</th>\n",
       "      <td>A</td>\n",
       "      <td>GLN</td>\n",
       "      <td>14</td>\n",
       "      <td>LEU</td>\n",
       "      <td>Destabilising</td>\n",
       "      <td>Favourable</td>\n",
       "      <td>-1.52</td>\n",
       "    </tr>\n",
       "    <tr>\n",
       "      <th>4</th>\n",
       "      <td>A</td>\n",
       "      <td>GLN</td>\n",
       "      <td>14</td>\n",
       "      <td>ILE</td>\n",
       "      <td>Destabilising</td>\n",
       "      <td>Unfavourable</td>\n",
       "      <td>-1.80</td>\n",
       "    </tr>\n",
       "    <tr>\n",
       "      <th>5</th>\n",
       "      <td>A</td>\n",
       "      <td>GLN</td>\n",
       "      <td>14</td>\n",
       "      <td>MET</td>\n",
       "      <td>Destabilising</td>\n",
       "      <td>Unfavourable</td>\n",
       "      <td>-4.56</td>\n",
       "    </tr>\n",
       "    <tr>\n",
       "      <th>6</th>\n",
       "      <td>A</td>\n",
       "      <td>GLN</td>\n",
       "      <td>14</td>\n",
       "      <td>PRO</td>\n",
       "      <td>Stabilising</td>\n",
       "      <td>Favourable</td>\n",
       "      <td>0.20</td>\n",
       "    </tr>\n",
       "    <tr>\n",
       "      <th>7</th>\n",
       "      <td>A</td>\n",
       "      <td>GLN</td>\n",
       "      <td>14</td>\n",
       "      <td>TRP</td>\n",
       "      <td>Destabilising</td>\n",
       "      <td>Unfavourable</td>\n",
       "      <td>-2.89</td>\n",
       "    </tr>\n",
       "    <tr>\n",
       "      <th>8</th>\n",
       "      <td>A</td>\n",
       "      <td>GLN</td>\n",
       "      <td>14</td>\n",
       "      <td>SER</td>\n",
       "      <td>Destabilising</td>\n",
       "      <td>Unfavourable</td>\n",
       "      <td>-0.91</td>\n",
       "    </tr>\n",
       "    <tr>\n",
       "      <th>9</th>\n",
       "      <td>A</td>\n",
       "      <td>GLN</td>\n",
       "      <td>14</td>\n",
       "      <td>THR</td>\n",
       "      <td>Destabilising</td>\n",
       "      <td>Unfavourable</td>\n",
       "      <td>-0.89</td>\n",
       "    </tr>\n",
       "    <tr>\n",
       "      <th>10</th>\n",
       "      <td>A</td>\n",
       "      <td>GLN</td>\n",
       "      <td>14</td>\n",
       "      <td>PHE</td>\n",
       "      <td>Destabilising</td>\n",
       "      <td>Unfavourable</td>\n",
       "      <td>-1.52</td>\n",
       "    </tr>\n",
       "    <tr>\n",
       "      <th>11</th>\n",
       "      <td>A</td>\n",
       "      <td>GLN</td>\n",
       "      <td>14</td>\n",
       "      <td>LYS</td>\n",
       "      <td>Destabilising</td>\n",
       "      <td>Favourable</td>\n",
       "      <td>-1.11</td>\n",
       "    </tr>\n",
       "    <tr>\n",
       "      <th>12</th>\n",
       "      <td>A</td>\n",
       "      <td>GLN</td>\n",
       "      <td>14</td>\n",
       "      <td>TYR</td>\n",
       "      <td>Destabilising</td>\n",
       "      <td>Favourable</td>\n",
       "      <td>-0.22</td>\n",
       "    </tr>\n",
       "    <tr>\n",
       "      <th>13</th>\n",
       "      <td>A</td>\n",
       "      <td>GLN</td>\n",
       "      <td>14</td>\n",
       "      <td>ASN</td>\n",
       "      <td>Destabilising</td>\n",
       "      <td>Unfavourable</td>\n",
       "      <td>-1.54</td>\n",
       "    </tr>\n",
       "    <tr>\n",
       "      <th>14</th>\n",
       "      <td>A</td>\n",
       "      <td>GLN</td>\n",
       "      <td>14</td>\n",
       "      <td>CYS</td>\n",
       "      <td>Destabilising</td>\n",
       "      <td>Unfavourable</td>\n",
       "      <td>-0.04</td>\n",
       "    </tr>\n",
       "    <tr>\n",
       "      <th>15</th>\n",
       "      <td>A</td>\n",
       "      <td>GLN</td>\n",
       "      <td>14</td>\n",
       "      <td>GLU</td>\n",
       "      <td>Stabilising</td>\n",
       "      <td>Unfavourable</td>\n",
       "      <td>0.77</td>\n",
       "    </tr>\n",
       "    <tr>\n",
       "      <th>16</th>\n",
       "      <td>A</td>\n",
       "      <td>GLN</td>\n",
       "      <td>14</td>\n",
       "      <td>ASP</td>\n",
       "      <td>Destabilising</td>\n",
       "      <td>Unfavourable</td>\n",
       "      <td>-0.21</td>\n",
       "    </tr>\n",
       "    <tr>\n",
       "      <th>17</th>\n",
       "      <td>A</td>\n",
       "      <td>GLN</td>\n",
       "      <td>14</td>\n",
       "      <td>ARG</td>\n",
       "      <td>Stabilising</td>\n",
       "      <td>Favourable</td>\n",
       "      <td>1.85</td>\n",
       "    </tr>\n",
       "    <tr>\n",
       "      <th>18</th>\n",
       "      <td>A</td>\n",
       "      <td>GLN</td>\n",
       "      <td>14</td>\n",
       "      <td>HIS</td>\n",
       "      <td>Destabilising</td>\n",
       "      <td>Unfavourable</td>\n",
       "      <td>-1.92</td>\n",
       "    </tr>\n",
       "    <tr>\n",
       "      <th>21489</th>\n",
       "      <td>B</td>\n",
       "      <td>GLN</td>\n",
       "      <td>14</td>\n",
       "      <td>GLY</td>\n",
       "      <td>Destabilising</td>\n",
       "      <td>Favourable</td>\n",
       "      <td>-1.75</td>\n",
       "    </tr>\n",
       "    <tr>\n",
       "      <th>21490</th>\n",
       "      <td>B</td>\n",
       "      <td>GLN</td>\n",
       "      <td>14</td>\n",
       "      <td>ALA</td>\n",
       "      <td>Destabilising</td>\n",
       "      <td>Favourable</td>\n",
       "      <td>-1.66</td>\n",
       "    </tr>\n",
       "    <tr>\n",
       "      <th>21491</th>\n",
       "      <td>B</td>\n",
       "      <td>GLN</td>\n",
       "      <td>14</td>\n",
       "      <td>VAL</td>\n",
       "      <td>Destabilising</td>\n",
       "      <td>Unfavourable</td>\n",
       "      <td>-2.55</td>\n",
       "    </tr>\n",
       "    <tr>\n",
       "      <th>21492</th>\n",
       "      <td>B</td>\n",
       "      <td>GLN</td>\n",
       "      <td>14</td>\n",
       "      <td>LEU</td>\n",
       "      <td>Destabilising</td>\n",
       "      <td>Favourable</td>\n",
       "      <td>-2.12</td>\n",
       "    </tr>\n",
       "    <tr>\n",
       "      <th>21493</th>\n",
       "      <td>B</td>\n",
       "      <td>GLN</td>\n",
       "      <td>14</td>\n",
       "      <td>ILE</td>\n",
       "      <td>Destabilising</td>\n",
       "      <td>Unfavourable</td>\n",
       "      <td>-0.23</td>\n",
       "    </tr>\n",
       "    <tr>\n",
       "      <th>21494</th>\n",
       "      <td>B</td>\n",
       "      <td>GLN</td>\n",
       "      <td>14</td>\n",
       "      <td>MET</td>\n",
       "      <td>Destabilising</td>\n",
       "      <td>Unfavourable</td>\n",
       "      <td>-3.52</td>\n",
       "    </tr>\n",
       "    <tr>\n",
       "      <th>21495</th>\n",
       "      <td>B</td>\n",
       "      <td>GLN</td>\n",
       "      <td>14</td>\n",
       "      <td>PRO</td>\n",
       "      <td>Stabilising</td>\n",
       "      <td>Favourable</td>\n",
       "      <td>0.93</td>\n",
       "    </tr>\n",
       "    <tr>\n",
       "      <th>21496</th>\n",
       "      <td>B</td>\n",
       "      <td>GLN</td>\n",
       "      <td>14</td>\n",
       "      <td>TRP</td>\n",
       "      <td>Destabilising</td>\n",
       "      <td>Unfavourable</td>\n",
       "      <td>-6.04</td>\n",
       "    </tr>\n",
       "    <tr>\n",
       "      <th>21497</th>\n",
       "      <td>B</td>\n",
       "      <td>GLN</td>\n",
       "      <td>14</td>\n",
       "      <td>SER</td>\n",
       "      <td>Destabilising</td>\n",
       "      <td>Unfavourable</td>\n",
       "      <td>-1.11</td>\n",
       "    </tr>\n",
       "    <tr>\n",
       "      <th>21498</th>\n",
       "      <td>B</td>\n",
       "      <td>GLN</td>\n",
       "      <td>14</td>\n",
       "      <td>THR</td>\n",
       "      <td>Destabilising</td>\n",
       "      <td>Unfavourable</td>\n",
       "      <td>-1.25</td>\n",
       "    </tr>\n",
       "    <tr>\n",
       "      <th>21499</th>\n",
       "      <td>B</td>\n",
       "      <td>GLN</td>\n",
       "      <td>14</td>\n",
       "      <td>PHE</td>\n",
       "      <td>Destabilising</td>\n",
       "      <td>Unfavourable</td>\n",
       "      <td>-0.15</td>\n",
       "    </tr>\n",
       "    <tr>\n",
       "      <th>21500</th>\n",
       "      <td>B</td>\n",
       "      <td>GLN</td>\n",
       "      <td>14</td>\n",
       "      <td>LYS</td>\n",
       "      <td>Destabilising</td>\n",
       "      <td>Favourable</td>\n",
       "      <td>-0.86</td>\n",
       "    </tr>\n",
       "    <tr>\n",
       "      <th>21501</th>\n",
       "      <td>B</td>\n",
       "      <td>GLN</td>\n",
       "      <td>14</td>\n",
       "      <td>TYR</td>\n",
       "      <td>Stabilising</td>\n",
       "      <td>Favourable</td>\n",
       "      <td>0.30</td>\n",
       "    </tr>\n",
       "    <tr>\n",
       "      <th>21502</th>\n",
       "      <td>B</td>\n",
       "      <td>GLN</td>\n",
       "      <td>14</td>\n",
       "      <td>ASN</td>\n",
       "      <td>Destabilising</td>\n",
       "      <td>Unfavourable</td>\n",
       "      <td>-1.46</td>\n",
       "    </tr>\n",
       "    <tr>\n",
       "      <th>21503</th>\n",
       "      <td>B</td>\n",
       "      <td>GLN</td>\n",
       "      <td>14</td>\n",
       "      <td>CYS</td>\n",
       "      <td>Stabilising</td>\n",
       "      <td>Unfavourable</td>\n",
       "      <td>1.61</td>\n",
       "    </tr>\n",
       "    <tr>\n",
       "      <th>21504</th>\n",
       "      <td>B</td>\n",
       "      <td>GLN</td>\n",
       "      <td>14</td>\n",
       "      <td>GLU</td>\n",
       "      <td>Stabilising</td>\n",
       "      <td>Unfavourable</td>\n",
       "      <td>0.17</td>\n",
       "    </tr>\n",
       "    <tr>\n",
       "      <th>21505</th>\n",
       "      <td>B</td>\n",
       "      <td>GLN</td>\n",
       "      <td>14</td>\n",
       "      <td>ASP</td>\n",
       "      <td>Destabilising</td>\n",
       "      <td>Unfavourable</td>\n",
       "      <td>-0.14</td>\n",
       "    </tr>\n",
       "    <tr>\n",
       "      <th>21506</th>\n",
       "      <td>B</td>\n",
       "      <td>GLN</td>\n",
       "      <td>14</td>\n",
       "      <td>ARG</td>\n",
       "      <td>Stabilising</td>\n",
       "      <td>Favourable</td>\n",
       "      <td>1.81</td>\n",
       "    </tr>\n",
       "    <tr>\n",
       "      <th>21507</th>\n",
       "      <td>B</td>\n",
       "      <td>GLN</td>\n",
       "      <td>14</td>\n",
       "      <td>HIS</td>\n",
       "      <td>Destabilising</td>\n",
       "      <td>Unfavourable</td>\n",
       "      <td>-1.99</td>\n",
       "    </tr>\n",
       "    <tr>\n",
       "      <th>42978</th>\n",
       "      <td>C</td>\n",
       "      <td>GLN</td>\n",
       "      <td>14</td>\n",
       "      <td>GLY</td>\n",
       "      <td>Destabilising</td>\n",
       "      <td>Favourable</td>\n",
       "      <td>-2.19</td>\n",
       "    </tr>\n",
       "    <tr>\n",
       "      <th>42979</th>\n",
       "      <td>C</td>\n",
       "      <td>GLN</td>\n",
       "      <td>14</td>\n",
       "      <td>ALA</td>\n",
       "      <td>Destabilising</td>\n",
       "      <td>Favourable</td>\n",
       "      <td>-1.71</td>\n",
       "    </tr>\n",
       "    <tr>\n",
       "      <th>42980</th>\n",
       "      <td>C</td>\n",
       "      <td>GLN</td>\n",
       "      <td>14</td>\n",
       "      <td>VAL</td>\n",
       "      <td>Destabilising</td>\n",
       "      <td>Unfavourable</td>\n",
       "      <td>-2.97</td>\n",
       "    </tr>\n",
       "    <tr>\n",
       "      <th>42981</th>\n",
       "      <td>C</td>\n",
       "      <td>GLN</td>\n",
       "      <td>14</td>\n",
       "      <td>LEU</td>\n",
       "      <td>Destabilising</td>\n",
       "      <td>Favourable</td>\n",
       "      <td>-2.20</td>\n",
       "    </tr>\n",
       "    <tr>\n",
       "      <th>42982</th>\n",
       "      <td>C</td>\n",
       "      <td>GLN</td>\n",
       "      <td>14</td>\n",
       "      <td>ILE</td>\n",
       "      <td>Destabilising</td>\n",
       "      <td>Unfavourable</td>\n",
       "      <td>-1.06</td>\n",
       "    </tr>\n",
       "    <tr>\n",
       "      <th>42983</th>\n",
       "      <td>C</td>\n",
       "      <td>GLN</td>\n",
       "      <td>14</td>\n",
       "      <td>MET</td>\n",
       "      <td>Destabilising</td>\n",
       "      <td>Unfavourable</td>\n",
       "      <td>-5.15</td>\n",
       "    </tr>\n",
       "    <tr>\n",
       "      <th>42984</th>\n",
       "      <td>C</td>\n",
       "      <td>GLN</td>\n",
       "      <td>14</td>\n",
       "      <td>PRO</td>\n",
       "      <td>Destabilising</td>\n",
       "      <td>Favourable</td>\n",
       "      <td>-0.71</td>\n",
       "    </tr>\n",
       "    <tr>\n",
       "      <th>42985</th>\n",
       "      <td>C</td>\n",
       "      <td>GLN</td>\n",
       "      <td>14</td>\n",
       "      <td>TRP</td>\n",
       "      <td>Destabilising</td>\n",
       "      <td>Unfavourable</td>\n",
       "      <td>-5.04</td>\n",
       "    </tr>\n",
       "    <tr>\n",
       "      <th>42986</th>\n",
       "      <td>C</td>\n",
       "      <td>GLN</td>\n",
       "      <td>14</td>\n",
       "      <td>SER</td>\n",
       "      <td>Destabilising</td>\n",
       "      <td>Favourable</td>\n",
       "      <td>-1.60</td>\n",
       "    </tr>\n",
       "    <tr>\n",
       "      <th>42987</th>\n",
       "      <td>C</td>\n",
       "      <td>GLN</td>\n",
       "      <td>14</td>\n",
       "      <td>THR</td>\n",
       "      <td>Destabilising</td>\n",
       "      <td>Favourable</td>\n",
       "      <td>-2.49</td>\n",
       "    </tr>\n",
       "    <tr>\n",
       "      <th>42988</th>\n",
       "      <td>C</td>\n",
       "      <td>GLN</td>\n",
       "      <td>14</td>\n",
       "      <td>PHE</td>\n",
       "      <td>Destabilising</td>\n",
       "      <td>Unfavourable</td>\n",
       "      <td>-1.08</td>\n",
       "    </tr>\n",
       "    <tr>\n",
       "      <th>42989</th>\n",
       "      <td>C</td>\n",
       "      <td>GLN</td>\n",
       "      <td>14</td>\n",
       "      <td>LYS</td>\n",
       "      <td>Destabilising</td>\n",
       "      <td>Favourable</td>\n",
       "      <td>-1.47</td>\n",
       "    </tr>\n",
       "    <tr>\n",
       "      <th>42990</th>\n",
       "      <td>C</td>\n",
       "      <td>GLN</td>\n",
       "      <td>14</td>\n",
       "      <td>TYR</td>\n",
       "      <td>Destabilising</td>\n",
       "      <td>Favourable</td>\n",
       "      <td>-0.03</td>\n",
       "    </tr>\n",
       "    <tr>\n",
       "      <th>42991</th>\n",
       "      <td>C</td>\n",
       "      <td>GLN</td>\n",
       "      <td>14</td>\n",
       "      <td>ASN</td>\n",
       "      <td>Destabilising</td>\n",
       "      <td>Unfavourable</td>\n",
       "      <td>-1.71</td>\n",
       "    </tr>\n",
       "    <tr>\n",
       "      <th>42992</th>\n",
       "      <td>C</td>\n",
       "      <td>GLN</td>\n",
       "      <td>14</td>\n",
       "      <td>CYS</td>\n",
       "      <td>Destabilising</td>\n",
       "      <td>Unfavourable</td>\n",
       "      <td>-1.82</td>\n",
       "    </tr>\n",
       "    <tr>\n",
       "      <th>42993</th>\n",
       "      <td>C</td>\n",
       "      <td>GLN</td>\n",
       "      <td>14</td>\n",
       "      <td>GLU</td>\n",
       "      <td>Stabilising</td>\n",
       "      <td>Unfavourable</td>\n",
       "      <td>0.29</td>\n",
       "    </tr>\n",
       "    <tr>\n",
       "      <th>42994</th>\n",
       "      <td>C</td>\n",
       "      <td>GLN</td>\n",
       "      <td>14</td>\n",
       "      <td>ASP</td>\n",
       "      <td>Destabilising</td>\n",
       "      <td>Favourable</td>\n",
       "      <td>-0.37</td>\n",
       "    </tr>\n",
       "    <tr>\n",
       "      <th>42995</th>\n",
       "      <td>C</td>\n",
       "      <td>GLN</td>\n",
       "      <td>14</td>\n",
       "      <td>ARG</td>\n",
       "      <td>Stabilising</td>\n",
       "      <td>Favourable</td>\n",
       "      <td>1.33</td>\n",
       "    </tr>\n",
       "    <tr>\n",
       "      <th>42996</th>\n",
       "      <td>C</td>\n",
       "      <td>GLN</td>\n",
       "      <td>14</td>\n",
       "      <td>HIS</td>\n",
       "      <td>Destabilising</td>\n",
       "      <td>Unfavourable</td>\n",
       "      <td>-2.89</td>\n",
       "    </tr>\n",
       "  </tbody>\n",
       "</table>\n",
       "</div>"
      ],
      "text/plain": [
       "      Chain Wild type AA  Residue ID Amino acid Overall Stability   \n",
       "0         A          GLN          14        GLY     Destabilising  \\\n",
       "1         A          GLN          14        ALA     Destabilising   \n",
       "2         A          GLN          14        VAL     Destabilising   \n",
       "3         A          GLN          14        LEU     Destabilising   \n",
       "4         A          GLN          14        ILE     Destabilising   \n",
       "5         A          GLN          14        MET     Destabilising   \n",
       "6         A          GLN          14        PRO       Stabilising   \n",
       "7         A          GLN          14        TRP     Destabilising   \n",
       "8         A          GLN          14        SER     Destabilising   \n",
       "9         A          GLN          14        THR     Destabilising   \n",
       "10        A          GLN          14        PHE     Destabilising   \n",
       "11        A          GLN          14        LYS     Destabilising   \n",
       "12        A          GLN          14        TYR     Destabilising   \n",
       "13        A          GLN          14        ASN     Destabilising   \n",
       "14        A          GLN          14        CYS     Destabilising   \n",
       "15        A          GLN          14        GLU       Stabilising   \n",
       "16        A          GLN          14        ASP     Destabilising   \n",
       "17        A          GLN          14        ARG       Stabilising   \n",
       "18        A          GLN          14        HIS     Destabilising   \n",
       "21489     B          GLN          14        GLY     Destabilising   \n",
       "21490     B          GLN          14        ALA     Destabilising   \n",
       "21491     B          GLN          14        VAL     Destabilising   \n",
       "21492     B          GLN          14        LEU     Destabilising   \n",
       "21493     B          GLN          14        ILE     Destabilising   \n",
       "21494     B          GLN          14        MET     Destabilising   \n",
       "21495     B          GLN          14        PRO       Stabilising   \n",
       "21496     B          GLN          14        TRP     Destabilising   \n",
       "21497     B          GLN          14        SER     Destabilising   \n",
       "21498     B          GLN          14        THR     Destabilising   \n",
       "21499     B          GLN          14        PHE     Destabilising   \n",
       "21500     B          GLN          14        LYS     Destabilising   \n",
       "21501     B          GLN          14        TYR       Stabilising   \n",
       "21502     B          GLN          14        ASN     Destabilising   \n",
       "21503     B          GLN          14        CYS       Stabilising   \n",
       "21504     B          GLN          14        GLU       Stabilising   \n",
       "21505     B          GLN          14        ASP     Destabilising   \n",
       "21506     B          GLN          14        ARG       Stabilising   \n",
       "21507     B          GLN          14        HIS     Destabilising   \n",
       "42978     C          GLN          14        GLY     Destabilising   \n",
       "42979     C          GLN          14        ALA     Destabilising   \n",
       "42980     C          GLN          14        VAL     Destabilising   \n",
       "42981     C          GLN          14        LEU     Destabilising   \n",
       "42982     C          GLN          14        ILE     Destabilising   \n",
       "42983     C          GLN          14        MET     Destabilising   \n",
       "42984     C          GLN          14        PRO     Destabilising   \n",
       "42985     C          GLN          14        TRP     Destabilising   \n",
       "42986     C          GLN          14        SER     Destabilising   \n",
       "42987     C          GLN          14        THR     Destabilising   \n",
       "42988     C          GLN          14        PHE     Destabilising   \n",
       "42989     C          GLN          14        LYS     Destabilising   \n",
       "42990     C          GLN          14        TYR     Destabilising   \n",
       "42991     C          GLN          14        ASN     Destabilising   \n",
       "42992     C          GLN          14        CYS     Destabilising   \n",
       "42993     C          GLN          14        GLU       Stabilising   \n",
       "42994     C          GLN          14        ASP     Destabilising   \n",
       "42995     C          GLN          14        ARG       Stabilising   \n",
       "42996     C          GLN          14        HIS     Destabilising   \n",
       "\n",
       "            Torsion  Predicted DDG (kcal/mol)  \n",
       "0        Favourable                     -1.35  \n",
       "1        Favourable                     -0.93  \n",
       "2      Unfavourable                     -1.64  \n",
       "3        Favourable                     -1.52  \n",
       "4      Unfavourable                     -1.80  \n",
       "5      Unfavourable                     -4.56  \n",
       "6        Favourable                      0.20  \n",
       "7      Unfavourable                     -2.89  \n",
       "8      Unfavourable                     -0.91  \n",
       "9      Unfavourable                     -0.89  \n",
       "10     Unfavourable                     -1.52  \n",
       "11       Favourable                     -1.11  \n",
       "12       Favourable                     -0.22  \n",
       "13     Unfavourable                     -1.54  \n",
       "14     Unfavourable                     -0.04  \n",
       "15     Unfavourable                      0.77  \n",
       "16     Unfavourable                     -0.21  \n",
       "17       Favourable                      1.85  \n",
       "18     Unfavourable                     -1.92  \n",
       "21489    Favourable                     -1.75  \n",
       "21490    Favourable                     -1.66  \n",
       "21491  Unfavourable                     -2.55  \n",
       "21492    Favourable                     -2.12  \n",
       "21493  Unfavourable                     -0.23  \n",
       "21494  Unfavourable                     -3.52  \n",
       "21495    Favourable                      0.93  \n",
       "21496  Unfavourable                     -6.04  \n",
       "21497  Unfavourable                     -1.11  \n",
       "21498  Unfavourable                     -1.25  \n",
       "21499  Unfavourable                     -0.15  \n",
       "21500    Favourable                     -0.86  \n",
       "21501    Favourable                      0.30  \n",
       "21502  Unfavourable                     -1.46  \n",
       "21503  Unfavourable                      1.61  \n",
       "21504  Unfavourable                      0.17  \n",
       "21505  Unfavourable                     -0.14  \n",
       "21506    Favourable                      1.81  \n",
       "21507  Unfavourable                     -1.99  \n",
       "42978    Favourable                     -2.19  \n",
       "42979    Favourable                     -1.71  \n",
       "42980  Unfavourable                     -2.97  \n",
       "42981    Favourable                     -2.20  \n",
       "42982  Unfavourable                     -1.06  \n",
       "42983  Unfavourable                     -5.15  \n",
       "42984    Favourable                     -0.71  \n",
       "42985  Unfavourable                     -5.04  \n",
       "42986    Favourable                     -1.60  \n",
       "42987    Favourable                     -2.49  \n",
       "42988  Unfavourable                     -1.08  \n",
       "42989    Favourable                     -1.47  \n",
       "42990    Favourable                     -0.03  \n",
       "42991  Unfavourable                     -1.71  \n",
       "42992  Unfavourable                     -1.82  \n",
       "42993  Unfavourable                      0.29  \n",
       "42994    Favourable                     -0.37  \n",
       "42995    Favourable                      1.33  \n",
       "42996  Unfavourable                     -2.89  "
      ]
     },
     "execution_count": 29,
     "metadata": {},
     "output_type": "execute_result"
    }
   ],
   "source": [
    "resi_aa = 14\n",
    "df_resi = df_groupped.get_group(resi_aa)\n",
    "df_resi"
   ]
  },
  {
   "cell_type": "code",
   "execution_count": 30,
   "metadata": {
    "tags": []
   },
   "outputs": [],
   "source": [
    "def get_deltaG_mutation(df_groupped, mutations):\n",
    "    \n",
    "      \n",
    "    all_res_names = {\n",
    "        \"A\":\"ALA\",\n",
    "        \"C\":\"CYS\",\n",
    "        \"D\":\"ASP\",\n",
    "        \"E\":\"GLU\",\n",
    "        \"F\":\"PHE\",\n",
    "        \"G\":\"GLY\",\n",
    "        \"H\":\"HIS\",\n",
    "        \"I\":\"ILE\",\n",
    "        \"K\":\"LYS\",\n",
    "        \"L\":\"LEU\",\n",
    "        \"M\":\"MET\",\n",
    "        \"N\":\"ASN\",\n",
    "        \"P\":\"PRO\",\n",
    "        \"Q\":\"GLN\",\n",
    "        \"R\":\"ARG\",\n",
    "        \"S\":\"SER\",\n",
    "        \"T\":\"THR\",\n",
    "        \"V\":\"VAL\",\n",
    "        \"W\":\"TRP\",\n",
    "        \"Y\":\"TYR\"\n",
    "    }\n",
    "    \n",
    "    deltag = pd.DataFrame(columns = df_groupped.first().columns)\n",
    "    if isinstance(mutations, list):\n",
    "        for mutation in mutations:\n",
    "            to_aa = mutation[-1]\n",
    "            from_aa = mutation[0]\n",
    "            resi_aa = int(mutation[1:-1])\n",
    "            df_resi = df_groupped.get_group(resi_aa)\n",
    "            deltag = pd.concat([deltag, df_resi[df_resi[\"Amino acid\"]==all_res_names[to_aa]]])\n",
    "    return deltag"
   ]
  },
  {
   "cell_type": "code",
   "execution_count": 31,
   "metadata": {
    "tags": []
   },
   "outputs": [],
   "source": [
    "def read_adj_mat(adj_filepath, p, min_, max_, mutations = None):\n",
    "    \"\"\"\n",
    "    Read the adjacency matrix file.\n",
    "    Parameters:\n",
    "        adj_filepath: string, is the complete adjacency matrix file path to read.\n",
    "        p: string with len equals to 4, is the protein pdb code.\n",
    "        min_: float, is the minimum threshold distance for extract only the non-covalent interactions between amino acids.\n",
    "        max_: float, is the maximum threshold distance for extract only the significant interactions between amino acids.\n",
    "        mutations: list of str or str, list of mutations from the wild type \n",
    "    Returns: None\n",
    "    \"\"\"\n",
    "    if mutations is not None:\n",
    "                # Save\n",
    "        if isinstance(mutations, list):\n",
    "            if len(mutations)>1:\n",
    "                str_mut = \"\"\n",
    "                for mut in mutations:\n",
    "                    str_mut += \"{}_\".format(mut)\n",
    "                str_mut = str_mut[:-2]\n",
    "            else:\n",
    "                str_mut = mutations[0]\n",
    "        else:\n",
    "            str_mut = mutations\n",
    "        adj = np.loadtxt(\"{}Adj_Swiss\\\\6VXX_adj_mat_{}_{}.txt\".format(adj_filepath, min_, max_))\n",
    "\n",
    "    else: \n",
    "        adj = np.loadtxt(\"{}Adj_Swiss\\\\6VXX_adj_mat_{}_{}.txt\".format(adj_filepath, min_, max_))\n",
    "    \n",
    "    return adj\n"
   ]
  },
  {
   "cell_type": "code",
   "execution_count": 32,
   "metadata": {
    "tags": []
   },
   "outputs": [
    {
     "data": {
      "text/plain": [
       "'C:\\\\Users\\\\Utente\\\\Desktop\\\\SARSCoV2_variants_PCN\\\\Data\\\\'"
      ]
     },
     "execution_count": 32,
     "metadata": {},
     "output_type": "execute_result"
    }
   ],
   "source": [
    "basepath"
   ]
  },
  {
   "cell_type": "code",
   "execution_count": 63,
   "metadata": {
    "colab": {
     "base_uri": "https://localhost:8080/",
     "height": 850
    },
    "id": "65vT_viCOP3H",
    "outputId": "a87cff8d-392f-4602-9bf7-f20d64f1461c"
   },
   "outputs": [
    {
     "name": "stderr",
     "output_type": "stream",
     "text": [
      "C:\\Users\\ugo-c\\AppData\\Local\\Temp\\ipykernel_28224\\1545725321.py:36: VisibleDeprecationWarning: Creating an ndarray from ragged nested sequences (which is a list-or-tuple of lists-or-tuples-or ndarrays with different lengths or shapes) is deprecated. If you meant to do this, you must specify 'dtype=object' when creating the ndarray.\n",
      "  return np.array(coordinates)\n"
     ]
    },
    {
     "name": "stdout",
     "output_type": "stream",
     "text": [
      "Reading WT adj matrix\n",
      "Reading pdb file with mutations:  A67V\n",
      "Reading WT adj matrix with mutations:  ['A67V']\n"
     ]
    },
    {
     "name": "stderr",
     "output_type": "stream",
     "text": [
      "C:\\Users\\ugo-c\\AppData\\Local\\Temp\\ipykernel_28224\\3062668350.py:4: DeprecationWarning: Using .default_errordef() is deprecated. Use .errordef instead\n",
      "  alignment.optimise()\n"
     ]
    },
    {
     "name": "stdout",
     "output_type": "stream",
     "text": [
      "WT + mutation A67V vs WT. TM score: 0.9999999983740927\n",
      "WT + mutation A67V vs WT. DeltaG stability score:       Chain Wild type AA Amino acid Overall Stability     Torsion  \\\n",
      "1008      A          ALA        VAL       Stabilising  Favourable   \n",
      "22497     B          ALA        VAL       Stabilising  Favourable   \n",
      "43986     C          ALA        VAL       Stabilising  Favourable   \n",
      "\n",
      "      Predicted DDG (kcal/mol)  Residue ID  \n",
      "1008                      2.67        67.0  \n",
      "22497                     2.68        67.0  \n",
      "43986                     3.12        67.0   vs Empty DataFrame\n",
      "Columns: [Chain, Wild type AA, Amino acid, Overall Stability, Torsion, Predicted DDG (kcal/mol)]\n",
      "Index: []\n",
      "Contact similarity between WT and WT+A67V Spike SARS-CoV-2 variants: 100.0 %\n",
      "\n",
      "\n",
      "Reading pdb file with mutations:  T95I\n"
     ]
    },
    {
     "name": "stderr",
     "output_type": "stream",
     "text": [
      "C:\\Users\\ugo-c\\AppData\\Local\\Temp\\ipykernel_28224\\1545725321.py:36: VisibleDeprecationWarning: Creating an ndarray from ragged nested sequences (which is a list-or-tuple of lists-or-tuples-or ndarrays with different lengths or shapes) is deprecated. If you meant to do this, you must specify 'dtype=object' when creating the ndarray.\n",
      "  return np.array(coordinates)\n"
     ]
    },
    {
     "name": "stdout",
     "output_type": "stream",
     "text": [
      "Reading WT adj matrix with mutations:  ['T95I']\n"
     ]
    },
    {
     "name": "stderr",
     "output_type": "stream",
     "text": [
      "C:\\Users\\ugo-c\\AppData\\Local\\Temp\\ipykernel_28224\\3062668350.py:4: DeprecationWarning: Using .default_errordef() is deprecated. Use .errordef instead\n",
      "  alignment.optimise()\n"
     ]
    },
    {
     "name": "stdout",
     "output_type": "stream",
     "text": [
      "WT + mutation T95I vs WT. TM score: 0.9999999907144737\n",
      "WT + mutation T95I vs WT. DeltaG stability score:       Chain Wild type AA Amino acid Overall Stability     Torsion  \\\n",
      "1543      A          THR        ILE       Stabilising  Favourable   \n",
      "23032     B          THR        ILE       Stabilising  Favourable   \n",
      "44521     C          THR        ILE       Stabilising  Favourable   \n",
      "\n",
      "      Predicted DDG (kcal/mol)  Residue ID  \n",
      "1543                       0.6        95.0  \n",
      "23032                     0.54        95.0  \n",
      "44521                     0.14        95.0   vs Empty DataFrame\n",
      "Columns: [Chain, Wild type AA, Amino acid, Overall Stability, Torsion, Predicted DDG (kcal/mol)]\n",
      "Index: []\n",
      "Contact similarity between WT and WT+T95I Spike SARS-CoV-2 variants: 100.0 %\n",
      "\n",
      "\n",
      "Reading pdb file with mutations:  G142D\n"
     ]
    },
    {
     "name": "stderr",
     "output_type": "stream",
     "text": [
      "C:\\Users\\ugo-c\\AppData\\Local\\Temp\\ipykernel_28224\\1545725321.py:36: VisibleDeprecationWarning: Creating an ndarray from ragged nested sequences (which is a list-or-tuple of lists-or-tuples-or ndarrays with different lengths or shapes) is deprecated. If you meant to do this, you must specify 'dtype=object' when creating the ndarray.\n",
      "  return np.array(coordinates)\n"
     ]
    },
    {
     "name": "stdout",
     "output_type": "stream",
     "text": [
      "Reading WT adj matrix with mutations:  ['G142D']\n"
     ]
    },
    {
     "name": "stderr",
     "output_type": "stream",
     "text": [
      "C:\\Users\\ugo-c\\AppData\\Local\\Temp\\ipykernel_28224\\3062668350.py:4: DeprecationWarning: Using .default_errordef() is deprecated. Use .errordef instead\n",
      "  alignment.optimise()\n"
     ]
    },
    {
     "name": "stdout",
     "output_type": "stream",
     "text": [
      "WT + mutation G142D vs WT. TM score: 0.9999999960069327\n",
      "WT + mutation G142D vs WT. DeltaG stability score:       Chain Wild type AA Amino acid Overall Stability       Torsion  \\\n",
      "2448      A          GLY        ASP     Destabilising  Unfavourable   \n",
      "23937     B          GLY        ASP     Destabilising  Unfavourable   \n",
      "45426     C          GLY        ASP     Destabilising  Unfavourable   \n",
      "\n",
      "      Predicted DDG (kcal/mol)  Residue ID  \n",
      "2448                      -0.3       142.0  \n",
      "23937                     -0.2       142.0  \n",
      "45426                    -0.45       142.0   vs Empty DataFrame\n",
      "Columns: [Chain, Wild type AA, Amino acid, Overall Stability, Torsion, Predicted DDG (kcal/mol)]\n",
      "Index: []\n",
      "Contact similarity between WT and WT+G142D Spike SARS-CoV-2 variants: 100.0 %\n",
      "\n",
      "\n",
      "Reading pdb file with mutations:  L212I\n"
     ]
    },
    {
     "name": "stderr",
     "output_type": "stream",
     "text": [
      "C:\\Users\\ugo-c\\AppData\\Local\\Temp\\ipykernel_28224\\1545725321.py:36: VisibleDeprecationWarning: Creating an ndarray from ragged nested sequences (which is a list-or-tuple of lists-or-tuples-or ndarrays with different lengths or shapes) is deprecated. If you meant to do this, you must specify 'dtype=object' when creating the ndarray.\n",
      "  return np.array(coordinates)\n"
     ]
    },
    {
     "name": "stdout",
     "output_type": "stream",
     "text": [
      "Computing WT adj matrix\n",
      "saved adj matrix██████████████████████████████████████████████████████████████████████████████████████| Current progress: 100.00%\n"
     ]
    },
    {
     "name": "stderr",
     "output_type": "stream",
     "text": [
      "C:\\Users\\ugo-c\\AppData\\Local\\Temp\\ipykernel_28224\\3062668350.py:4: DeprecationWarning: Using .default_errordef() is deprecated. Use .errordef instead\n",
      "  alignment.optimise()\n"
     ]
    },
    {
     "name": "stdout",
     "output_type": "stream",
     "text": [
      "WT + mutation L212I vs WT. TM score: 0.9999999977710078\n",
      "WT + mutation L212I vs WT. DeltaG stability score:       Chain Wild type AA Amino acid Overall Stability     Torsion  \\\n",
      "3765      A          LEU        ILE     Destabilising  Favourable   \n",
      "25254     B          LEU        ILE     Destabilising  Favourable   \n",
      "46743     C          LEU        ILE     Destabilising  Favourable   \n",
      "\n",
      "      Predicted DDG (kcal/mol)  Residue ID  \n",
      "3765                     -0.77       212.0  \n",
      "25254                    -0.77       212.0  \n",
      "46743                    -0.73       212.0   vs Empty DataFrame\n",
      "Columns: [Chain, Wild type AA, Amino acid, Overall Stability, Torsion, Predicted DDG (kcal/mol)]\n",
      "Index: []\n",
      "Contact similarity between WT and WT+L212I Spike SARS-CoV-2 variants: 100.0 %\n",
      "\n",
      "\n",
      "Reading pdb file with mutations:  G339D\n"
     ]
    },
    {
     "name": "stderr",
     "output_type": "stream",
     "text": [
      "C:\\Users\\ugo-c\\AppData\\Local\\Temp\\ipykernel_28224\\1545725321.py:36: VisibleDeprecationWarning: Creating an ndarray from ragged nested sequences (which is a list-or-tuple of lists-or-tuples-or ndarrays with different lengths or shapes) is deprecated. If you meant to do this, you must specify 'dtype=object' when creating the ndarray.\n",
      "  return np.array(coordinates)\n"
     ]
    },
    {
     "name": "stdout",
     "output_type": "stream",
     "text": [
      "Computing WT adj matrix\n",
      "saved adj matrix██████████████████████████████████████████████████████████████████████████████████████| Current progress: 100.00%\n"
     ]
    },
    {
     "name": "stderr",
     "output_type": "stream",
     "text": [
      "C:\\Users\\ugo-c\\AppData\\Local\\Temp\\ipykernel_28224\\3062668350.py:4: DeprecationWarning: Using .default_errordef() is deprecated. Use .errordef instead\n",
      "  alignment.optimise()\n"
     ]
    },
    {
     "name": "stdout",
     "output_type": "stream",
     "text": [
      "WT + mutation G339D vs WT. TM score: 0.9999999961524518\n",
      "WT + mutation G339D vs WT. DeltaG stability score:       Chain Wild type AA Amino acid Overall Stability       Torsion  \\\n",
      "6191      A          GLY        ASP       Stabilising  Unfavourable   \n",
      "27680     B          GLY        ASP       Stabilising  Unfavourable   \n",
      "49169     C          GLY        ASP       Stabilising  Unfavourable   \n",
      "\n",
      "      Predicted DDG (kcal/mol)  Residue ID  \n",
      "6191                      0.81       339.0  \n",
      "27680                     0.62       339.0  \n",
      "49169                     0.82       339.0   vs Empty DataFrame\n",
      "Columns: [Chain, Wild type AA, Amino acid, Overall Stability, Torsion, Predicted DDG (kcal/mol)]\n",
      "Index: []\n",
      "Contact similarity between WT and WT+G339D Spike SARS-CoV-2 variants: 100.0 %\n",
      "\n",
      "\n",
      "Reading pdb file with mutations:  S371L\n"
     ]
    },
    {
     "name": "stderr",
     "output_type": "stream",
     "text": [
      "C:\\Users\\ugo-c\\AppData\\Local\\Temp\\ipykernel_28224\\1545725321.py:36: VisibleDeprecationWarning: Creating an ndarray from ragged nested sequences (which is a list-or-tuple of lists-or-tuples-or ndarrays with different lengths or shapes) is deprecated. If you meant to do this, you must specify 'dtype=object' when creating the ndarray.\n",
      "  return np.array(coordinates)\n"
     ]
    },
    {
     "name": "stdout",
     "output_type": "stream",
     "text": [
      "Computing WT adj matrix\n",
      "saved adj matrix██████████████████████████████████████████████████████████████████████████████████████| Current progress: 100.00%\n"
     ]
    },
    {
     "name": "stderr",
     "output_type": "stream",
     "text": [
      "C:\\Users\\ugo-c\\AppData\\Local\\Temp\\ipykernel_28224\\3062668350.py:4: DeprecationWarning: Using .default_errordef() is deprecated. Use .errordef instead\n",
      "  alignment.optimise()\n"
     ]
    },
    {
     "name": "stdout",
     "output_type": "stream",
     "text": [
      "WT + mutation S371L vs WT. TM score: 0.9999999890073352\n",
      "WT + mutation S371L vs WT. DeltaG stability score:       Chain Wild type AA Amino acid Overall Stability     Torsion  \\\n",
      "6786      A          SER        LEU       Stabilising  Favourable   \n",
      "28275     B          SER        LEU       Stabilising  Favourable   \n",
      "49764     C          SER        LEU       Stabilising  Favourable   \n",
      "\n",
      "      Predicted DDG (kcal/mol)  Residue ID  \n",
      "6786                      1.32       371.0  \n",
      "28275                     1.38       371.0  \n",
      "49764                     1.36       371.0   vs Empty DataFrame\n",
      "Columns: [Chain, Wild type AA, Amino acid, Overall Stability, Torsion, Predicted DDG (kcal/mol)]\n",
      "Index: []\n",
      "Contact similarity between WT and WT+S371L Spike SARS-CoV-2 variants: 100.0 %\n",
      "\n",
      "\n",
      "Reading pdb file with mutations:  S373P\n"
     ]
    },
    {
     "name": "stderr",
     "output_type": "stream",
     "text": [
      "C:\\Users\\ugo-c\\AppData\\Local\\Temp\\ipykernel_28224\\1545725321.py:36: VisibleDeprecationWarning: Creating an ndarray from ragged nested sequences (which is a list-or-tuple of lists-or-tuples-or ndarrays with different lengths or shapes) is deprecated. If you meant to do this, you must specify 'dtype=object' when creating the ndarray.\n",
      "  return np.array(coordinates)\n"
     ]
    },
    {
     "name": "stdout",
     "output_type": "stream",
     "text": [
      "Computing WT adj matrix\n",
      "saved adj matrix██████████████████████████████████████████████████████████████████████████████████████| Current progress: 100.00%\n"
     ]
    },
    {
     "name": "stderr",
     "output_type": "stream",
     "text": [
      "C:\\Users\\ugo-c\\AppData\\Local\\Temp\\ipykernel_28224\\3062668350.py:4: DeprecationWarning: Using .default_errordef() is deprecated. Use .errordef instead\n",
      "  alignment.optimise()\n"
     ]
    },
    {
     "name": "stdout",
     "output_type": "stream",
     "text": [
      "WT + mutation S373P vs WT. TM score: 0.9999999723868012\n",
      "WT + mutation S373P vs WT. DeltaG stability score:       Chain Wild type AA Amino acid Overall Stability       Torsion  \\\n",
      "6827      A          SER        PRO     Destabilising  Unfavourable   \n",
      "28316     B          SER        PRO     Destabilising  Unfavourable   \n",
      "49805     C          SER        PRO     Destabilising  Unfavourable   \n",
      "\n",
      "      Predicted DDG (kcal/mol)  Residue ID  \n",
      "6827                     -2.36       373.0  \n",
      "28316                    -2.44       373.0  \n",
      "49805                    -2.46       373.0   vs Empty DataFrame\n",
      "Columns: [Chain, Wild type AA, Amino acid, Overall Stability, Torsion, Predicted DDG (kcal/mol)]\n",
      "Index: []\n",
      "Contact similarity between WT and WT+S373P Spike SARS-CoV-2 variants: 100.0 %\n",
      "\n",
      "\n",
      "Reading pdb file with mutations:  S375F\n"
     ]
    },
    {
     "name": "stderr",
     "output_type": "stream",
     "text": [
      "C:\\Users\\ugo-c\\AppData\\Local\\Temp\\ipykernel_28224\\1545725321.py:36: VisibleDeprecationWarning: Creating an ndarray from ragged nested sequences (which is a list-or-tuple of lists-or-tuples-or ndarrays with different lengths or shapes) is deprecated. If you meant to do this, you must specify 'dtype=object' when creating the ndarray.\n",
      "  return np.array(coordinates)\n"
     ]
    },
    {
     "name": "stdout",
     "output_type": "stream",
     "text": [
      "Computing WT adj matrix\n",
      "saved adj matrix██████████████████████████████████████████████████████████████████████████████████████| Current progress: 100.00%\n"
     ]
    },
    {
     "name": "stderr",
     "output_type": "stream",
     "text": [
      "C:\\Users\\ugo-c\\AppData\\Local\\Temp\\ipykernel_28224\\3062668350.py:4: DeprecationWarning: Using .default_errordef() is deprecated. Use .errordef instead\n",
      "  alignment.optimise()\n"
     ]
    },
    {
     "name": "stdout",
     "output_type": "stream",
     "text": [
      "WT + mutation S375F vs WT. TM score: 0.9999999979073556\n",
      "WT + mutation S375F vs WT. DeltaG stability score:       Chain Wild type AA Amino acid Overall Stability     Torsion  \\\n",
      "6868      A          SER        PHE     Destabilising  Favourable   \n",
      "28357     B          SER        PHE     Destabilising  Favourable   \n",
      "49846     C          SER        PHE     Destabilising  Favourable   \n",
      "\n",
      "      Predicted DDG (kcal/mol)  Residue ID  \n",
      "6868                     -0.42       375.0  \n",
      "28357                    -0.43       375.0  \n",
      "49846                    -1.41       375.0   vs Empty DataFrame\n",
      "Columns: [Chain, Wild type AA, Amino acid, Overall Stability, Torsion, Predicted DDG (kcal/mol)]\n",
      "Index: []\n",
      "Contact similarity between WT and WT+S375F Spike SARS-CoV-2 variants: 100.0 %\n",
      "\n",
      "\n",
      "Reading pdb file with mutations:  K417N\n"
     ]
    },
    {
     "name": "stderr",
     "output_type": "stream",
     "text": [
      "C:\\Users\\ugo-c\\AppData\\Local\\Temp\\ipykernel_28224\\1545725321.py:36: VisibleDeprecationWarning: Creating an ndarray from ragged nested sequences (which is a list-or-tuple of lists-or-tuples-or ndarrays with different lengths or shapes) is deprecated. If you meant to do this, you must specify 'dtype=object' when creating the ndarray.\n",
      "  return np.array(coordinates)\n"
     ]
    },
    {
     "name": "stdout",
     "output_type": "stream",
     "text": [
      "Computing WT adj matrix\n",
      "saved adj matrix██████████████████████████████████████████████████████████████████████████████████████| Current progress: 100.00%\n"
     ]
    },
    {
     "name": "stderr",
     "output_type": "stream",
     "text": [
      "C:\\Users\\ugo-c\\AppData\\Local\\Temp\\ipykernel_28224\\3062668350.py:4: DeprecationWarning: Using .default_errordef() is deprecated. Use .errordef instead\n",
      "  alignment.optimise()\n"
     ]
    },
    {
     "name": "stdout",
     "output_type": "stream",
     "text": [
      "WT + mutation K417N vs WT. TM score: 0.9999999907302894\n",
      "WT + mutation K417N vs WT. DeltaG stability score:       Chain Wild type AA Amino acid Overall Stability       Torsion  \\\n",
      "7670      A          LYS        ASN     Destabilising  Unfavourable   \n",
      "29159     B          LYS        ASN     Destabilising  Unfavourable   \n",
      "50648     C          LYS        ASN     Destabilising  Unfavourable   \n",
      "\n",
      "      Predicted DDG (kcal/mol)  Residue ID  \n",
      "7670                     -4.11       417.0  \n",
      "29159                    -4.16       417.0  \n",
      "50648                    -4.23       417.0   vs Empty DataFrame\n",
      "Columns: [Chain, Wild type AA, Amino acid, Overall Stability, Torsion, Predicted DDG (kcal/mol)]\n",
      "Index: []\n",
      "Contact similarity between WT and WT+K417N Spike SARS-CoV-2 variants: 100.0 %\n",
      "\n",
      "\n",
      "Reading pdb file with mutations:  N440K\n"
     ]
    },
    {
     "name": "stderr",
     "output_type": "stream",
     "text": [
      "C:\\Users\\ugo-c\\AppData\\Local\\Temp\\ipykernel_28224\\1545725321.py:36: VisibleDeprecationWarning: Creating an ndarray from ragged nested sequences (which is a list-or-tuple of lists-or-tuples-or ndarrays with different lengths or shapes) is deprecated. If you meant to do this, you must specify 'dtype=object' when creating the ndarray.\n",
      "  return np.array(coordinates)\n"
     ]
    },
    {
     "name": "stdout",
     "output_type": "stream",
     "text": [
      "Computing WT adj matrix\n",
      "saved adj matrix██████████████████████████████████████████████████████████████████████████████████████| Current progress: 100.00%\n"
     ]
    },
    {
     "name": "stderr",
     "output_type": "stream",
     "text": [
      "C:\\Users\\ugo-c\\AppData\\Local\\Temp\\ipykernel_28224\\3062668350.py:4: DeprecationWarning: Using .default_errordef() is deprecated. Use .errordef instead\n",
      "  alignment.optimise()\n"
     ]
    },
    {
     "name": "stdout",
     "output_type": "stream",
     "text": [
      "WT + mutation N440K vs WT. TM score: 0.9999999904468606\n",
      "WT + mutation N440K vs WT. DeltaG stability score:       Chain Wild type AA Amino acid Overall Stability     Torsion  \\\n",
      "8106      A          ASN        LYS       Stabilising  Favourable   \n",
      "29595     B          ASN        LYS       Stabilising  Favourable   \n",
      "51084     C          ASN        LYS       Stabilising  Favourable   \n",
      "\n",
      "      Predicted DDG (kcal/mol)  Residue ID  \n",
      "8106                      0.42       440.0  \n",
      "29595                     0.42       440.0  \n",
      "51084                     0.42       440.0   vs Empty DataFrame\n",
      "Columns: [Chain, Wild type AA, Amino acid, Overall Stability, Torsion, Predicted DDG (kcal/mol)]\n",
      "Index: []\n",
      "Contact similarity between WT and WT+N440K Spike SARS-CoV-2 variants: 100.0 %\n",
      "\n",
      "\n",
      "Reading pdb file with mutations:  G446S\n"
     ]
    },
    {
     "name": "stderr",
     "output_type": "stream",
     "text": [
      "C:\\Users\\ugo-c\\AppData\\Local\\Temp\\ipykernel_28224\\1545725321.py:36: VisibleDeprecationWarning: Creating an ndarray from ragged nested sequences (which is a list-or-tuple of lists-or-tuples-or ndarrays with different lengths or shapes) is deprecated. If you meant to do this, you must specify 'dtype=object' when creating the ndarray.\n",
      "  return np.array(coordinates)\n"
     ]
    },
    {
     "name": "stdout",
     "output_type": "stream",
     "text": [
      "Computing WT adj matrix\n",
      "saved adj matrix██████████████████████████████████████████████████████████████████████████████████████| Current progress: 100.00%\n"
     ]
    },
    {
     "name": "stderr",
     "output_type": "stream",
     "text": [
      "C:\\Users\\ugo-c\\AppData\\Local\\Temp\\ipykernel_28224\\3062668350.py:4: DeprecationWarning: Using .default_errordef() is deprecated. Use .errordef instead\n",
      "  alignment.optimise()\n"
     ]
    },
    {
     "name": "stdout",
     "output_type": "stream",
     "text": [
      "WT + mutation G446S vs WT. TM score: 0.999999997618117\n",
      "WT + mutation G446S vs WT. DeltaG stability score:       Chain Wild type AA Amino acid Overall Stability     Torsion  \\\n",
      "8215      A          GLY        SER     Destabilising  Favourable   \n",
      "29704     B          GLY        SER     Destabilising  Favourable   \n",
      "51193     C          GLY        SER     Destabilising  Favourable   \n",
      "\n",
      "      Predicted DDG (kcal/mol)  Residue ID  \n",
      "8215                     -0.02       446.0  \n",
      "29704                    -0.02       446.0  \n",
      "51193                    -0.02       446.0   vs Empty DataFrame\n",
      "Columns: [Chain, Wild type AA, Amino acid, Overall Stability, Torsion, Predicted DDG (kcal/mol)]\n",
      "Index: []\n",
      "Contact similarity between WT and WT+G446S Spike SARS-CoV-2 variants: 100.0 %\n",
      "\n",
      "\n",
      "Reading pdb file with mutations:  S477N\n"
     ]
    },
    {
     "name": "stderr",
     "output_type": "stream",
     "text": [
      "C:\\Users\\ugo-c\\AppData\\Local\\Temp\\ipykernel_28224\\1545725321.py:36: VisibleDeprecationWarning: Creating an ndarray from ragged nested sequences (which is a list-or-tuple of lists-or-tuples-or ndarrays with different lengths or shapes) is deprecated. If you meant to do this, you must specify 'dtype=object' when creating the ndarray.\n",
      "  return np.array(coordinates)\n"
     ]
    },
    {
     "name": "stdout",
     "output_type": "stream",
     "text": [
      "Computing WT adj matrix\n",
      "saved adj matrix██████████████████████████████████████████████████████████████████████████████████████| Current progress: 100.00%\n"
     ]
    },
    {
     "name": "stderr",
     "output_type": "stream",
     "text": [
      "C:\\Users\\ugo-c\\AppData\\Local\\Temp\\ipykernel_28224\\3062668350.py:4: DeprecationWarning: Using .default_errordef() is deprecated. Use .errordef instead\n",
      "  alignment.optimise()\n"
     ]
    },
    {
     "name": "stdout",
     "output_type": "stream",
     "text": [
      "WT + mutation S477N vs WT. TM score: 0.9999999966937686\n",
      "WT + mutation S477N vs WT. DeltaG stability score:       Chain Wild type AA Amino acid Overall Stability       Torsion  \\\n",
      "8810      A          SER        ASN       Stabilising  Unfavourable   \n",
      "30299     B          SER        ASN       Stabilising  Unfavourable   \n",
      "51788     C          SER        ASN       Stabilising  Unfavourable   \n",
      "\n",
      "      Predicted DDG (kcal/mol)  Residue ID  \n",
      "8810                      0.78       477.0  \n",
      "30299                     0.79       477.0  \n",
      "51788                     0.94       477.0   vs Empty DataFrame\n",
      "Columns: [Chain, Wild type AA, Amino acid, Overall Stability, Torsion, Predicted DDG (kcal/mol)]\n",
      "Index: []\n",
      "Contact similarity between WT and WT+S477N Spike SARS-CoV-2 variants: 100.0 %\n",
      "\n",
      "\n",
      "Reading pdb file with mutations:  T478K\n"
     ]
    },
    {
     "name": "stderr",
     "output_type": "stream",
     "text": [
      "C:\\Users\\ugo-c\\AppData\\Local\\Temp\\ipykernel_28224\\1545725321.py:36: VisibleDeprecationWarning: Creating an ndarray from ragged nested sequences (which is a list-or-tuple of lists-or-tuples-or ndarrays with different lengths or shapes) is deprecated. If you meant to do this, you must specify 'dtype=object' when creating the ndarray.\n",
      "  return np.array(coordinates)\n"
     ]
    },
    {
     "name": "stdout",
     "output_type": "stream",
     "text": [
      "Computing WT adj matrix\n",
      "saved adj matrix██████████████████████████████████████████████████████████████████████████████████████| Current progress: 100.00%\n"
     ]
    },
    {
     "name": "stderr",
     "output_type": "stream",
     "text": [
      "C:\\Users\\ugo-c\\AppData\\Local\\Temp\\ipykernel_28224\\3062668350.py:4: DeprecationWarning: Using .default_errordef() is deprecated. Use .errordef instead\n",
      "  alignment.optimise()\n"
     ]
    },
    {
     "name": "stdout",
     "output_type": "stream",
     "text": [
      "WT + mutation T478K vs WT. TM score: 0.9999999931416701\n",
      "WT + mutation T478K vs WT. DeltaG stability score:       Chain Wild type AA Amino acid Overall Stability       Torsion  \\\n",
      "8827      A          THR        LYS     Destabilising    Favourable   \n",
      "30316     B          THR        LYS     Destabilising    Favourable   \n",
      "51805     C          THR        LYS     Destabilising  Unfavourable   \n",
      "\n",
      "      Predicted DDG (kcal/mol)  Residue ID  \n",
      "8827                     -0.51       478.0  \n",
      "30316                    -0.87       478.0  \n",
      "51805                    -0.83       478.0   vs Empty DataFrame\n",
      "Columns: [Chain, Wild type AA, Amino acid, Overall Stability, Torsion, Predicted DDG (kcal/mol)]\n",
      "Index: []\n",
      "Contact similarity between WT and WT+T478K Spike SARS-CoV-2 variants: 100.0 %\n",
      "\n",
      "\n",
      "Reading pdb file with mutations:  E484A\n"
     ]
    },
    {
     "name": "stderr",
     "output_type": "stream",
     "text": [
      "C:\\Users\\ugo-c\\AppData\\Local\\Temp\\ipykernel_28224\\1545725321.py:36: VisibleDeprecationWarning: Creating an ndarray from ragged nested sequences (which is a list-or-tuple of lists-or-tuples-or ndarrays with different lengths or shapes) is deprecated. If you meant to do this, you must specify 'dtype=object' when creating the ndarray.\n",
      "  return np.array(coordinates)\n"
     ]
    },
    {
     "name": "stdout",
     "output_type": "stream",
     "text": [
      "Computing WT adj matrix\n",
      "saved adj matrix██████████████████████████████████████████████████████████████████████████████████████| Current progress: 100.00%\n"
     ]
    },
    {
     "name": "stderr",
     "output_type": "stream",
     "text": [
      "C:\\Users\\ugo-c\\AppData\\Local\\Temp\\ipykernel_28224\\3062668350.py:4: DeprecationWarning: Using .default_errordef() is deprecated. Use .errordef instead\n",
      "  alignment.optimise()\n"
     ]
    },
    {
     "name": "stdout",
     "output_type": "stream",
     "text": [
      "WT + mutation E484A vs WT. TM score: 0.9999999923630625\n",
      "WT + mutation E484A vs WT. DeltaG stability score:       Chain Wild type AA Amino acid Overall Stability       Torsion  \\\n",
      "8931      A          GLU        ALA     Destabilising  Unfavourable   \n",
      "30420     B          GLU        ALA     Destabilising    Favourable   \n",
      "51909     C          GLU        ALA     Destabilising    Favourable   \n",
      "\n",
      "      Predicted DDG (kcal/mol)  Residue ID  \n",
      "8931                      -0.4       484.0  \n",
      "30420                    -0.25       484.0  \n",
      "51909                    -0.29       484.0   vs Empty DataFrame\n",
      "Columns: [Chain, Wild type AA, Amino acid, Overall Stability, Torsion, Predicted DDG (kcal/mol)]\n",
      "Index: []\n",
      "Contact similarity between WT and WT+E484A Spike SARS-CoV-2 variants: 100.0 %\n",
      "\n",
      "\n",
      "Reading pdb file with mutations:  Q493R\n"
     ]
    },
    {
     "name": "stderr",
     "output_type": "stream",
     "text": [
      "C:\\Users\\ugo-c\\AppData\\Local\\Temp\\ipykernel_28224\\1545725321.py:36: VisibleDeprecationWarning: Creating an ndarray from ragged nested sequences (which is a list-or-tuple of lists-or-tuples-or ndarrays with different lengths or shapes) is deprecated. If you meant to do this, you must specify 'dtype=object' when creating the ndarray.\n",
      "  return np.array(coordinates)\n"
     ]
    },
    {
     "name": "stdout",
     "output_type": "stream",
     "text": [
      "Computing WT adj matrix\n",
      "saved adj matrix██████████████████████████████████████████████████████████████████████████████████████| Current progress: 100.00%\n"
     ]
    },
    {
     "name": "stderr",
     "output_type": "stream",
     "text": [
      "C:\\Users\\ugo-c\\AppData\\Local\\Temp\\ipykernel_28224\\3062668350.py:4: DeprecationWarning: Using .default_errordef() is deprecated. Use .errordef instead\n",
      "  alignment.optimise()\n"
     ]
    },
    {
     "name": "stdout",
     "output_type": "stream",
     "text": [
      "WT + mutation Q493R vs WT. TM score: 0.999999997017091\n",
      "WT + mutation Q493R vs WT. DeltaG stability score:       Chain Wild type AA Amino acid Overall Stability       Torsion  \\\n",
      "9118      A          GLN        ARG     Destabilising  Unfavourable   \n",
      "30607     B          GLN        ARG       Stabilising  Unfavourable   \n",
      "52096     C          GLN        ARG       Stabilising  Unfavourable   \n",
      "\n",
      "      Predicted DDG (kcal/mol)  Residue ID  \n",
      "9118                     -0.26       493.0  \n",
      "30607                     0.03       493.0  \n",
      "52096                      0.1       493.0   vs Empty DataFrame\n",
      "Columns: [Chain, Wild type AA, Amino acid, Overall Stability, Torsion, Predicted DDG (kcal/mol)]\n",
      "Index: []\n",
      "Contact similarity between WT and WT+Q493R Spike SARS-CoV-2 variants: 100.0 %\n",
      "\n",
      "\n",
      "Reading pdb file with mutations:  G496S\n"
     ]
    },
    {
     "name": "stderr",
     "output_type": "stream",
     "text": [
      "C:\\Users\\ugo-c\\AppData\\Local\\Temp\\ipykernel_28224\\1545725321.py:36: VisibleDeprecationWarning: Creating an ndarray from ragged nested sequences (which is a list-or-tuple of lists-or-tuples-or ndarrays with different lengths or shapes) is deprecated. If you meant to do this, you must specify 'dtype=object' when creating the ndarray.\n",
      "  return np.array(coordinates)\n"
     ]
    },
    {
     "name": "stdout",
     "output_type": "stream",
     "text": [
      "Computing WT adj matrix\n",
      "saved adj matrix██████████████████████████████████████████████████████████████████████████████████████| Current progress: 100.00%\n"
     ]
    },
    {
     "name": "stderr",
     "output_type": "stream",
     "text": [
      "C:\\Users\\ugo-c\\AppData\\Local\\Temp\\ipykernel_28224\\3062668350.py:4: DeprecationWarning: Using .default_errordef() is deprecated. Use .errordef instead\n",
      "  alignment.optimise()\n"
     ]
    },
    {
     "name": "stdout",
     "output_type": "stream",
     "text": [
      "WT + mutation G496S vs WT. TM score: 0.9999999997040274\n",
      "WT + mutation G496S vs WT. DeltaG stability score:       Chain Wild type AA Amino acid Overall Stability       Torsion  \\\n",
      "9165      A          GLY        SER       Stabilising  Unfavourable   \n",
      "30654     B          GLY        SER       Stabilising  Unfavourable   \n",
      "52143     C          GLY        SER       Stabilising  Unfavourable   \n",
      "\n",
      "      Predicted DDG (kcal/mol)  Residue ID  \n",
      "9165                      0.08       496.0  \n",
      "30654                     0.06       496.0  \n",
      "52143                     0.09       496.0   vs Empty DataFrame\n",
      "Columns: [Chain, Wild type AA, Amino acid, Overall Stability, Torsion, Predicted DDG (kcal/mol)]\n",
      "Index: []\n",
      "Contact similarity between WT and WT+G496S Spike SARS-CoV-2 variants: 100.0 %\n",
      "\n",
      "\n",
      "Reading pdb file with mutations:  Q498R\n"
     ]
    },
    {
     "name": "stderr",
     "output_type": "stream",
     "text": [
      "C:\\Users\\ugo-c\\AppData\\Local\\Temp\\ipykernel_28224\\1545725321.py:36: VisibleDeprecationWarning: Creating an ndarray from ragged nested sequences (which is a list-or-tuple of lists-or-tuples-or ndarrays with different lengths or shapes) is deprecated. If you meant to do this, you must specify 'dtype=object' when creating the ndarray.\n",
      "  return np.array(coordinates)\n"
     ]
    },
    {
     "name": "stdout",
     "output_type": "stream",
     "text": [
      "Computing WT adj matrix\n",
      "saved adj matrix██████████████████████████████████████████████████████████████████████████████████████| Current progress: 100.00%\n"
     ]
    },
    {
     "name": "stderr",
     "output_type": "stream",
     "text": [
      "C:\\Users\\ugo-c\\AppData\\Local\\Temp\\ipykernel_28224\\3062668350.py:4: DeprecationWarning: Using .default_errordef() is deprecated. Use .errordef instead\n",
      "  alignment.optimise()\n"
     ]
    },
    {
     "name": "stdout",
     "output_type": "stream",
     "text": [
      "WT + mutation Q498R vs WT. TM score: 0.9999999834695353\n",
      "WT + mutation Q498R vs WT. DeltaG stability score:       Chain Wild type AA Amino acid Overall Stability     Torsion  \\\n",
      "9213      A          GLN        ARG     Destabilising  Favourable   \n",
      "30702     B          GLN        ARG     Destabilising  Favourable   \n",
      "52191     C          GLN        ARG     Destabilising  Favourable   \n",
      "\n",
      "      Predicted DDG (kcal/mol)  Residue ID  \n",
      "9213                     -0.22       498.0  \n",
      "30702                    -0.48       498.0  \n",
      "52191                    -0.29       498.0   vs Empty DataFrame\n",
      "Columns: [Chain, Wild type AA, Amino acid, Overall Stability, Torsion, Predicted DDG (kcal/mol)]\n",
      "Index: []\n",
      "Contact similarity between WT and WT+Q498R Spike SARS-CoV-2 variants: 100.0 %\n",
      "\n",
      "\n",
      "Reading pdb file with mutations:  N501Y\n"
     ]
    },
    {
     "name": "stderr",
     "output_type": "stream",
     "text": [
      "C:\\Users\\ugo-c\\AppData\\Local\\Temp\\ipykernel_28224\\1545725321.py:36: VisibleDeprecationWarning: Creating an ndarray from ragged nested sequences (which is a list-or-tuple of lists-or-tuples-or ndarrays with different lengths or shapes) is deprecated. If you meant to do this, you must specify 'dtype=object' when creating the ndarray.\n",
      "  return np.array(coordinates)\n"
     ]
    },
    {
     "name": "stdout",
     "output_type": "stream",
     "text": [
      "Computing WT adj matrix\n",
      "saved adj matrix██████████████████████████████████████████████████████████████████████████████████████| Current progress: 100.00%\n"
     ]
    },
    {
     "name": "stderr",
     "output_type": "stream",
     "text": [
      "C:\\Users\\ugo-c\\AppData\\Local\\Temp\\ipykernel_28224\\3062668350.py:4: DeprecationWarning: Using .default_errordef() is deprecated. Use .errordef instead\n",
      "  alignment.optimise()\n"
     ]
    },
    {
     "name": "stdout",
     "output_type": "stream",
     "text": [
      "WT + mutation N501Y vs WT. TM score: 0.9999999924012333\n",
      "WT + mutation N501Y vs WT. DeltaG stability score:       Chain Wild type AA Amino acid Overall Stability       Torsion  \\\n",
      "9266      A          ASN        TYR     Destabilising  Unfavourable   \n",
      "30755     B          ASN        TYR     Destabilising  Unfavourable   \n",
      "52244     C          ASN        TYR     Destabilising  Unfavourable   \n",
      "\n",
      "      Predicted DDG (kcal/mol)  Residue ID  \n",
      "9266                     -0.95       501.0  \n",
      "30755                    -0.95       501.0  \n",
      "52244                    -0.94       501.0   vs Empty DataFrame\n",
      "Columns: [Chain, Wild type AA, Amino acid, Overall Stability, Torsion, Predicted DDG (kcal/mol)]\n",
      "Index: []\n",
      "Contact similarity between WT and WT+N501Y Spike SARS-CoV-2 variants: 100.0 %\n",
      "\n",
      "\n",
      "Reading pdb file with mutations:  Y505H\n"
     ]
    },
    {
     "name": "stderr",
     "output_type": "stream",
     "text": [
      "C:\\Users\\ugo-c\\AppData\\Local\\Temp\\ipykernel_28224\\1545725321.py:36: VisibleDeprecationWarning: Creating an ndarray from ragged nested sequences (which is a list-or-tuple of lists-or-tuples-or ndarrays with different lengths or shapes) is deprecated. If you meant to do this, you must specify 'dtype=object' when creating the ndarray.\n",
      "  return np.array(coordinates)\n"
     ]
    },
    {
     "name": "stdout",
     "output_type": "stream",
     "text": [
      "Computing WT adj matrix\n",
      "saved adj matrix██████████████████████████████████████████████████████████████████████████████████████| Current progress: 100.00%\n"
     ]
    },
    {
     "name": "stderr",
     "output_type": "stream",
     "text": [
      "C:\\Users\\ugo-c\\AppData\\Local\\Temp\\ipykernel_28224\\3062668350.py:4: DeprecationWarning: Using .default_errordef() is deprecated. Use .errordef instead\n",
      "  alignment.optimise()\n"
     ]
    },
    {
     "name": "stdout",
     "output_type": "stream",
     "text": [
      "WT + mutation Y505H vs WT. TM score: 0.9999999908146618\n",
      "WT + mutation Y505H vs WT. DeltaG stability score:       Chain Wild type AA Amino acid Overall Stability     Torsion  \\\n",
      "9347      A          TYR        HIS     Destabilising  Favourable   \n",
      "30836     B          TYR        HIS     Destabilising  Favourable   \n",
      "52325     C          TYR        HIS     Destabilising  Favourable   \n",
      "\n",
      "      Predicted DDG (kcal/mol)  Residue ID  \n",
      "9347                     -0.98       505.0  \n",
      "30836                    -0.98       505.0  \n",
      "52325                    -0.92       505.0   vs Empty DataFrame\n",
      "Columns: [Chain, Wild type AA, Amino acid, Overall Stability, Torsion, Predicted DDG (kcal/mol)]\n",
      "Index: []\n",
      "Contact similarity between WT and WT+Y505H Spike SARS-CoV-2 variants: 100.0 %\n",
      "\n",
      "\n",
      "Reading pdb file with mutations:  T547K\n"
     ]
    },
    {
     "name": "stderr",
     "output_type": "stream",
     "text": [
      "C:\\Users\\ugo-c\\AppData\\Local\\Temp\\ipykernel_28224\\1545725321.py:36: VisibleDeprecationWarning: Creating an ndarray from ragged nested sequences (which is a list-or-tuple of lists-or-tuples-or ndarrays with different lengths or shapes) is deprecated. If you meant to do this, you must specify 'dtype=object' when creating the ndarray.\n",
      "  return np.array(coordinates)\n"
     ]
    },
    {
     "name": "stdout",
     "output_type": "stream",
     "text": [
      "Computing WT adj matrix\n",
      "saved adj matrix██████████████████████████████████████████████████████████████████████████████████████| Current progress: 100.00%\n"
     ]
    },
    {
     "name": "stderr",
     "output_type": "stream",
     "text": [
      "C:\\Users\\ugo-c\\AppData\\Local\\Temp\\ipykernel_28224\\3062668350.py:4: DeprecationWarning: Using .default_errordef() is deprecated. Use .errordef instead\n",
      "  alignment.optimise()\n"
     ]
    },
    {
     "name": "stdout",
     "output_type": "stream",
     "text": [
      "WT + mutation T547K vs WT. TM score: 0.9999999818997666\n",
      "WT + mutation T547K vs WT. DeltaG stability score:       Chain Wild type AA Amino acid Overall Stability    Torsion  \\\n",
      "10138     A          THR        LYS     Destabilising  No change   \n",
      "31627     B          THR        LYS       Stabilising  No change   \n",
      "53116     C          THR        LYS       Stabilising  No change   \n",
      "\n",
      "      Predicted DDG (kcal/mol)  Residue ID  \n",
      "10138                    -2.33       547.0  \n",
      "31627                     2.75       547.0  \n",
      "53116                     2.76       547.0   vs Empty DataFrame\n",
      "Columns: [Chain, Wild type AA, Amino acid, Overall Stability, Torsion, Predicted DDG (kcal/mol)]\n",
      "Index: []\n",
      "Contact similarity between WT and WT+T547K Spike SARS-CoV-2 variants: 100.0 %\n",
      "\n",
      "\n",
      "Reading pdb file with mutations:  D614G\n"
     ]
    },
    {
     "name": "stderr",
     "output_type": "stream",
     "text": [
      "C:\\Users\\ugo-c\\AppData\\Local\\Temp\\ipykernel_28224\\1545725321.py:36: VisibleDeprecationWarning: Creating an ndarray from ragged nested sequences (which is a list-or-tuple of lists-or-tuples-or ndarrays with different lengths or shapes) is deprecated. If you meant to do this, you must specify 'dtype=object' when creating the ndarray.\n",
      "  return np.array(coordinates)\n"
     ]
    },
    {
     "name": "stdout",
     "output_type": "stream",
     "text": [
      "Computing WT adj matrix\n",
      "saved adj matrix██████████████████████████████████████████████████████████████████████████████████████| Current progress: 100.00%\n"
     ]
    },
    {
     "name": "stderr",
     "output_type": "stream",
     "text": [
      "C:\\Users\\ugo-c\\AppData\\Local\\Temp\\ipykernel_28224\\3062668350.py:4: DeprecationWarning: Using .default_errordef() is deprecated. Use .errordef instead\n",
      "  alignment.optimise()\n"
     ]
    },
    {
     "name": "stdout",
     "output_type": "stream",
     "text": [
      "WT + mutation D614G vs WT. TM score: 0.9999999989518534\n",
      "WT + mutation D614G vs WT. DeltaG stability score:       Chain Wild type AA Amino acid Overall Stability       Torsion  \\\n",
      "11400     A          ASP        GLY     Destabilising  Unfavourable   \n",
      "32889     B          ASP        GLY     Destabilising  Unfavourable   \n",
      "54378     C          ASP        GLY     Destabilising  Unfavourable   \n",
      "\n",
      "      Predicted DDG (kcal/mol)  Residue ID  \n",
      "11400                    -0.24       614.0  \n",
      "32889                    -0.02       614.0  \n",
      "54378                    -0.11       614.0   vs Empty DataFrame\n",
      "Columns: [Chain, Wild type AA, Amino acid, Overall Stability, Torsion, Predicted DDG (kcal/mol)]\n",
      "Index: []\n",
      "Contact similarity between WT and WT+D614G Spike SARS-CoV-2 variants: 100.0 %\n",
      "\n",
      "\n",
      "Reading pdb file with mutations:  H655Y\n"
     ]
    },
    {
     "name": "stderr",
     "output_type": "stream",
     "text": [
      "C:\\Users\\ugo-c\\AppData\\Local\\Temp\\ipykernel_28224\\1545725321.py:36: VisibleDeprecationWarning: Creating an ndarray from ragged nested sequences (which is a list-or-tuple of lists-or-tuples-or ndarrays with different lengths or shapes) is deprecated. If you meant to do this, you must specify 'dtype=object' when creating the ndarray.\n",
      "  return np.array(coordinates)\n"
     ]
    },
    {
     "name": "stdout",
     "output_type": "stream",
     "text": [
      "Computing WT adj matrix\n",
      "saved adj matrix██████████████████████████████████████████████████████████████████████████████████████| Current progress: 100.00%\n"
     ]
    },
    {
     "name": "stderr",
     "output_type": "stream",
     "text": [
      "C:\\Users\\ugo-c\\AppData\\Local\\Temp\\ipykernel_28224\\3062668350.py:4: DeprecationWarning: Using .default_errordef() is deprecated. Use .errordef instead\n",
      "  alignment.optimise()\n"
     ]
    },
    {
     "name": "stdout",
     "output_type": "stream",
     "text": [
      "WT + mutation H655Y vs WT. TM score: 0.9999999921681376\n",
      "WT + mutation H655Y vs WT. DeltaG stability score:       Chain Wild type AA Amino acid Overall Stability       Torsion  \\\n",
      "12192     A          HIS        TYR     Destabilising  Unfavourable   \n",
      "33681     B          HIS        TYR     Destabilising  Unfavourable   \n",
      "55170     C          HIS        TYR     Destabilising  Unfavourable   \n",
      "\n",
      "      Predicted DDG (kcal/mol)  Residue ID  \n",
      "12192                    -5.39       655.0  \n",
      "33681                    -5.41       655.0  \n",
      "55170                     -5.5       655.0   vs Empty DataFrame\n",
      "Columns: [Chain, Wild type AA, Amino acid, Overall Stability, Torsion, Predicted DDG (kcal/mol)]\n",
      "Index: []\n",
      "Contact similarity between WT and WT+H655Y Spike SARS-CoV-2 variants: 100.0 %\n",
      "\n",
      "\n",
      "Reading pdb file with mutations:  N679K\n"
     ]
    },
    {
     "name": "stderr",
     "output_type": "stream",
     "text": [
      "C:\\Users\\ugo-c\\AppData\\Local\\Temp\\ipykernel_28224\\1545725321.py:36: VisibleDeprecationWarning: Creating an ndarray from ragged nested sequences (which is a list-or-tuple of lists-or-tuples-or ndarrays with different lengths or shapes) is deprecated. If you meant to do this, you must specify 'dtype=object' when creating the ndarray.\n",
      "  return np.array(coordinates)\n"
     ]
    },
    {
     "name": "stdout",
     "output_type": "stream",
     "text": [
      "Computing WT adj matrix\n",
      "saved adj matrix██████████████████████████████████████████████████████████████████████████████████████| Current progress: 100.00%\n"
     ]
    },
    {
     "name": "stderr",
     "output_type": "stream",
     "text": [
      "C:\\Users\\ugo-c\\AppData\\Local\\Temp\\ipykernel_28224\\3062668350.py:4: DeprecationWarning: Using .default_errordef() is deprecated. Use .errordef instead\n",
      "  alignment.optimise()\n"
     ]
    },
    {
     "name": "stdout",
     "output_type": "stream",
     "text": [
      "WT + mutation N679K vs WT. TM score: 0.9999999744044437\n",
      "WT + mutation N679K vs WT. DeltaG stability score:       Chain Wild type AA Amino acid Overall Stability       Torsion  \\\n",
      "12647     A          ASN        LYS     Destabilising    Favourable   \n",
      "34136     B          ASN        LYS     Destabilising  Unfavourable   \n",
      "55625     C          ASN        LYS     Destabilising    Favourable   \n",
      "\n",
      "      Predicted DDG (kcal/mol)  Residue ID  \n",
      "12647                    -1.06       679.0  \n",
      "34136                    -1.14       679.0  \n",
      "55625                    -0.73       679.0   vs Empty DataFrame\n",
      "Columns: [Chain, Wild type AA, Amino acid, Overall Stability, Torsion, Predicted DDG (kcal/mol)]\n",
      "Index: []\n",
      "Contact similarity between WT and WT+N679K Spike SARS-CoV-2 variants: 99.99993051000703 %\n",
      "\n",
      "\n",
      "Reading pdb file with mutations:  P681H\n"
     ]
    },
    {
     "name": "stderr",
     "output_type": "stream",
     "text": [
      "C:\\Users\\ugo-c\\AppData\\Local\\Temp\\ipykernel_28224\\1545725321.py:36: VisibleDeprecationWarning: Creating an ndarray from ragged nested sequences (which is a list-or-tuple of lists-or-tuples-or ndarrays with different lengths or shapes) is deprecated. If you meant to do this, you must specify 'dtype=object' when creating the ndarray.\n",
      "  return np.array(coordinates)\n"
     ]
    },
    {
     "name": "stdout",
     "output_type": "stream",
     "text": [
      "Computing WT adj matrix\n",
      "saved adj matrix██████████████████████████████████████████████████████████████████████████████████████| Current progress: 100.00%\n"
     ]
    },
    {
     "name": "stderr",
     "output_type": "stream",
     "text": [
      "C:\\Users\\ugo-c\\AppData\\Local\\Temp\\ipykernel_28224\\3062668350.py:4: DeprecationWarning: Using .default_errordef() is deprecated. Use .errordef instead\n",
      "  alignment.optimise()\n"
     ]
    },
    {
     "name": "stdout",
     "output_type": "stream",
     "text": [
      "WT + mutation P681H vs WT. TM score: 0.9999999968570992\n",
      "WT + mutation P681H vs WT. DeltaG stability score:       Chain Wild type AA Amino acid Overall Stability     Torsion  \\\n",
      "12691     A          PRO        HIS       Stabilising  Favourable   \n",
      "34180     B          PRO        HIS       Stabilising  Favourable   \n",
      "55669     C          PRO        HIS       Stabilising  Favourable   \n",
      "\n",
      "      Predicted DDG (kcal/mol)  Residue ID  \n",
      "12691                     1.22       681.0  \n",
      "34180                     2.08       681.0  \n",
      "55669                     1.99       681.0   vs Empty DataFrame\n",
      "Columns: [Chain, Wild type AA, Amino acid, Overall Stability, Torsion, Predicted DDG (kcal/mol)]\n",
      "Index: []\n",
      "Contact similarity between WT and WT+P681H Spike SARS-CoV-2 variants: 100.0 %\n",
      "\n",
      "\n",
      "Reading pdb file with mutations:  N764K\n"
     ]
    },
    {
     "name": "stderr",
     "output_type": "stream",
     "text": [
      "C:\\Users\\ugo-c\\AppData\\Local\\Temp\\ipykernel_28224\\1545725321.py:36: VisibleDeprecationWarning: Creating an ndarray from ragged nested sequences (which is a list-or-tuple of lists-or-tuples-or ndarrays with different lengths or shapes) is deprecated. If you meant to do this, you must specify 'dtype=object' when creating the ndarray.\n",
      "  return np.array(coordinates)\n"
     ]
    },
    {
     "name": "stdout",
     "output_type": "stream",
     "text": [
      "Computing WT adj matrix\n",
      "saved adj matrix██████████████████████████████████████████████████████████████████████████████████████| Current progress: 100.00%\n"
     ]
    },
    {
     "name": "stderr",
     "output_type": "stream",
     "text": [
      "C:\\Users\\ugo-c\\AppData\\Local\\Temp\\ipykernel_28224\\3062668350.py:4: DeprecationWarning: Using .default_errordef() is deprecated. Use .errordef instead\n",
      "  alignment.optimise()\n"
     ]
    },
    {
     "name": "stdout",
     "output_type": "stream",
     "text": [
      "WT + mutation N764K vs WT. TM score: 0.999999993113161\n",
      "WT + mutation N764K vs WT. DeltaG stability score:       Chain Wild type AA Amino acid Overall Stability     Torsion  \\\n",
      "14262     A          ASN        LYS       Stabilising  Favourable   \n",
      "35751     B          ASN        LYS       Stabilising  Favourable   \n",
      "57240     C          ASN        LYS       Stabilising  Favourable   \n",
      "\n",
      "      Predicted DDG (kcal/mol)  Residue ID  \n",
      "14262                     0.71       764.0  \n",
      "35751                     0.65       764.0  \n",
      "57240                     0.65       764.0   vs Empty DataFrame\n",
      "Columns: [Chain, Wild type AA, Amino acid, Overall Stability, Torsion, Predicted DDG (kcal/mol)]\n",
      "Index: []\n",
      "Contact similarity between WT and WT+N764K Spike SARS-CoV-2 variants: 100.0 %\n",
      "\n",
      "\n",
      "Reading pdb file with mutations:  D796Y\n"
     ]
    },
    {
     "name": "stderr",
     "output_type": "stream",
     "text": [
      "C:\\Users\\ugo-c\\AppData\\Local\\Temp\\ipykernel_28224\\1545725321.py:36: VisibleDeprecationWarning: Creating an ndarray from ragged nested sequences (which is a list-or-tuple of lists-or-tuples-or ndarrays with different lengths or shapes) is deprecated. If you meant to do this, you must specify 'dtype=object' when creating the ndarray.\n",
      "  return np.array(coordinates)\n"
     ]
    },
    {
     "name": "stdout",
     "output_type": "stream",
     "text": [
      "Computing WT adj matrix\n",
      "saved adj matrix██████████████████████████████████████████████████████████████████████████████████████| Current progress: 100.00%\n"
     ]
    },
    {
     "name": "stderr",
     "output_type": "stream",
     "text": [
      "C:\\Users\\ugo-c\\AppData\\Local\\Temp\\ipykernel_28224\\3062668350.py:4: DeprecationWarning: Using .default_errordef() is deprecated. Use .errordef instead\n",
      "  alignment.optimise()\n"
     ]
    },
    {
     "name": "stdout",
     "output_type": "stream",
     "text": [
      "WT + mutation D796Y vs WT. TM score: 0.9999999801453989\n",
      "WT + mutation D796Y vs WT. DeltaG stability score:       Chain Wild type AA Amino acid Overall Stability       Torsion  \\\n",
      "14871     A          ASP        TYR     Destabilising  Unfavourable   \n",
      "36360     B          ASP        TYR     Destabilising  Unfavourable   \n",
      "57849     C          ASP        TYR     Destabilising  Unfavourable   \n",
      "\n",
      "      Predicted DDG (kcal/mol)  Residue ID  \n",
      "14871                    -1.18       796.0  \n",
      "36360                    -1.18       796.0  \n",
      "57849                    -1.19       796.0   vs Empty DataFrame\n",
      "Columns: [Chain, Wild type AA, Amino acid, Overall Stability, Torsion, Predicted DDG (kcal/mol)]\n",
      "Index: []\n",
      "Contact similarity between WT and WT+D796Y Spike SARS-CoV-2 variants: 100.0 %\n",
      "\n",
      "\n",
      "Reading pdb file with mutations:  N856K\n"
     ]
    },
    {
     "name": "stderr",
     "output_type": "stream",
     "text": [
      "C:\\Users\\ugo-c\\AppData\\Local\\Temp\\ipykernel_28224\\1545725321.py:36: VisibleDeprecationWarning: Creating an ndarray from ragged nested sequences (which is a list-or-tuple of lists-or-tuples-or ndarrays with different lengths or shapes) is deprecated. If you meant to do this, you must specify 'dtype=object' when creating the ndarray.\n",
      "  return np.array(coordinates)\n"
     ]
    },
    {
     "name": "stdout",
     "output_type": "stream",
     "text": [
      "Computing WT adj matrix\n",
      "saved adj matrix██████████████████████████████████████████████████████████████████████████████████████| Current progress: 100.00%\n"
     ]
    },
    {
     "name": "stderr",
     "output_type": "stream",
     "text": [
      "C:\\Users\\ugo-c\\AppData\\Local\\Temp\\ipykernel_28224\\3062668350.py:4: DeprecationWarning: Using .default_errordef() is deprecated. Use .errordef instead\n",
      "  alignment.optimise()\n"
     ]
    },
    {
     "name": "stdout",
     "output_type": "stream",
     "text": [
      "WT + mutation N856K vs WT. TM score: 0.9999999983762934\n",
      "WT + mutation N856K vs WT. DeltaG stability score:       Chain Wild type AA Amino acid Overall Stability       Torsion  \\\n",
      "16010     A          ASN        LYS     Destabilising  Unfavourable   \n",
      "37499     B          ASN        LYS     Destabilising  Unfavourable   \n",
      "58988     C          ASN        LYS     Destabilising  Unfavourable   \n",
      "\n",
      "      Predicted DDG (kcal/mol)  Residue ID  \n",
      "16010                    -2.08       856.0  \n",
      "37499                    -2.06       856.0  \n",
      "58988                    -2.07       856.0   vs Empty DataFrame\n",
      "Columns: [Chain, Wild type AA, Amino acid, Overall Stability, Torsion, Predicted DDG (kcal/mol)]\n",
      "Index: []\n",
      "Contact similarity between WT and WT+N856K Spike SARS-CoV-2 variants: 100.0 %\n",
      "\n",
      "\n",
      "Reading pdb file with mutations:  Q954H\n"
     ]
    },
    {
     "name": "stderr",
     "output_type": "stream",
     "text": [
      "C:\\Users\\ugo-c\\AppData\\Local\\Temp\\ipykernel_28224\\1545725321.py:36: VisibleDeprecationWarning: Creating an ndarray from ragged nested sequences (which is a list-or-tuple of lists-or-tuples-or ndarrays with different lengths or shapes) is deprecated. If you meant to do this, you must specify 'dtype=object' when creating the ndarray.\n",
      "  return np.array(coordinates)\n"
     ]
    },
    {
     "name": "stdout",
     "output_type": "stream",
     "text": [
      "Computing WT adj matrix\n",
      "saved adj matrix██████████████████████████████████████████████████████████████████████████████████████| Current progress: 100.00%\n"
     ]
    },
    {
     "name": "stderr",
     "output_type": "stream",
     "text": [
      "C:\\Users\\ugo-c\\AppData\\Local\\Temp\\ipykernel_28224\\3062668350.py:4: DeprecationWarning: Using .default_errordef() is deprecated. Use .errordef instead\n",
      "  alignment.optimise()\n"
     ]
    },
    {
     "name": "stdout",
     "output_type": "stream",
     "text": [
      "WT + mutation Q954H vs WT. TM score: 0.9999999852362875\n",
      "WT + mutation Q954H vs WT. DeltaG stability score:       Chain Wild type AA Amino acid Overall Stability       Torsion  \\\n",
      "17878     A          GLN        HIS       Stabilising  Unfavourable   \n",
      "39367     B          GLN        HIS       Stabilising  Unfavourable   \n",
      "60856     C          GLN        HIS       Stabilising  Unfavourable   \n",
      "\n",
      "      Predicted DDG (kcal/mol)  Residue ID  \n",
      "17878                     1.15       954.0  \n",
      "39367                     1.17       954.0  \n",
      "60856                     1.17       954.0   vs Empty DataFrame\n",
      "Columns: [Chain, Wild type AA, Amino acid, Overall Stability, Torsion, Predicted DDG (kcal/mol)]\n",
      "Index: []\n",
      "Contact similarity between WT and WT+Q954H Spike SARS-CoV-2 variants: 100.0 %\n",
      "\n",
      "\n",
      "Reading pdb file with mutations:  N969K\n"
     ]
    },
    {
     "name": "stderr",
     "output_type": "stream",
     "text": [
      "C:\\Users\\ugo-c\\AppData\\Local\\Temp\\ipykernel_28224\\1545725321.py:36: VisibleDeprecationWarning: Creating an ndarray from ragged nested sequences (which is a list-or-tuple of lists-or-tuples-or ndarrays with different lengths or shapes) is deprecated. If you meant to do this, you must specify 'dtype=object' when creating the ndarray.\n",
      "  return np.array(coordinates)\n"
     ]
    },
    {
     "name": "stdout",
     "output_type": "stream",
     "text": [
      "Computing WT adj matrix\n",
      "saved adj matrix██████████████████████████████████████████████████████████████████████████████████████| Current progress: 100.00%\n"
     ]
    },
    {
     "name": "stderr",
     "output_type": "stream",
     "text": [
      "C:\\Users\\ugo-c\\AppData\\Local\\Temp\\ipykernel_28224\\3062668350.py:4: DeprecationWarning: Using .default_errordef() is deprecated. Use .errordef instead\n",
      "  alignment.optimise()\n"
     ]
    },
    {
     "name": "stdout",
     "output_type": "stream",
     "text": [
      "WT + mutation N969K vs WT. TM score: 0.999999992656289\n",
      "WT + mutation N969K vs WT. DeltaG stability score:       Chain Wild type AA Amino acid Overall Stability       Torsion  \\\n",
      "18157     A          ASN        LYS     Destabilising  Unfavourable   \n",
      "39646     B          ASN        LYS     Destabilising  Unfavourable   \n",
      "61135     C          ASN        LYS     Destabilising  Unfavourable   \n",
      "\n",
      "      Predicted DDG (kcal/mol)  Residue ID  \n",
      "18157                     -0.7       969.0  \n",
      "39646                    -0.61       969.0  \n",
      "61135                    -0.67       969.0   vs Empty DataFrame\n",
      "Columns: [Chain, Wild type AA, Amino acid, Overall Stability, Torsion, Predicted DDG (kcal/mol)]\n",
      "Index: []\n",
      "Contact similarity between WT and WT+N969K Spike SARS-CoV-2 variants: 100.0 %\n",
      "\n",
      "\n",
      "Reading pdb file with mutations:  L981F\n"
     ]
    },
    {
     "name": "stderr",
     "output_type": "stream",
     "text": [
      "C:\\Users\\ugo-c\\AppData\\Local\\Temp\\ipykernel_28224\\1545725321.py:36: VisibleDeprecationWarning: Creating an ndarray from ragged nested sequences (which is a list-or-tuple of lists-or-tuples-or ndarrays with different lengths or shapes) is deprecated. If you meant to do this, you must specify 'dtype=object' when creating the ndarray.\n",
      "  return np.array(coordinates)\n"
     ]
    },
    {
     "name": "stdout",
     "output_type": "stream",
     "text": [
      "Computing WT adj matrix\n",
      "saved adj matrix██████████████████████████████████████████████████████████████████████████████████████| Current progress: 100.00%\n"
     ]
    },
    {
     "name": "stderr",
     "output_type": "stream",
     "text": [
      "C:\\Users\\ugo-c\\AppData\\Local\\Temp\\ipykernel_28224\\3062668350.py:4: DeprecationWarning: Using .default_errordef() is deprecated. Use .errordef instead\n",
      "  alignment.optimise()\n"
     ]
    },
    {
     "name": "stdout",
     "output_type": "stream",
     "text": [
      "WT + mutation L981F vs WT. TM score: 0.9999999940683728\n",
      "WT + mutation L981F vs WT. DeltaG stability score:       Chain Wild type AA Amino acid Overall Stability       Torsion  \\\n",
      "18382     A          LEU        PHE       Stabilising  Unfavourable   \n",
      "39871     B          LEU        PHE       Stabilising  Unfavourable   \n",
      "61360     C          LEU        PHE       Stabilising  Unfavourable   \n",
      "\n",
      "      Predicted DDG (kcal/mol)  Residue ID  \n",
      "18382                     0.15       981.0  \n",
      "39871                     0.17       981.0  \n",
      "61360                     0.15       981.0   vs Empty DataFrame\n",
      "Columns: [Chain, Wild type AA, Amino acid, Overall Stability, Torsion, Predicted DDG (kcal/mol)]\n",
      "Index: []\n",
      "Contact similarity between WT and WT+L981F Spike SARS-CoV-2 variants: 100.0 %\n",
      "\n",
      "\n",
      "Done mutation  ['L981F']\n",
      "Reading pdb file with mutations:  V213G\n"
     ]
    },
    {
     "name": "stderr",
     "output_type": "stream",
     "text": [
      "C:\\Users\\ugo-c\\AppData\\Local\\Temp\\ipykernel_28224\\1545725321.py:36: VisibleDeprecationWarning: Creating an ndarray from ragged nested sequences (which is a list-or-tuple of lists-or-tuples-or ndarrays with different lengths or shapes) is deprecated. If you meant to do this, you must specify 'dtype=object' when creating the ndarray.\n",
      "  return np.array(coordinates)\n"
     ]
    },
    {
     "name": "stdout",
     "output_type": "stream",
     "text": [
      "Computing WT adj matrix\n",
      "saved adj matrix██████████████████████████████████████████████████████████████████████████████████████| Current progress: 100.00%\n"
     ]
    },
    {
     "name": "stderr",
     "output_type": "stream",
     "text": [
      "C:\\Users\\ugo-c\\AppData\\Local\\Temp\\ipykernel_28224\\3062668350.py:4: DeprecationWarning: Using .default_errordef() is deprecated. Use .errordef instead\n",
      "  alignment.optimise()\n"
     ]
    },
    {
     "name": "stdout",
     "output_type": "stream",
     "text": [
      "WT + mutation V213G vs WT. TM score: 0.999999993911832\n",
      "WT + mutation V213G vs WT. DeltaG stability score:       Chain Wild type AA Amino acid Overall Stability       Torsion  \\\n",
      "3781      A          VAL        GLY       Stabilising  Unfavourable   \n",
      "25270     B          VAL        GLY       Stabilising  Unfavourable   \n",
      "46759     C          VAL        GLY       Stabilising  Unfavourable   \n",
      "\n",
      "      Predicted DDG (kcal/mol)  Residue ID  \n",
      "3781                      1.55       213.0  \n",
      "25270                     1.55       213.0  \n",
      "46759                     1.56       213.0   vs Empty DataFrame\n",
      "Columns: [Chain, Wild type AA, Amino acid, Overall Stability, Torsion, Predicted DDG (kcal/mol)]\n",
      "Index: []\n",
      "Contact similarity between WT and WT+V213G Spike SARS-CoV-2 variants: 100.0 %\n",
      "\n",
      "\n",
      "Reading pdb file with mutations:  S371F\n"
     ]
    },
    {
     "name": "stderr",
     "output_type": "stream",
     "text": [
      "C:\\Users\\ugo-c\\AppData\\Local\\Temp\\ipykernel_28224\\1545725321.py:36: VisibleDeprecationWarning: Creating an ndarray from ragged nested sequences (which is a list-or-tuple of lists-or-tuples-or ndarrays with different lengths or shapes) is deprecated. If you meant to do this, you must specify 'dtype=object' when creating the ndarray.\n",
      "  return np.array(coordinates)\n"
     ]
    },
    {
     "name": "stdout",
     "output_type": "stream",
     "text": [
      "Computing WT adj matrix\n",
      "saved adj matrix██████████████████████████████████████████████████████████████████████████████████████| Current progress: 100.00%\n"
     ]
    },
    {
     "name": "stderr",
     "output_type": "stream",
     "text": [
      "C:\\Users\\ugo-c\\AppData\\Local\\Temp\\ipykernel_28224\\3062668350.py:4: DeprecationWarning: Using .default_errordef() is deprecated. Use .errordef instead\n",
      "  alignment.optimise()\n"
     ]
    },
    {
     "name": "stdout",
     "output_type": "stream",
     "text": [
      "WT + mutation S371F vs WT. TM score: 0.999999980748168\n",
      "WT + mutation S371F vs WT. DeltaG stability score:       Chain Wild type AA Amino acid Overall Stability       Torsion  \\\n",
      "6792      A          SER        PHE       Stabilising  Unfavourable   \n",
      "28281     B          SER        PHE       Stabilising  Unfavourable   \n",
      "49770     C          SER        PHE       Stabilising  Unfavourable   \n",
      "\n",
      "      Predicted DDG (kcal/mol)  Residue ID  \n",
      "6792                      0.67       371.0  \n",
      "28281                     0.94       371.0  \n",
      "49770                      0.9       371.0   vs Empty DataFrame\n",
      "Columns: [Chain, Wild type AA, Amino acid, Overall Stability, Torsion, Predicted DDG (kcal/mol)]\n",
      "Index: []\n",
      "Contact similarity between WT and WT+S371F Spike SARS-CoV-2 variants: 100.0 %\n",
      "\n",
      "\n",
      "Reading pdb file with mutations:  T376A\n"
     ]
    },
    {
     "name": "stderr",
     "output_type": "stream",
     "text": [
      "C:\\Users\\ugo-c\\AppData\\Local\\Temp\\ipykernel_28224\\1545725321.py:36: VisibleDeprecationWarning: Creating an ndarray from ragged nested sequences (which is a list-or-tuple of lists-or-tuples-or ndarrays with different lengths or shapes) is deprecated. If you meant to do this, you must specify 'dtype=object' when creating the ndarray.\n",
      "  return np.array(coordinates)\n"
     ]
    },
    {
     "name": "stdout",
     "output_type": "stream",
     "text": [
      "Computing WT adj matrix\n",
      "saved adj matrix██████████████████████████████████████████████████████████████████████████████████████| Current progress: 100.00%\n"
     ]
    },
    {
     "name": "stderr",
     "output_type": "stream",
     "text": [
      "C:\\Users\\ugo-c\\AppData\\Local\\Temp\\ipykernel_28224\\3062668350.py:4: DeprecationWarning: Using .default_errordef() is deprecated. Use .errordef instead\n",
      "  alignment.optimise()\n"
     ]
    },
    {
     "name": "stdout",
     "output_type": "stream",
     "text": [
      "WT + mutation T376A vs WT. TM score: 0.9999999878635443\n",
      "WT + mutation T376A vs WT. DeltaG stability score:       Chain Wild type AA Amino acid Overall Stability       Torsion  \\\n",
      "6879      A          THR        ALA     Destabilising  Unfavourable   \n",
      "28368     B          THR        ALA     Destabilising  Unfavourable   \n",
      "49857     C          THR        ALA     Destabilising  Unfavourable   \n",
      "\n",
      "      Predicted DDG (kcal/mol)  Residue ID  \n",
      "6879                     -1.29       376.0  \n",
      "28368                    -1.31       376.0  \n",
      "49857                    -1.33       376.0   vs Empty DataFrame\n",
      "Columns: [Chain, Wild type AA, Amino acid, Overall Stability, Torsion, Predicted DDG (kcal/mol)]\n",
      "Index: []\n",
      "Contact similarity between WT and WT+T376A Spike SARS-CoV-2 variants: 100.0 %\n",
      "\n",
      "\n",
      "Reading pdb file with mutations:  D405N\n"
     ]
    },
    {
     "name": "stderr",
     "output_type": "stream",
     "text": [
      "C:\\Users\\ugo-c\\AppData\\Local\\Temp\\ipykernel_28224\\1545725321.py:36: VisibleDeprecationWarning: Creating an ndarray from ragged nested sequences (which is a list-or-tuple of lists-or-tuples-or ndarrays with different lengths or shapes) is deprecated. If you meant to do this, you must specify 'dtype=object' when creating the ndarray.\n",
      "  return np.array(coordinates)\n"
     ]
    },
    {
     "name": "stdout",
     "output_type": "stream",
     "text": [
      "Computing WT adj matrix\n",
      "saved adj matrix██████████████████████████████████████████████████████████████████████████████████████| Current progress: 100.00%\n"
     ]
    },
    {
     "name": "stderr",
     "output_type": "stream",
     "text": [
      "C:\\Users\\ugo-c\\AppData\\Local\\Temp\\ipykernel_28224\\3062668350.py:4: DeprecationWarning: Using .default_errordef() is deprecated. Use .errordef instead\n",
      "  alignment.optimise()\n"
     ]
    },
    {
     "name": "stdout",
     "output_type": "stream",
     "text": [
      "WT + mutation D405N vs WT. TM score: 0.9999999938579455\n",
      "WT + mutation D405N vs WT. DeltaG stability score:       Chain Wild type AA Amino acid Overall Stability     Torsion  \\\n",
      "7443      A          ASP        ASN     Destabilising  Favourable   \n",
      "28932     B          ASP        ASN     Destabilising  Favourable   \n",
      "50421     C          ASP        ASN     Destabilising  Favourable   \n",
      "\n",
      "      Predicted DDG (kcal/mol)  Residue ID  \n",
      "7443                     -2.05       405.0  \n",
      "28932                    -2.11       405.0  \n",
      "50421                    -2.08       405.0   vs Empty DataFrame\n",
      "Columns: [Chain, Wild type AA, Amino acid, Overall Stability, Torsion, Predicted DDG (kcal/mol)]\n",
      "Index: []\n",
      "Contact similarity between WT and WT+D405N Spike SARS-CoV-2 variants: 100.0 %\n",
      "\n",
      "\n",
      "Reading pdb file with mutations:  R408S\n"
     ]
    },
    {
     "name": "stderr",
     "output_type": "stream",
     "text": [
      "C:\\Users\\ugo-c\\AppData\\Local\\Temp\\ipykernel_28224\\1545725321.py:36: VisibleDeprecationWarning: Creating an ndarray from ragged nested sequences (which is a list-or-tuple of lists-or-tuples-or ndarrays with different lengths or shapes) is deprecated. If you meant to do this, you must specify 'dtype=object' when creating the ndarray.\n",
      "  return np.array(coordinates)\n"
     ]
    },
    {
     "name": "stdout",
     "output_type": "stream",
     "text": [
      "Computing WT adj matrix\n",
      "saved adj matrix██████████████████████████████████████████████████████████████████████████████████████| Current progress: 100.00%\n"
     ]
    },
    {
     "name": "stderr",
     "output_type": "stream",
     "text": [
      "C:\\Users\\ugo-c\\AppData\\Local\\Temp\\ipykernel_28224\\3062668350.py:4: DeprecationWarning: Using .default_errordef() is deprecated. Use .errordef instead\n",
      "  alignment.optimise()\n"
     ]
    },
    {
     "name": "stdout",
     "output_type": "stream",
     "text": [
      "WT + mutation R408S vs WT. TM score: 0.9999999920534935\n",
      "WT + mutation R408S vs WT. DeltaG stability score:       Chain Wild type AA Amino acid Overall Stability     Torsion  \\\n",
      "7494      A          ARG        SER     Destabilising  Favourable   \n",
      "28983     B          ARG        SER     Destabilising  Favourable   \n",
      "50472     C          ARG        SER     Destabilising  Favourable   \n",
      "\n",
      "      Predicted DDG (kcal/mol)  Residue ID  \n",
      "7494                     -0.68       408.0  \n",
      "28983                    -0.69       408.0  \n",
      "50472                    -0.67       408.0   vs Empty DataFrame\n",
      "Columns: [Chain, Wild type AA, Amino acid, Overall Stability, Torsion, Predicted DDG (kcal/mol)]\n",
      "Index: []\n",
      "Contact similarity between WT and WT+R408S Spike SARS-CoV-2 variants: 100.0 %\n",
      "\n",
      "\n",
      "Reading pdb file with mutations:  L452R\n"
     ]
    },
    {
     "name": "stderr",
     "output_type": "stream",
     "text": [
      "C:\\Users\\ugo-c\\AppData\\Local\\Temp\\ipykernel_28224\\1545725321.py:36: VisibleDeprecationWarning: Creating an ndarray from ragged nested sequences (which is a list-or-tuple of lists-or-tuples-or ndarrays with different lengths or shapes) is deprecated. If you meant to do this, you must specify 'dtype=object' when creating the ndarray.\n",
      "  return np.array(coordinates)\n"
     ]
    },
    {
     "name": "stdout",
     "output_type": "stream",
     "text": [
      "Computing WT adj matrix\n",
      "saved adj matrix██████████████████████████████████████████████████████████████████████████████████████| Current progress: 100.00%\n"
     ]
    },
    {
     "name": "stderr",
     "output_type": "stream",
     "text": [
      "C:\\Users\\ugo-c\\AppData\\Local\\Temp\\ipykernel_28224\\3062668350.py:4: DeprecationWarning: Using .default_errordef() is deprecated. Use .errordef instead\n",
      "  alignment.optimise()\n"
     ]
    },
    {
     "name": "stdout",
     "output_type": "stream",
     "text": [
      "WT + mutation L452R vs WT. TM score: 0.9999999950462494\n",
      "WT + mutation L452R vs WT. DeltaG stability score:       Chain Wild type AA Amino acid Overall Stability     Torsion  \\\n",
      "8339      A          LEU        ARG     Destabilising  Favourable   \n",
      "29828     B          LEU        ARG     Destabilising  Favourable   \n",
      "51317     C          LEU        ARG     Destabilising  Favourable   \n",
      "\n",
      "      Predicted DDG (kcal/mol)  Residue ID  \n",
      "8339                     -0.93       452.0  \n",
      "29828                    -0.97       452.0  \n",
      "51317                    -0.89       452.0   vs Empty DataFrame\n",
      "Columns: [Chain, Wild type AA, Amino acid, Overall Stability, Torsion, Predicted DDG (kcal/mol)]\n",
      "Index: []\n",
      "Contact similarity between WT and WT+L452R Spike SARS-CoV-2 variants: 100.0 %\n",
      "\n",
      "\n",
      "Reading pdb file with mutations:  F486V\n"
     ]
    },
    {
     "name": "stderr",
     "output_type": "stream",
     "text": [
      "C:\\Users\\ugo-c\\AppData\\Local\\Temp\\ipykernel_28224\\1545725321.py:36: VisibleDeprecationWarning: Creating an ndarray from ragged nested sequences (which is a list-or-tuple of lists-or-tuples-or ndarrays with different lengths or shapes) is deprecated. If you meant to do this, you must specify 'dtype=object' when creating the ndarray.\n",
      "  return np.array(coordinates)\n"
     ]
    },
    {
     "name": "stdout",
     "output_type": "stream",
     "text": [
      "Computing WT adj matrix\n",
      "saved adj matrix██████████████████████████████████████████████████████████████████████████████████████| Current progress: 100.00%\n"
     ]
    },
    {
     "name": "stderr",
     "output_type": "stream",
     "text": [
      "C:\\Users\\ugo-c\\AppData\\Local\\Temp\\ipykernel_28224\\3062668350.py:4: DeprecationWarning: Using .default_errordef() is deprecated. Use .errordef instead\n",
      "  alignment.optimise()\n"
     ]
    },
    {
     "name": "stdout",
     "output_type": "stream",
     "text": [
      "WT + mutation F486V vs WT. TM score: 0.9999999978222781\n",
      "WT + mutation F486V vs WT. DeltaG stability score:       Chain Wild type AA Amino acid Overall Stability     Torsion  \\\n",
      "8970      A          PHE        VAL     Destabilising  Favourable   \n",
      "30459     B          PHE        VAL     Destabilising  Favourable   \n",
      "51948     C          PHE        VAL       Stabilising  Favourable   \n",
      "\n",
      "      Predicted DDG (kcal/mol)  Residue ID  \n",
      "8970                     -0.98       486.0  \n",
      "30459                    -0.17       486.0  \n",
      "51948                     0.39       486.0   vs Empty DataFrame\n",
      "Columns: [Chain, Wild type AA, Amino acid, Overall Stability, Torsion, Predicted DDG (kcal/mol)]\n",
      "Index: []\n",
      "Contact similarity between WT and WT+F486V Spike SARS-CoV-2 variants: 100.0 %\n",
      "\n",
      "\n",
      "Done mutation  N969K\n",
      "Reading pdb file with mutations:  R158G\n"
     ]
    },
    {
     "name": "stderr",
     "output_type": "stream",
     "text": [
      "C:\\Users\\ugo-c\\AppData\\Local\\Temp\\ipykernel_28224\\1545725321.py:36: VisibleDeprecationWarning: Creating an ndarray from ragged nested sequences (which is a list-or-tuple of lists-or-tuples-or ndarrays with different lengths or shapes) is deprecated. If you meant to do this, you must specify 'dtype=object' when creating the ndarray.\n",
      "  return np.array(coordinates)\n"
     ]
    },
    {
     "name": "stdout",
     "output_type": "stream",
     "text": [
      "Computing WT adj matrix\n",
      "saved adj matrix██████████████████████████████████████████████████████████████████████████████████████| Current progress: 100.00%\n"
     ]
    },
    {
     "name": "stderr",
     "output_type": "stream",
     "text": [
      "C:\\Users\\ugo-c\\AppData\\Local\\Temp\\ipykernel_28224\\3062668350.py:4: DeprecationWarning: Using .default_errordef() is deprecated. Use .errordef instead\n",
      "  alignment.optimise()\n"
     ]
    },
    {
     "name": "stdout",
     "output_type": "stream",
     "text": [
      "WT + mutation R158G vs WT. TM score: 0.9999999995948623\n",
      "WT + mutation R158G vs WT. DeltaG stability score:       Chain Wild type AA Amino acid Overall Stability       Torsion  \\\n",
      "2736      A          ARG        GLY     Destabilising  Unfavourable   \n",
      "24225     B          ARG        GLY     Destabilising  Unfavourable   \n",
      "45714     C          ARG        GLY     Destabilising  Unfavourable   \n",
      "\n",
      "      Predicted DDG (kcal/mol)  Residue ID  \n",
      "2736                     -2.27       158.0  \n",
      "24225                    -2.38       158.0  \n",
      "45714                    -3.07       158.0   vs Empty DataFrame\n",
      "Columns: [Chain, Wild type AA, Amino acid, Overall Stability, Torsion, Predicted DDG (kcal/mol)]\n",
      "Index: []\n",
      "Contact similarity between WT and WT+R158G Spike SARS-CoV-2 variants: 100.0 %\n",
      "\n",
      "\n",
      "Reading pdb file with mutations:  P681R\n"
     ]
    },
    {
     "name": "stderr",
     "output_type": "stream",
     "text": [
      "C:\\Users\\ugo-c\\AppData\\Local\\Temp\\ipykernel_28224\\1545725321.py:36: VisibleDeprecationWarning: Creating an ndarray from ragged nested sequences (which is a list-or-tuple of lists-or-tuples-or ndarrays with different lengths or shapes) is deprecated. If you meant to do this, you must specify 'dtype=object' when creating the ndarray.\n",
      "  return np.array(coordinates)\n"
     ]
    },
    {
     "name": "stdout",
     "output_type": "stream",
     "text": [
      "Computing WT adj matrix\n",
      "saved adj matrix██████████████████████████████████████████████████████████████████████████████████████| Current progress: 100.00%\n"
     ]
    },
    {
     "name": "stderr",
     "output_type": "stream",
     "text": [
      "C:\\Users\\ugo-c\\AppData\\Local\\Temp\\ipykernel_28224\\3062668350.py:4: DeprecationWarning: Using .default_errordef() is deprecated. Use .errordef instead\n",
      "  alignment.optimise()\n"
     ]
    },
    {
     "name": "stdout",
     "output_type": "stream",
     "text": [
      "WT + mutation P681R vs WT. TM score: 0.9999999957424046\n",
      "WT + mutation P681R vs WT. DeltaG stability score:       Chain Wild type AA Amino acid Overall Stability       Torsion  \\\n",
      "12690     A          PRO        ARG       Stabilising  Unfavourable   \n",
      "34179     B          PRO        ARG       Stabilising  Unfavourable   \n",
      "55668     C          PRO        ARG       Stabilising  Unfavourable   \n",
      "\n",
      "      Predicted DDG (kcal/mol)  Residue ID  \n",
      "12690                     3.18       681.0  \n",
      "34179                     3.91       681.0  \n",
      "55668                     3.91       681.0   vs Empty DataFrame\n",
      "Columns: [Chain, Wild type AA, Amino acid, Overall Stability, Torsion, Predicted DDG (kcal/mol)]\n",
      "Index: []\n",
      "Contact similarity between WT and WT+P681R Spike SARS-CoV-2 variants: 100.0 %\n",
      "\n",
      "\n",
      "Reading pdb file with mutations:  D950N\n"
     ]
    },
    {
     "name": "stderr",
     "output_type": "stream",
     "text": [
      "C:\\Users\\ugo-c\\AppData\\Local\\Temp\\ipykernel_28224\\1545725321.py:36: VisibleDeprecationWarning: Creating an ndarray from ragged nested sequences (which is a list-or-tuple of lists-or-tuples-or ndarrays with different lengths or shapes) is deprecated. If you meant to do this, you must specify 'dtype=object' when creating the ndarray.\n",
      "  return np.array(coordinates)\n"
     ]
    },
    {
     "name": "stdout",
     "output_type": "stream",
     "text": [
      "Computing WT adj matrix\n",
      "saved adj matrix██████████████████████████████████████████████████████████████████████████████████████| Current progress: 100.00%\n"
     ]
    },
    {
     "name": "stderr",
     "output_type": "stream",
     "text": [
      "C:\\Users\\ugo-c\\AppData\\Local\\Temp\\ipykernel_28224\\3062668350.py:4: DeprecationWarning: Using .default_errordef() is deprecated. Use .errordef instead\n",
      "  alignment.optimise()\n"
     ]
    },
    {
     "name": "stdout",
     "output_type": "stream",
     "text": [
      "WT + mutation D950N vs WT. TM score: 0.9999999973675998\n",
      "WT + mutation D950N vs WT. DeltaG stability score:       Chain Wild type AA Amino acid Overall Stability       Torsion  \\\n",
      "17798     A          ASP        ASN     Destabilising  Unfavourable   \n",
      "39287     B          ASP        ASN     Destabilising  Unfavourable   \n",
      "60776     C          ASP        ASN     Destabilising  Unfavourable   \n",
      "\n",
      "      Predicted DDG (kcal/mol)  Residue ID  \n",
      "17798                    -0.75       950.0  \n",
      "39287                     -0.8       950.0  \n",
      "60776                    -0.75       950.0   vs Empty DataFrame\n",
      "Columns: [Chain, Wild type AA, Amino acid, Overall Stability, Torsion, Predicted DDG (kcal/mol)]\n",
      "Index: []\n",
      "Contact similarity between WT and WT+D950N Spike SARS-CoV-2 variants: 100.0 %\n",
      "\n",
      "\n",
      "Done mutation  ['D950N']\n",
      "Reading pdb file with mutations:  A570D\n"
     ]
    },
    {
     "name": "stderr",
     "output_type": "stream",
     "text": [
      "C:\\Users\\ugo-c\\AppData\\Local\\Temp\\ipykernel_28224\\1545725321.py:36: VisibleDeprecationWarning: Creating an ndarray from ragged nested sequences (which is a list-or-tuple of lists-or-tuples-or ndarrays with different lengths or shapes) is deprecated. If you meant to do this, you must specify 'dtype=object' when creating the ndarray.\n",
      "  return np.array(coordinates)\n"
     ]
    },
    {
     "name": "stdout",
     "output_type": "stream",
     "text": [
      "Computing WT adj matrix\n",
      "saved adj matrix██████████████████████████████████████████████████████████████████████████████████████| Current progress: 100.00%\n"
     ]
    },
    {
     "name": "stderr",
     "output_type": "stream",
     "text": [
      "C:\\Users\\ugo-c\\AppData\\Local\\Temp\\ipykernel_28224\\3062668350.py:4: DeprecationWarning: Using .default_errordef() is deprecated. Use .errordef instead\n",
      "  alignment.optimise()\n"
     ]
    },
    {
     "name": "stdout",
     "output_type": "stream",
     "text": [
      "WT + mutation A570D vs WT. TM score: 0.9999999951355926\n",
      "WT + mutation A570D vs WT. DeltaG stability score:       Chain Wild type AA Amino acid Overall Stability     Torsion  \\\n",
      "10580     A          ALA        ASP     Destabilising  Favourable   \n",
      "32069     B          ALA        ASP     Destabilising  Favourable   \n",
      "53558     C          ALA        ASP     Destabilising  Favourable   \n",
      "\n",
      "      Predicted DDG (kcal/mol)  Residue ID  \n",
      "10580                    -2.44       570.0  \n",
      "32069                    -2.35       570.0  \n",
      "53558                    -2.32       570.0   vs Empty DataFrame\n",
      "Columns: [Chain, Wild type AA, Amino acid, Overall Stability, Torsion, Predicted DDG (kcal/mol)]\n",
      "Index: []\n",
      "Contact similarity between WT and WT+A570D Spike SARS-CoV-2 variants: 100.0 %\n",
      "\n",
      "\n",
      "Reading pdb file with mutations:  T716I\n"
     ]
    },
    {
     "name": "stderr",
     "output_type": "stream",
     "text": [
      "C:\\Users\\ugo-c\\AppData\\Local\\Temp\\ipykernel_28224\\1545725321.py:36: VisibleDeprecationWarning: Creating an ndarray from ragged nested sequences (which is a list-or-tuple of lists-or-tuples-or ndarrays with different lengths or shapes) is deprecated. If you meant to do this, you must specify 'dtype=object' when creating the ndarray.\n",
      "  return np.array(coordinates)\n"
     ]
    },
    {
     "name": "stdout",
     "output_type": "stream",
     "text": [
      "Computing WT adj matrix\n",
      "saved adj matrix██████████████████████████████████████████████████████████████████████████████████████| Current progress: 100.00%\n"
     ]
    },
    {
     "name": "stderr",
     "output_type": "stream",
     "text": [
      "C:\\Users\\ugo-c\\AppData\\Local\\Temp\\ipykernel_28224\\3062668350.py:4: DeprecationWarning: Using .default_errordef() is deprecated. Use .errordef instead\n",
      "  alignment.optimise()\n"
     ]
    },
    {
     "name": "stdout",
     "output_type": "stream",
     "text": [
      "WT + mutation T716I vs WT. TM score: 0.9999999946579106\n",
      "WT + mutation T716I vs WT. DeltaG stability score:       Chain Wild type AA Amino acid Overall Stability       Torsion  \\\n",
      "13342     A          THR        ILE       Stabilising  Unfavourable   \n",
      "34831     B          THR        ILE     Destabilising  Unfavourable   \n",
      "56320     C          THR        ILE       Stabilising  Unfavourable   \n",
      "\n",
      "      Predicted DDG (kcal/mol)  Residue ID  \n",
      "13342                     0.08       716.0  \n",
      "34831                    -0.08       716.0  \n",
      "56320                     0.14       716.0   vs Empty DataFrame\n",
      "Columns: [Chain, Wild type AA, Amino acid, Overall Stability, Torsion, Predicted DDG (kcal/mol)]\n",
      "Index: []\n",
      "Contact similarity between WT and WT+T716I Spike SARS-CoV-2 variants: 100.0 %\n",
      "\n",
      "\n",
      "Reading pdb file with mutations:  S982A\n"
     ]
    },
    {
     "name": "stderr",
     "output_type": "stream",
     "text": [
      "C:\\Users\\ugo-c\\AppData\\Local\\Temp\\ipykernel_28224\\1545725321.py:36: VisibleDeprecationWarning: Creating an ndarray from ragged nested sequences (which is a list-or-tuple of lists-or-tuples-or ndarrays with different lengths or shapes) is deprecated. If you meant to do this, you must specify 'dtype=object' when creating the ndarray.\n",
      "  return np.array(coordinates)\n"
     ]
    },
    {
     "name": "stdout",
     "output_type": "stream",
     "text": [
      "Computing WT adj matrix\n",
      "saved adj matrix██████████████████████████████████████████████████████████████████████████████████████| Current progress: 100.00%\n"
     ]
    },
    {
     "name": "stderr",
     "output_type": "stream",
     "text": [
      "C:\\Users\\ugo-c\\AppData\\Local\\Temp\\ipykernel_28224\\3062668350.py:4: DeprecationWarning: Using .default_errordef() is deprecated. Use .errordef instead\n",
      "  alignment.optimise()\n"
     ]
    },
    {
     "name": "stdout",
     "output_type": "stream",
     "text": [
      "WT + mutation S982A vs WT. TM score: 0.9999999806768884\n",
      "WT + mutation S982A vs WT. DeltaG stability score:       Chain Wild type AA Amino acid Overall Stability     Torsion  \\\n",
      "18393     A          SER        ALA       Stabilising  Favourable   \n",
      "39882     B          SER        ALA       Stabilising  Favourable   \n",
      "61371     C          SER        ALA       Stabilising  Favourable   \n",
      "\n",
      "      Predicted DDG (kcal/mol)  Residue ID  \n",
      "18393                     4.07       982.0  \n",
      "39882                     2.56       982.0  \n",
      "61371                     2.61       982.0   vs Empty DataFrame\n",
      "Columns: [Chain, Wild type AA, Amino acid, Overall Stability, Torsion, Predicted DDG (kcal/mol)]\n",
      "Index: []\n",
      "Contact similarity between WT and WT+S982A Spike SARS-CoV-2 variants: 100.0 %\n",
      "\n",
      "\n",
      "Reading pdb file with mutations:  D1118H\n"
     ]
    },
    {
     "name": "stderr",
     "output_type": "stream",
     "text": [
      "C:\\Users\\ugo-c\\AppData\\Local\\Temp\\ipykernel_28224\\1545725321.py:36: VisibleDeprecationWarning: Creating an ndarray from ragged nested sequences (which is a list-or-tuple of lists-or-tuples-or ndarrays with different lengths or shapes) is deprecated. If you meant to do this, you must specify 'dtype=object' when creating the ndarray.\n",
      "  return np.array(coordinates)\n"
     ]
    },
    {
     "name": "stdout",
     "output_type": "stream",
     "text": [
      "Computing WT adj matrix\n",
      "saved adj matrix██████████████████████████████████████████████████████████████████████████████████████| Current progress: 100.00%\n"
     ]
    },
    {
     "name": "stderr",
     "output_type": "stream",
     "text": [
      "C:\\Users\\ugo-c\\AppData\\Local\\Temp\\ipykernel_28224\\3062668350.py:4: DeprecationWarning: Using .default_errordef() is deprecated. Use .errordef instead\n",
      "  alignment.optimise()\n"
     ]
    },
    {
     "name": "stdout",
     "output_type": "stream",
     "text": [
      "WT + mutation D1118H vs WT. TM score: 0.9999999767190051\n",
      "WT + mutation D1118H vs WT. DeltaG stability score:       Chain Wild type AA Amino acid Overall Stability       Torsion  \\\n",
      "20994     A          ASP        HIS     Destabilising  Unfavourable   \n",
      "42483     B          ASP        HIS     Destabilising  Unfavourable   \n",
      "63972     C          ASP        HIS     Destabilising  Unfavourable   \n",
      "\n",
      "      Predicted DDG (kcal/mol)  Residue ID  \n",
      "20994                    -4.33      1118.0  \n",
      "42483                    -4.56      1118.0  \n",
      "63972                    -4.34      1118.0   vs Empty DataFrame\n",
      "Columns: [Chain, Wild type AA, Amino acid, Overall Stability, Torsion, Predicted DDG (kcal/mol)]\n",
      "Index: []\n",
      "Contact similarity between WT and WT+D1118H Spike SARS-CoV-2 variants: 100.0 %\n",
      "\n",
      "\n",
      "Done mutation  ['D1118H']\n",
      "Reading pdb file with mutations:  D80A\n"
     ]
    },
    {
     "name": "stderr",
     "output_type": "stream",
     "text": [
      "C:\\Users\\ugo-c\\AppData\\Local\\Temp\\ipykernel_28224\\1545725321.py:36: VisibleDeprecationWarning: Creating an ndarray from ragged nested sequences (which is a list-or-tuple of lists-or-tuples-or ndarrays with different lengths or shapes) is deprecated. If you meant to do this, you must specify 'dtype=object' when creating the ndarray.\n",
      "  return np.array(coordinates)\n"
     ]
    },
    {
     "name": "stdout",
     "output_type": "stream",
     "text": [
      "Computing WT adj matrix\n",
      "saved adj matrix██████████████████████████████████████████████████████████████████████████████████████| Current progress: 100.00%\n"
     ]
    },
    {
     "name": "stderr",
     "output_type": "stream",
     "text": [
      "C:\\Users\\ugo-c\\AppData\\Local\\Temp\\ipykernel_28224\\3062668350.py:4: DeprecationWarning: Using .default_errordef() is deprecated. Use .errordef instead\n",
      "  alignment.optimise()\n"
     ]
    },
    {
     "name": "stdout",
     "output_type": "stream",
     "text": [
      "WT + mutation D80A vs WT. TM score: 0.9999999689260414\n",
      "WT + mutation D80A vs WT. DeltaG stability score:       Chain Wild type AA Amino acid Overall Stability       Torsion  \\\n",
      "1255      A          ASP        ALA     Destabilising  Unfavourable   \n",
      "22744     B          ASP        ALA     Destabilising  Unfavourable   \n",
      "44233     C          ASP        ALA     Destabilising  Unfavourable   \n",
      "\n",
      "      Predicted DDG (kcal/mol)  Residue ID  \n",
      "1255                     -5.67        80.0  \n",
      "22744                    -5.31        80.0  \n",
      "44233                    -4.94        80.0   vs Empty DataFrame\n",
      "Columns: [Chain, Wild type AA, Amino acid, Overall Stability, Torsion, Predicted DDG (kcal/mol)]\n",
      "Index: []\n",
      "Contact similarity between WT and WT+D80A Spike SARS-CoV-2 variants: 100.0 %\n",
      "\n",
      "\n",
      "Reading pdb file with mutations:  D215G\n"
     ]
    },
    {
     "name": "stderr",
     "output_type": "stream",
     "text": [
      "C:\\Users\\ugo-c\\AppData\\Local\\Temp\\ipykernel_28224\\1545725321.py:36: VisibleDeprecationWarning: Creating an ndarray from ragged nested sequences (which is a list-or-tuple of lists-or-tuples-or ndarrays with different lengths or shapes) is deprecated. If you meant to do this, you must specify 'dtype=object' when creating the ndarray.\n",
      "  return np.array(coordinates)\n"
     ]
    },
    {
     "name": "stdout",
     "output_type": "stream",
     "text": [
      "Computing WT adj matrix\n",
      "saved adj matrix██████████████████████████████████████████████████████████████████████████████████████| Current progress: 100.00%\n"
     ]
    },
    {
     "name": "stderr",
     "output_type": "stream",
     "text": [
      "C:\\Users\\ugo-c\\AppData\\Local\\Temp\\ipykernel_28224\\3062668350.py:4: DeprecationWarning: Using .default_errordef() is deprecated. Use .errordef instead\n",
      "  alignment.optimise()\n"
     ]
    },
    {
     "name": "stdout",
     "output_type": "stream",
     "text": [
      "WT + mutation D215G vs WT. TM score: 0.9999999988677463\n",
      "WT + mutation D215G vs WT. DeltaG stability score:       Chain Wild type AA Amino acid Overall Stability       Torsion  \\\n",
      "3819      A          ASP        GLY       Stabilising  Unfavourable   \n",
      "25308     B          ASP        GLY       Stabilising  Unfavourable   \n",
      "46797     C          ASP        GLY       Stabilising  Unfavourable   \n",
      "\n",
      "      Predicted DDG (kcal/mol)  Residue ID  \n",
      "3819                       0.6       215.0  \n",
      "25308                     0.56       215.0  \n",
      "46797                     0.52       215.0   vs Empty DataFrame\n",
      "Columns: [Chain, Wild type AA, Amino acid, Overall Stability, Torsion, Predicted DDG (kcal/mol)]\n",
      "Index: []\n",
      "Contact similarity between WT and WT+D215G Spike SARS-CoV-2 variants: 100.0 %\n",
      "\n",
      "\n",
      "Reading pdb file with mutations:  R246I\n"
     ]
    },
    {
     "name": "stderr",
     "output_type": "stream",
     "text": [
      "C:\\Users\\ugo-c\\AppData\\Local\\Temp\\ipykernel_28224\\1545725321.py:36: VisibleDeprecationWarning: Creating an ndarray from ragged nested sequences (which is a list-or-tuple of lists-or-tuples-or ndarrays with different lengths or shapes) is deprecated. If you meant to do this, you must specify 'dtype=object' when creating the ndarray.\n",
      "  return np.array(coordinates)\n"
     ]
    },
    {
     "name": "stdout",
     "output_type": "stream",
     "text": [
      "Computing WT adj matrix\n",
      "saved adj matrix██████████████████████████████████████████████████████████████████████████████████████| Current progress: 100.00%\n"
     ]
    },
    {
     "name": "stderr",
     "output_type": "stream",
     "text": [
      "C:\\Users\\ugo-c\\AppData\\Local\\Temp\\ipykernel_28224\\3062668350.py:4: DeprecationWarning: Using .default_errordef() is deprecated. Use .errordef instead\n",
      "  alignment.optimise()\n"
     ]
    },
    {
     "name": "stdout",
     "output_type": "stream",
     "text": [
      "WT + mutation R246I vs WT. TM score: 0.9999999837373216\n",
      "WT + mutation R246I vs WT. DeltaG stability score:       Chain Wild type AA Amino acid Overall Stability     Torsion  \\\n",
      "4412      A          ARG        ILE       Stabilising  Favourable   \n",
      "25901     B          ARG        ILE       Stabilising  Favourable   \n",
      "47390     C          ARG        ILE       Stabilising  Favourable   \n",
      "\n",
      "      Predicted DDG (kcal/mol)  Residue ID  \n",
      "4412                      2.12       246.0  \n",
      "25901                     2.37       246.0  \n",
      "47390                     1.91       246.0   vs Empty DataFrame\n",
      "Columns: [Chain, Wild type AA, Amino acid, Overall Stability, Torsion, Predicted DDG (kcal/mol)]\n",
      "Index: []\n",
      "Contact similarity between WT and WT+R246I Spike SARS-CoV-2 variants: 100.0 %\n",
      "\n",
      "\n",
      "Reading pdb file with mutations:  E484K\n"
     ]
    },
    {
     "name": "stderr",
     "output_type": "stream",
     "text": [
      "C:\\Users\\ugo-c\\AppData\\Local\\Temp\\ipykernel_28224\\1545725321.py:36: VisibleDeprecationWarning: Creating an ndarray from ragged nested sequences (which is a list-or-tuple of lists-or-tuples-or ndarrays with different lengths or shapes) is deprecated. If you meant to do this, you must specify 'dtype=object' when creating the ndarray.\n",
      "  return np.array(coordinates)\n"
     ]
    },
    {
     "name": "stdout",
     "output_type": "stream",
     "text": [
      "Computing WT adj matrix\n",
      "saved adj matrix██████████████████████████████████████████████████████████████████████████████████████| Current progress: 100.00%\n"
     ]
    },
    {
     "name": "stderr",
     "output_type": "stream",
     "text": [
      "C:\\Users\\ugo-c\\AppData\\Local\\Temp\\ipykernel_28224\\3062668350.py:4: DeprecationWarning: Using .default_errordef() is deprecated. Use .errordef instead\n",
      "  alignment.optimise()\n"
     ]
    },
    {
     "name": "stdout",
     "output_type": "stream",
     "text": [
      "WT + mutation E484K vs WT. TM score: 0.9999999941247394\n",
      "WT + mutation E484K vs WT. DeltaG stability score:       Chain Wild type AA Amino acid Overall Stability       Torsion  \\\n",
      "8942      A          GLU        LYS     Destabilising    Favourable   \n",
      "30431     B          GLU        LYS     Destabilising  Unfavourable   \n",
      "51920     C          GLU        LYS     Destabilising  Unfavourable   \n",
      "\n",
      "      Predicted DDG (kcal/mol)  Residue ID  \n",
      "8942                     -0.62       484.0  \n",
      "30431                    -0.16       484.0  \n",
      "51920                    -0.25       484.0   vs Empty DataFrame\n",
      "Columns: [Chain, Wild type AA, Amino acid, Overall Stability, Torsion, Predicted DDG (kcal/mol)]\n",
      "Index: []\n",
      "Contact similarity between WT and WT+E484K Spike SARS-CoV-2 variants: 100.0 %\n",
      "\n",
      "\n",
      "Reading pdb file with mutations:  A701V\n"
     ]
    },
    {
     "name": "stderr",
     "output_type": "stream",
     "text": [
      "C:\\Users\\ugo-c\\AppData\\Local\\Temp\\ipykernel_28224\\1545725321.py:36: VisibleDeprecationWarning: Creating an ndarray from ragged nested sequences (which is a list-or-tuple of lists-or-tuples-or ndarrays with different lengths or shapes) is deprecated. If you meant to do this, you must specify 'dtype=object' when creating the ndarray.\n",
      "  return np.array(coordinates)\n"
     ]
    },
    {
     "name": "stdout",
     "output_type": "stream",
     "text": [
      "Computing WT adj matrix\n",
      "saved adj matrix██████████████████████████████████████████████████████████████████████████████████████| Current progress: 100.00%\n"
     ]
    },
    {
     "name": "stderr",
     "output_type": "stream",
     "text": [
      "C:\\Users\\ugo-c\\AppData\\Local\\Temp\\ipykernel_28224\\3062668350.py:4: DeprecationWarning: Using .default_errordef() is deprecated. Use .errordef instead\n",
      "  alignment.optimise()\n"
     ]
    },
    {
     "name": "stdout",
     "output_type": "stream",
     "text": [
      "WT + mutation A701V vs WT. TM score: 0.9999999983739001\n",
      "WT + mutation A701V vs WT. DeltaG stability score:       Chain Wild type AA Amino acid Overall Stability     Torsion  \\\n",
      "13054     A          ALA        VAL       Stabilising  Favourable   \n",
      "34543     B          ALA        VAL       Stabilising  Favourable   \n",
      "56032     C          ALA        VAL       Stabilising  Favourable   \n",
      "\n",
      "      Predicted DDG (kcal/mol)  Residue ID  \n",
      "13054                     0.25       701.0  \n",
      "34543                     0.28       701.0  \n",
      "56032                     0.28       701.0   vs Empty DataFrame\n",
      "Columns: [Chain, Wild type AA, Amino acid, Overall Stability, Torsion, Predicted DDG (kcal/mol)]\n",
      "Index: []\n",
      "Contact similarity between WT and WT+A701V Spike SARS-CoV-2 variants: 100.0 %\n",
      "\n",
      "\n",
      "Done mutation  ['A701V']\n",
      "Reading pdb file with mutations:  D138Y\n"
     ]
    },
    {
     "name": "stderr",
     "output_type": "stream",
     "text": [
      "C:\\Users\\ugo-c\\AppData\\Local\\Temp\\ipykernel_28224\\1545725321.py:36: VisibleDeprecationWarning: Creating an ndarray from ragged nested sequences (which is a list-or-tuple of lists-or-tuples-or ndarrays with different lengths or shapes) is deprecated. If you meant to do this, you must specify 'dtype=object' when creating the ndarray.\n",
      "  return np.array(coordinates)\n"
     ]
    },
    {
     "name": "stdout",
     "output_type": "stream",
     "text": [
      "Computing WT adj matrix\n",
      "saved adj matrix██████████████████████████████████████████████████████████████████████████████████████| Current progress: 100.00%\n"
     ]
    },
    {
     "name": "stderr",
     "output_type": "stream",
     "text": [
      "C:\\Users\\ugo-c\\AppData\\Local\\Temp\\ipykernel_28224\\3062668350.py:4: DeprecationWarning: Using .default_errordef() is deprecated. Use .errordef instead\n",
      "  alignment.optimise()\n"
     ]
    },
    {
     "name": "stdout",
     "output_type": "stream",
     "text": [
      "WT + mutation D138Y vs WT. TM score: 0.9999999930556666\n",
      "WT + mutation D138Y vs WT. DeltaG stability score:       Chain Wild type AA Amino acid Overall Stability     Torsion  \\\n",
      "2369      A          ASP        TYR       Stabilising  Favourable   \n",
      "23858     B          ASP        TYR       Stabilising  Favourable   \n",
      "45347     C          ASP        TYR       Stabilising  Favourable   \n",
      "\n",
      "      Predicted DDG (kcal/mol)  Residue ID  \n",
      "2369                      2.05       138.0  \n",
      "23858                     1.77       138.0  \n",
      "45347                     2.42       138.0   vs Empty DataFrame\n",
      "Columns: [Chain, Wild type AA, Amino acid, Overall Stability, Torsion, Predicted DDG (kcal/mol)]\n",
      "Index: []\n",
      "Contact similarity between WT and WT+D138Y Spike SARS-CoV-2 variants: 100.0 %\n",
      "\n",
      "\n",
      "Reading pdb file with mutations:  R190S\n"
     ]
    },
    {
     "name": "stderr",
     "output_type": "stream",
     "text": [
      "C:\\Users\\ugo-c\\AppData\\Local\\Temp\\ipykernel_28224\\1545725321.py:36: VisibleDeprecationWarning: Creating an ndarray from ragged nested sequences (which is a list-or-tuple of lists-or-tuples-or ndarrays with different lengths or shapes) is deprecated. If you meant to do this, you must specify 'dtype=object' when creating the ndarray.\n",
      "  return np.array(coordinates)\n"
     ]
    },
    {
     "name": "stdout",
     "output_type": "stream",
     "text": [
      "Computing WT adj matrix\n",
      "saved adj matrix██████████████████████████████████████████████████████████████████████████████████████| Current progress: 100.00%\n"
     ]
    },
    {
     "name": "stderr",
     "output_type": "stream",
     "text": [
      "C:\\Users\\ugo-c\\AppData\\Local\\Temp\\ipykernel_28224\\3062668350.py:4: DeprecationWarning: Using .default_errordef() is deprecated. Use .errordef instead\n",
      "  alignment.optimise()\n"
     ]
    },
    {
     "name": "stdout",
     "output_type": "stream",
     "text": [
      "WT + mutation R190S vs WT. TM score: 0.9999999995606702\n",
      "WT + mutation R190S vs WT. DeltaG stability score:       Chain Wild type AA Amino acid Overall Stability       Torsion  \\\n",
      "3352      A          ARG        SER     Destabilising  Unfavourable   \n",
      "24841     B          ARG        SER     Destabilising  Unfavourable   \n",
      "46330     C          ARG        SER     Destabilising  Unfavourable   \n",
      "\n",
      "      Predicted DDG (kcal/mol)  Residue ID  \n",
      "3352                     -4.74       190.0  \n",
      "24841                    -4.74       190.0  \n",
      "46330                    -4.71       190.0   vs Empty DataFrame\n",
      "Columns: [Chain, Wild type AA, Amino acid, Overall Stability, Torsion, Predicted DDG (kcal/mol)]\n",
      "Index: []\n",
      "Contact similarity between WT and WT+R190S Spike SARS-CoV-2 variants: 100.0 %\n",
      "\n",
      "\n",
      "Reading pdb file with mutations:  K417T\n"
     ]
    },
    {
     "name": "stderr",
     "output_type": "stream",
     "text": [
      "C:\\Users\\ugo-c\\AppData\\Local\\Temp\\ipykernel_28224\\1545725321.py:36: VisibleDeprecationWarning: Creating an ndarray from ragged nested sequences (which is a list-or-tuple of lists-or-tuples-or ndarrays with different lengths or shapes) is deprecated. If you meant to do this, you must specify 'dtype=object' when creating the ndarray.\n",
      "  return np.array(coordinates)\n"
     ]
    },
    {
     "name": "stdout",
     "output_type": "stream",
     "text": [
      "Computing WT adj matrix\n",
      "saved adj matrix██████████████████████████████████████████████████████████████████████████████████████| Current progress: 100.00%\n"
     ]
    },
    {
     "name": "stderr",
     "output_type": "stream",
     "text": [
      "C:\\Users\\ugo-c\\AppData\\Local\\Temp\\ipykernel_28224\\3062668350.py:4: DeprecationWarning: Using .default_errordef() is deprecated. Use .errordef instead\n",
      "  alignment.optimise()\n"
     ]
    },
    {
     "name": "stdout",
     "output_type": "stream",
     "text": [
      "WT + mutation K417T vs WT. TM score: 0.999999994183594\n",
      "WT + mutation K417T vs WT. DeltaG stability score:       Chain Wild type AA Amino acid Overall Stability       Torsion  \\\n",
      "7666      A          LYS        THR     Destabilising  Unfavourable   \n",
      "29155     B          LYS        THR     Destabilising  Unfavourable   \n",
      "50644     C          LYS        THR     Destabilising  Unfavourable   \n",
      "\n",
      "      Predicted DDG (kcal/mol)  Residue ID  \n",
      "7666                     -1.86       417.0  \n",
      "29155                    -1.89       417.0  \n",
      "50644                    -1.89       417.0   vs Empty DataFrame\n",
      "Columns: [Chain, Wild type AA, Amino acid, Overall Stability, Torsion, Predicted DDG (kcal/mol)]\n",
      "Index: []\n",
      "Contact similarity between WT and WT+K417T Spike SARS-CoV-2 variants: 100.0 %\n",
      "\n",
      "\n",
      "Reading pdb file with mutations:  T1027I\n"
     ]
    },
    {
     "name": "stderr",
     "output_type": "stream",
     "text": [
      "C:\\Users\\ugo-c\\AppData\\Local\\Temp\\ipykernel_28224\\1545725321.py:36: VisibleDeprecationWarning: Creating an ndarray from ragged nested sequences (which is a list-or-tuple of lists-or-tuples-or ndarrays with different lengths or shapes) is deprecated. If you meant to do this, you must specify 'dtype=object' when creating the ndarray.\n",
      "  return np.array(coordinates)\n"
     ]
    },
    {
     "name": "stdout",
     "output_type": "stream",
     "text": [
      "Computing WT adj matrix\n",
      "saved adj matrix██████████████████████████████████████████████████████████████████████████████████████| Current progress: 100.00%\n"
     ]
    },
    {
     "name": "stderr",
     "output_type": "stream",
     "text": [
      "C:\\Users\\ugo-c\\AppData\\Local\\Temp\\ipykernel_28224\\3062668350.py:4: DeprecationWarning: Using .default_errordef() is deprecated. Use .errordef instead\n",
      "  alignment.optimise()\n"
     ]
    },
    {
     "name": "stdout",
     "output_type": "stream",
     "text": [
      "WT + mutation T1027I vs WT. TM score: 0.9999999966068084\n",
      "WT + mutation T1027I vs WT. DeltaG stability score:       Chain Wild type AA Amino acid Overall Stability     Torsion  \\\n",
      "19251     A          THR        ILE       Stabilising  Favourable   \n",
      "40740     B          THR        ILE       Stabilising  Favourable   \n",
      "62229     C          THR        ILE       Stabilising  Favourable   \n",
      "\n",
      "      Predicted DDG (kcal/mol)  Residue ID  \n",
      "19251                      1.0      1027.0  \n",
      "40740                     0.98      1027.0  \n",
      "62229                     1.34      1027.0   vs Empty DataFrame\n",
      "Columns: [Chain, Wild type AA, Amino acid, Overall Stability, Torsion, Predicted DDG (kcal/mol)]\n",
      "Index: []\n",
      "Contact similarity between WT and WT+T1027I Spike SARS-CoV-2 variants: 100.0 %\n",
      "\n",
      "\n",
      "Done mutation  ['T1027I']\n",
      "Reading pdb file with mutations:  V1176F\n"
     ]
    },
    {
     "name": "stderr",
     "output_type": "stream",
     "text": [
      "C:\\Users\\ugo-c\\AppData\\Local\\Temp\\ipykernel_28224\\1545725321.py:36: VisibleDeprecationWarning: Creating an ndarray from ragged nested sequences (which is a list-or-tuple of lists-or-tuples-or ndarrays with different lengths or shapes) is deprecated. If you meant to do this, you must specify 'dtype=object' when creating the ndarray.\n",
      "  return np.array(coordinates)\n"
     ]
    },
    {
     "name": "stdout",
     "output_type": "stream",
     "text": [
      "Computing WT adj matrix\n",
      "saved adj matrix██████████████████████████████████████████████████████████████████████████████████████| Current progress: 100.00%\n"
     ]
    },
    {
     "name": "stderr",
     "output_type": "stream",
     "text": [
      "C:\\Users\\ugo-c\\AppData\\Local\\Temp\\ipykernel_28224\\3062668350.py:4: DeprecationWarning: Using .default_errordef() is deprecated. Use .errordef instead\n",
      "  alignment.optimise()\n"
     ]
    },
    {
     "name": "stdout",
     "output_type": "stream",
     "text": [
      "WT + mutation V1176F vs WT. TM score: 1.0\n"
     ]
    },
    {
     "ename": "KeyError",
     "evalue": "1176",
     "output_type": "error",
     "traceback": [
      "\u001b[1;31m---------------------------------------------------------------------------\u001b[0m",
      "\u001b[1;31mKeyError\u001b[0m                                  Traceback (most recent call last)",
      "Input \u001b[1;32mIn [63]\u001b[0m, in \u001b[0;36m<cell line: 27>\u001b[1;34m()\u001b[0m\n\u001b[0;32m     55\u001b[0m no_mut \u001b[38;5;241m=\u001b[39m mut[\u001b[38;5;241m0\u001b[39m][\u001b[38;5;241m1\u001b[39m:\u001b[38;5;241m-\u001b[39m\u001b[38;5;241m1\u001b[39m]\u001b[38;5;241m+\u001b[39mmut[\u001b[38;5;241m0\u001b[39m][\u001b[38;5;241m0\u001b[39m] \n\u001b[0;32m     57\u001b[0m deltaG_WT \u001b[38;5;241m=\u001b[39m get_deltaG_mutation(df_groupped, no_mut)\n\u001b[1;32m---> 58\u001b[0m deltaG \u001b[38;5;241m=\u001b[39m \u001b[43mget_deltaG_mutation\u001b[49m\u001b[43m(\u001b[49m\u001b[43mdf_groupped\u001b[49m\u001b[43m,\u001b[49m\u001b[43m \u001b[49m\u001b[43mmut\u001b[49m\u001b[43m)\u001b[49m\n\u001b[0;32m     59\u001b[0m \u001b[38;5;28mprint\u001b[39m(\u001b[38;5;124m\"\u001b[39m\u001b[38;5;124mWT + mutation \u001b[39m\u001b[38;5;132;01m{}\u001b[39;00m\u001b[38;5;124m vs WT. DeltaG stability score: \u001b[39m\u001b[38;5;132;01m{}\u001b[39;00m\u001b[38;5;124m vs \u001b[39m\u001b[38;5;132;01m{}\u001b[39;00m\u001b[38;5;124m\"\u001b[39m\u001b[38;5;241m.\u001b[39mformat(mut[\u001b[38;5;241m0\u001b[39m], deltaG, deltaG_WT))\n\u001b[0;32m     60\u001b[0m deltaGs[\u001b[38;5;124m\"\u001b[39m\u001b[38;5;124mWT + mutation \u001b[39m\u001b[38;5;132;01m{}\u001b[39;00m\u001b[38;5;124m\"\u001b[39m\u001b[38;5;241m.\u001b[39mformat(mut)] \u001b[38;5;241m=\u001b[39m deltaG\n",
      "Input \u001b[1;32mIn [36]\u001b[0m, in \u001b[0;36mget_deltaG_mutation\u001b[1;34m(df_groupped, mutations)\u001b[0m\n\u001b[0;32m     31\u001b[0m         from_aa \u001b[38;5;241m=\u001b[39m mutation[\u001b[38;5;241m0\u001b[39m]\n\u001b[0;32m     32\u001b[0m         resi_aa \u001b[38;5;241m=\u001b[39m \u001b[38;5;28mint\u001b[39m(mutation[\u001b[38;5;241m1\u001b[39m:\u001b[38;5;241m-\u001b[39m\u001b[38;5;241m1\u001b[39m])\n\u001b[1;32m---> 33\u001b[0m         df_resi \u001b[38;5;241m=\u001b[39m \u001b[43mdf_groupped\u001b[49m\u001b[38;5;241;43m.\u001b[39;49m\u001b[43mget_group\u001b[49m\u001b[43m(\u001b[49m\u001b[43mresi_aa\u001b[49m\u001b[43m)\u001b[49m\n\u001b[0;32m     34\u001b[0m         deltag \u001b[38;5;241m=\u001b[39m pd\u001b[38;5;241m.\u001b[39mconcat([deltag, df_resi[df_resi[\u001b[38;5;124m\"\u001b[39m\u001b[38;5;124mAmino acid\u001b[39m\u001b[38;5;124m\"\u001b[39m]\u001b[38;5;241m==\u001b[39mall_res_names[to_aa]]])\n\u001b[0;32m     35\u001b[0m \u001b[38;5;28;01mreturn\u001b[39;00m deltag\n",
      "File \u001b[1;32m~\\anaconda3\\envs\\PCN\\lib\\site-packages\\pandas\\core\\groupby\\groupby.py:747\u001b[0m, in \u001b[0;36mBaseGroupBy.get_group\u001b[1;34m(self, name, obj)\u001b[0m\n\u001b[0;32m    745\u001b[0m inds \u001b[38;5;241m=\u001b[39m \u001b[38;5;28mself\u001b[39m\u001b[38;5;241m.\u001b[39m_get_index(name)\n\u001b[0;32m    746\u001b[0m \u001b[38;5;28;01mif\u001b[39;00m \u001b[38;5;129;01mnot\u001b[39;00m \u001b[38;5;28mlen\u001b[39m(inds):\n\u001b[1;32m--> 747\u001b[0m     \u001b[38;5;28;01mraise\u001b[39;00m \u001b[38;5;167;01mKeyError\u001b[39;00m(name)\n\u001b[0;32m    749\u001b[0m \u001b[38;5;28;01mreturn\u001b[39;00m obj\u001b[38;5;241m.\u001b[39m_take_with_is_copy(inds, axis\u001b[38;5;241m=\u001b[39m\u001b[38;5;28mself\u001b[39m\u001b[38;5;241m.\u001b[39maxis)\n",
      "\u001b[1;31mKeyError\u001b[0m: 1176"
     ]
    }
   ],
   "source": [
    "tm_scores = {}\n",
    "deltaGs = {}\n",
    "pdbWTpath =  pdbSwissFilesPath+\"6VXX.pdb\" \n",
    "contacts_sim_mat = {}\n",
    "figures = {}\n",
    "contacts_sim = []\n",
    "A_s = {}\n",
    "atoms = readPDBFile(pdbWTpath)\n",
    "coordinates = getResidueCoordinates(atoms)\n",
    "if \"6VXX_adj_mat_{}_{}.txt\".format(th_min, th_max) in os.listdir(basepath+\"Adj_Swiss\"):\n",
    "    print(\"Reading WT adj matrix\")\n",
    "    adj_wt = read_adj_mat(basepath, \"6VXX\", th_min, th_max)\n",
    "else:\n",
    "    print(\"Computing WT adj matrix\")\n",
    "    adj_wt = adjacent_matrix(basepath, coordinates, th_min, th_max, None)\n",
    "A_s[\"WT\"] = adj_wt\n",
    "\n",
    "#read all done mutations from Adj Swiss directory\n",
    "done_muts = []\n",
    "\"\"\"\n",
    "for filename in os.listdir(basepath+\"Adj_Swiss\"):\n",
    "    temp = filename.split(\"_\")\n",
    "    if temp[0] == \"6VXX\":\n",
    "        if temp[1] != \"adj\":\n",
    "            done_muts.append(temp[1])\n",
    "\"\"\"         \n",
    "for spike_var, all_mutations in spike_muts_variants.items():\n",
    "    snp_mutations = all_mutations['mut']\n",
    "    deletions = all_mutations['del']\n",
    "    insertions = all_mutations['ins']\n",
    "    for mut in snp_mutations:\n",
    "        if mut not in done_muts:\n",
    "            mut = [mut]\n",
    "            all_resi_spike = np.arange(len(basesequence))\n",
    "            pdbFilePath = pdbSwissFilesPath+\"{}_{}.pdb\".format(\"6VXX\", mut[0])\n",
    "            if \"{}_{}.pdb\".format(\"6VXX\", mut[0]) not in os.listdir(pdbSwissFilesPath):\n",
    "                print(\"Creating pdb file with mutations: \", mut[0])\n",
    "                create_pdb_with_mutations(pdbWTpath, mut)\n",
    "            else:\n",
    "                print(\"Reading pdb file with mutations: \", mut[0])\n",
    "                \n",
    "            atoms = readPDBFile(pdbFilePath)\n",
    "            coordinates = getResidueCoordinates(atoms)\n",
    "            if \"6VXX_{}_adj_mat_{}_{}.txt\".format(mut[0], th_min, th_max) in os.listdir(basepath+\"Adj_Swiss\"):\n",
    "                print(\"Reading WT adj matrix with mutations: \", mut)\n",
    "                adj = read_adj_mat(basepath, \"6VXX\", th_min, th_max, mut[0])\n",
    "            else:\n",
    "                print(\"Computing WT adj matrix\")\n",
    "                adj = adjacent_matrix(basepath, coordinates, th_min, th_max, mut[0])\n",
    "\n",
    "            A_s[\"WT_{}\".format(mut[0])] = adj\n",
    "            tm_score = compute_tm_score(pdbWTpath, pdbFilePath)\n",
    "            print(\"WT + mutation {} vs WT. TM score: {}\".format(mut[0], tm_score))\n",
    "            tm_scores[\"WT + mutation {}\".format(mut[0])] = tm_score\n",
    "            no_mut = mut[0][1:-1]+mut[0][0] \n",
    "\n",
    "            deltaG_WT = get_deltaG_mutation(df_groupped, no_mut)\n",
    "            deltaG = get_deltaG_mutation(df_groupped, mut)\n",
    "            print(\"WT + mutation {} vs WT. DeltaG stability score: {} vs {}\".format(mut[0], deltaG, deltaG_WT))\n",
    "            deltaGs[\"WT + mutation {}\".format(mut)] = deltaG\n",
    "            contact_sim_matrix = compute_contact_similarity_matrix(adj_wt, adj)\n",
    "            contacts_sim_mat[\"WT + mutation {} vs WT\".format(mut[0])] = contact_sim_matrix\n",
    "            contact_sim = compute_contact_similarity(contact_sim_matrix)\n",
    "            contacts_sim.append(contact_sim)\n",
    "            print(\"Contact similarity between WT and WT+{} Spike SARS-CoV-2 variants: {} %\".format(mut[0], contact_sim))\n",
    "            done_muts.append(mut[0])\n",
    "            print()\n",
    "            print()\n",
    "    else:\n",
    "            \n",
    "        print(\"Done mutation \", mut)"
   ]
  },
  {
   "cell_type": "code",
   "execution_count": 69,
   "metadata": {},
   "outputs": [
    {
     "data": {
      "text/html": [
       "<div>\n",
       "<style scoped>\n",
       "    .dataframe tbody tr th:only-of-type {\n",
       "        vertical-align: middle;\n",
       "    }\n",
       "\n",
       "    .dataframe tbody tr th {\n",
       "        vertical-align: top;\n",
       "    }\n",
       "\n",
       "    .dataframe thead th {\n",
       "        text-align: right;\n",
       "    }\n",
       "</style>\n",
       "<table border=\"1\" class=\"dataframe\">\n",
       "  <thead>\n",
       "    <tr style=\"text-align: right;\">\n",
       "      <th></th>\n",
       "      <th>tm_score</th>\n",
       "    </tr>\n",
       "  </thead>\n",
       "  <tbody>\n",
       "    <tr>\n",
       "      <th>WT + mutation A67V</th>\n",
       "      <td>1.00000000</td>\n",
       "    </tr>\n",
       "    <tr>\n",
       "      <th>WT + mutation T95I</th>\n",
       "      <td>0.99999999</td>\n",
       "    </tr>\n",
       "    <tr>\n",
       "      <th>WT + mutation G142D</th>\n",
       "      <td>1.00000000</td>\n",
       "    </tr>\n",
       "    <tr>\n",
       "      <th>WT + mutation L212I</th>\n",
       "      <td>1.00000000</td>\n",
       "    </tr>\n",
       "    <tr>\n",
       "      <th>WT + mutation G339D</th>\n",
       "      <td>1.00000000</td>\n",
       "    </tr>\n",
       "    <tr>\n",
       "      <th>WT + mutation S371L</th>\n",
       "      <td>0.99999999</td>\n",
       "    </tr>\n",
       "    <tr>\n",
       "      <th>WT + mutation S373P</th>\n",
       "      <td>0.99999997</td>\n",
       "    </tr>\n",
       "    <tr>\n",
       "      <th>WT + mutation S375F</th>\n",
       "      <td>1.00000000</td>\n",
       "    </tr>\n",
       "    <tr>\n",
       "      <th>WT + mutation K417N</th>\n",
       "      <td>0.99999999</td>\n",
       "    </tr>\n",
       "    <tr>\n",
       "      <th>WT + mutation N440K</th>\n",
       "      <td>0.99999999</td>\n",
       "    </tr>\n",
       "    <tr>\n",
       "      <th>WT + mutation G446S</th>\n",
       "      <td>1.00000000</td>\n",
       "    </tr>\n",
       "    <tr>\n",
       "      <th>WT + mutation S477N</th>\n",
       "      <td>1.00000000</td>\n",
       "    </tr>\n",
       "    <tr>\n",
       "      <th>WT + mutation T478K</th>\n",
       "      <td>0.99999999</td>\n",
       "    </tr>\n",
       "    <tr>\n",
       "      <th>WT + mutation E484A</th>\n",
       "      <td>0.99999999</td>\n",
       "    </tr>\n",
       "    <tr>\n",
       "      <th>WT + mutation Q493R</th>\n",
       "      <td>1.00000000</td>\n",
       "    </tr>\n",
       "    <tr>\n",
       "      <th>WT + mutation G496S</th>\n",
       "      <td>1.00000000</td>\n",
       "    </tr>\n",
       "    <tr>\n",
       "      <th>WT + mutation Q498R</th>\n",
       "      <td>0.99999998</td>\n",
       "    </tr>\n",
       "    <tr>\n",
       "      <th>WT + mutation N501Y</th>\n",
       "      <td>0.99999999</td>\n",
       "    </tr>\n",
       "    <tr>\n",
       "      <th>WT + mutation Y505H</th>\n",
       "      <td>0.99999999</td>\n",
       "    </tr>\n",
       "    <tr>\n",
       "      <th>WT + mutation T547K</th>\n",
       "      <td>0.99999998</td>\n",
       "    </tr>\n",
       "    <tr>\n",
       "      <th>WT + mutation D614G</th>\n",
       "      <td>1.00000000</td>\n",
       "    </tr>\n",
       "    <tr>\n",
       "      <th>WT + mutation H655Y</th>\n",
       "      <td>0.99999999</td>\n",
       "    </tr>\n",
       "    <tr>\n",
       "      <th>WT + mutation N679K</th>\n",
       "      <td>0.99999997</td>\n",
       "    </tr>\n",
       "    <tr>\n",
       "      <th>WT + mutation P681H</th>\n",
       "      <td>1.00000000</td>\n",
       "    </tr>\n",
       "    <tr>\n",
       "      <th>WT + mutation N764K</th>\n",
       "      <td>0.99999999</td>\n",
       "    </tr>\n",
       "    <tr>\n",
       "      <th>WT + mutation D796Y</th>\n",
       "      <td>0.99999998</td>\n",
       "    </tr>\n",
       "    <tr>\n",
       "      <th>WT + mutation N856K</th>\n",
       "      <td>1.00000000</td>\n",
       "    </tr>\n",
       "    <tr>\n",
       "      <th>WT + mutation Q954H</th>\n",
       "      <td>0.99999999</td>\n",
       "    </tr>\n",
       "    <tr>\n",
       "      <th>WT + mutation N969K</th>\n",
       "      <td>0.99999999</td>\n",
       "    </tr>\n",
       "    <tr>\n",
       "      <th>WT + mutation L981F</th>\n",
       "      <td>0.99999999</td>\n",
       "    </tr>\n",
       "    <tr>\n",
       "      <th>WT + mutation V213G</th>\n",
       "      <td>0.99999999</td>\n",
       "    </tr>\n",
       "    <tr>\n",
       "      <th>WT + mutation S371F</th>\n",
       "      <td>0.99999998</td>\n",
       "    </tr>\n",
       "    <tr>\n",
       "      <th>WT + mutation T376A</th>\n",
       "      <td>0.99999999</td>\n",
       "    </tr>\n",
       "    <tr>\n",
       "      <th>WT + mutation D405N</th>\n",
       "      <td>0.99999999</td>\n",
       "    </tr>\n",
       "    <tr>\n",
       "      <th>WT + mutation R408S</th>\n",
       "      <td>0.99999999</td>\n",
       "    </tr>\n",
       "    <tr>\n",
       "      <th>WT + mutation L452R</th>\n",
       "      <td>1.00000000</td>\n",
       "    </tr>\n",
       "    <tr>\n",
       "      <th>WT + mutation F486V</th>\n",
       "      <td>1.00000000</td>\n",
       "    </tr>\n",
       "    <tr>\n",
       "      <th>WT + mutation R158G</th>\n",
       "      <td>1.00000000</td>\n",
       "    </tr>\n",
       "    <tr>\n",
       "      <th>WT + mutation P681R</th>\n",
       "      <td>1.00000000</td>\n",
       "    </tr>\n",
       "    <tr>\n",
       "      <th>WT + mutation D950N</th>\n",
       "      <td>1.00000000</td>\n",
       "    </tr>\n",
       "    <tr>\n",
       "      <th>WT + mutation A570D</th>\n",
       "      <td>1.00000000</td>\n",
       "    </tr>\n",
       "    <tr>\n",
       "      <th>WT + mutation T716I</th>\n",
       "      <td>0.99999999</td>\n",
       "    </tr>\n",
       "    <tr>\n",
       "      <th>WT + mutation S982A</th>\n",
       "      <td>0.99999998</td>\n",
       "    </tr>\n",
       "    <tr>\n",
       "      <th>WT + mutation D1118H</th>\n",
       "      <td>0.99999998</td>\n",
       "    </tr>\n",
       "    <tr>\n",
       "      <th>WT + mutation D80A</th>\n",
       "      <td>0.99999997</td>\n",
       "    </tr>\n",
       "    <tr>\n",
       "      <th>WT + mutation D215G</th>\n",
       "      <td>1.00000000</td>\n",
       "    </tr>\n",
       "    <tr>\n",
       "      <th>WT + mutation R246I</th>\n",
       "      <td>0.99999998</td>\n",
       "    </tr>\n",
       "    <tr>\n",
       "      <th>WT + mutation E484K</th>\n",
       "      <td>0.99999999</td>\n",
       "    </tr>\n",
       "    <tr>\n",
       "      <th>WT + mutation A701V</th>\n",
       "      <td>1.00000000</td>\n",
       "    </tr>\n",
       "    <tr>\n",
       "      <th>WT + mutation D138Y</th>\n",
       "      <td>0.99999999</td>\n",
       "    </tr>\n",
       "    <tr>\n",
       "      <th>WT + mutation R190S</th>\n",
       "      <td>1.00000000</td>\n",
       "    </tr>\n",
       "    <tr>\n",
       "      <th>WT + mutation K417T</th>\n",
       "      <td>0.99999999</td>\n",
       "    </tr>\n",
       "    <tr>\n",
       "      <th>WT + mutation T1027I</th>\n",
       "      <td>1.00000000</td>\n",
       "    </tr>\n",
       "    <tr>\n",
       "      <th>WT + mutation V1176F</th>\n",
       "      <td>1.00000000</td>\n",
       "    </tr>\n",
       "  </tbody>\n",
       "</table>\n",
       "</div>"
      ],
      "text/plain": [
       "                        tm_score\n",
       "WT + mutation A67V    1.00000000\n",
       "WT + mutation T95I    0.99999999\n",
       "WT + mutation G142D   1.00000000\n",
       "WT + mutation L212I   1.00000000\n",
       "WT + mutation G339D   1.00000000\n",
       "WT + mutation S371L   0.99999999\n",
       "WT + mutation S373P   0.99999997\n",
       "WT + mutation S375F   1.00000000\n",
       "WT + mutation K417N   0.99999999\n",
       "WT + mutation N440K   0.99999999\n",
       "WT + mutation G446S   1.00000000\n",
       "WT + mutation S477N   1.00000000\n",
       "WT + mutation T478K   0.99999999\n",
       "WT + mutation E484A   0.99999999\n",
       "WT + mutation Q493R   1.00000000\n",
       "WT + mutation G496S   1.00000000\n",
       "WT + mutation Q498R   0.99999998\n",
       "WT + mutation N501Y   0.99999999\n",
       "WT + mutation Y505H   0.99999999\n",
       "WT + mutation T547K   0.99999998\n",
       "WT + mutation D614G   1.00000000\n",
       "WT + mutation H655Y   0.99999999\n",
       "WT + mutation N679K   0.99999997\n",
       "WT + mutation P681H   1.00000000\n",
       "WT + mutation N764K   0.99999999\n",
       "WT + mutation D796Y   0.99999998\n",
       "WT + mutation N856K   1.00000000\n",
       "WT + mutation Q954H   0.99999999\n",
       "WT + mutation N969K   0.99999999\n",
       "WT + mutation L981F   0.99999999\n",
       "WT + mutation V213G   0.99999999\n",
       "WT + mutation S371F   0.99999998\n",
       "WT + mutation T376A   0.99999999\n",
       "WT + mutation D405N   0.99999999\n",
       "WT + mutation R408S   0.99999999\n",
       "WT + mutation L452R   1.00000000\n",
       "WT + mutation F486V   1.00000000\n",
       "WT + mutation R158G   1.00000000\n",
       "WT + mutation P681R   1.00000000\n",
       "WT + mutation D950N   1.00000000\n",
       "WT + mutation A570D   1.00000000\n",
       "WT + mutation T716I   0.99999999\n",
       "WT + mutation S982A   0.99999998\n",
       "WT + mutation D1118H  0.99999998\n",
       "WT + mutation D80A    0.99999997\n",
       "WT + mutation D215G   1.00000000\n",
       "WT + mutation R246I   0.99999998\n",
       "WT + mutation E484K   0.99999999\n",
       "WT + mutation A701V   1.00000000\n",
       "WT + mutation D138Y   0.99999999\n",
       "WT + mutation R190S   1.00000000\n",
       "WT + mutation K417T   0.99999999\n",
       "WT + mutation T1027I  1.00000000\n",
       "WT + mutation V1176F  1.00000000"
      ]
     },
     "execution_count": 69,
     "metadata": {},
     "output_type": "execute_result"
    }
   ],
   "source": [
    "import pandas as pd \n",
    "pd.set_option(\"display.precision\", 8)\n",
    "tm_scores = {key: value for key, value in tm_scores.items()}\n",
    "df_tm = pd.DataFrame.from_dict(tm_scores, orient=\"index\", columns = [\"tm_score\"])\n",
    "df_tm"
   ]
  },
  {
   "cell_type": "code",
   "execution_count": 68,
   "metadata": {},
   "outputs": [],
   "source": [
    "df_tm.to_csv(\"Data\\single_mutations_tm_scores.csv\")"
   ]
  },
  {
   "cell_type": "code",
   "execution_count": null,
   "metadata": {},
   "outputs": [],
   "source": []
  },
  {
   "cell_type": "code",
   "execution_count": null,
   "metadata": {
    "tags": []
   },
   "outputs": [
    {
     "name": "stdout",
     "output_type": "stream",
     "text": [
      "Zeta Epsilon\n"
     ]
    },
    {
     "name": "stderr",
     "output_type": "stream",
     "text": [
      "C:\\Users\\Utente\\AppData\\Local\\Temp\\ipykernel_11200\\3062668350.py:4: DeprecationWarning: Using .default_errordef() is deprecated. Use .errordef instead\n",
      "  alignment.optimise()\n"
     ]
    },
    {
     "name": "stdout",
     "output_type": "stream",
     "text": [
      "Zeta vs Epsilon. TM score: 0.9999999794237265\n",
      "Beta Epsilon\n"
     ]
    },
    {
     "name": "stderr",
     "output_type": "stream",
     "text": [
      "C:\\Users\\Utente\\AppData\\Local\\Temp\\ipykernel_11200\\3062668350.py:4: DeprecationWarning: Using .default_errordef() is deprecated. Use .errordef instead\n",
      "  alignment.optimise()\n"
     ]
    },
    {
     "name": "stdout",
     "output_type": "stream",
     "text": [
      "Beta vs Epsilon. TM score: 0.9999999123981723\n",
      "Beta Zeta\n"
     ]
    },
    {
     "name": "stderr",
     "output_type": "stream",
     "text": [
      "C:\\Users\\Utente\\AppData\\Local\\Temp\\ipykernel_11200\\3062668350.py:4: DeprecationWarning: Using .default_errordef() is deprecated. Use .errordef instead\n",
      "  alignment.optimise()\n"
     ]
    },
    {
     "name": "stdout",
     "output_type": "stream",
     "text": [
      "Beta vs Zeta. TM score: 0.9999999330122823\n",
      "Alpha Epsilon\n"
     ]
    },
    {
     "name": "stderr",
     "output_type": "stream",
     "text": [
      "C:\\Users\\Utente\\AppData\\Local\\Temp\\ipykernel_11200\\3062668350.py:4: DeprecationWarning: Using .default_errordef() is deprecated. Use .errordef instead\n",
      "  alignment.optimise()\n"
     ]
    },
    {
     "name": "stdout",
     "output_type": "stream",
     "text": [
      "Alpha vs Epsilon. TM score: 0.999999921754702\n",
      "Alpha Zeta\n"
     ]
    },
    {
     "name": "stderr",
     "output_type": "stream",
     "text": [
      "C:\\Users\\Utente\\AppData\\Local\\Temp\\ipykernel_11200\\3062668350.py:4: DeprecationWarning: Using .default_errordef() is deprecated. Use .errordef instead\n",
      "  alignment.optimise()\n"
     ]
    },
    {
     "name": "stdout",
     "output_type": "stream",
     "text": [
      "Alpha vs Zeta. TM score: 0.9999999305727522\n",
      "Alpha Beta\n"
     ]
    },
    {
     "name": "stderr",
     "output_type": "stream",
     "text": [
      "C:\\Users\\Utente\\AppData\\Local\\Temp\\ipykernel_11200\\3062668350.py:4: DeprecationWarning: Using .default_errordef() is deprecated. Use .errordef instead\n",
      "  alignment.optimise()\n"
     ]
    },
    {
     "name": "stdout",
     "output_type": "stream",
     "text": [
      "Alpha vs Beta. TM score: 0.999999878760001\n",
      "Delta Epsilon\n"
     ]
    },
    {
     "name": "stderr",
     "output_type": "stream",
     "text": [
      "C:\\Users\\Utente\\AppData\\Local\\Temp\\ipykernel_11200\\3062668350.py:4: DeprecationWarning: Using .default_errordef() is deprecated. Use .errordef instead\n",
      "  alignment.optimise()\n"
     ]
    },
    {
     "name": "stdout",
     "output_type": "stream",
     "text": [
      "Delta vs Epsilon. TM score: 0.9999999660392811\n",
      "Delta Zeta\n"
     ]
    },
    {
     "name": "stderr",
     "output_type": "stream",
     "text": [
      "C:\\Users\\Utente\\AppData\\Local\\Temp\\ipykernel_11200\\3062668350.py:4: DeprecationWarning: Using .default_errordef() is deprecated. Use .errordef instead\n",
      "  alignment.optimise()\n"
     ]
    },
    {
     "name": "stdout",
     "output_type": "stream",
     "text": [
      "Delta vs Zeta. TM score: 0.9999999649514452\n",
      "Delta Beta\n"
     ]
    },
    {
     "name": "stderr",
     "output_type": "stream",
     "text": [
      "C:\\Users\\Utente\\AppData\\Local\\Temp\\ipykernel_11200\\3062668350.py:4: DeprecationWarning: Using .default_errordef() is deprecated. Use .errordef instead\n",
      "  alignment.optimise()\n"
     ]
    },
    {
     "name": "stdout",
     "output_type": "stream",
     "text": [
      "Delta vs Beta. TM score: 0.9999998979396565\n",
      "Delta Alpha\n"
     ]
    },
    {
     "name": "stderr",
     "output_type": "stream",
     "text": [
      "C:\\Users\\Utente\\AppData\\Local\\Temp\\ipykernel_11200\\3062668350.py:4: DeprecationWarning: Using .default_errordef() is deprecated. Use .errordef instead\n",
      "  alignment.optimise()\n"
     ]
    },
    {
     "name": "stdout",
     "output_type": "stream",
     "text": [
      "Delta vs Alpha. TM score: 0.9999999118711272\n",
      "Kappa Epsilon\n"
     ]
    },
    {
     "name": "stderr",
     "output_type": "stream",
     "text": [
      "C:\\Users\\Utente\\AppData\\Local\\Temp\\ipykernel_11200\\3062668350.py:4: DeprecationWarning: Using .default_errordef() is deprecated. Use .errordef instead\n",
      "  alignment.optimise()\n"
     ]
    },
    {
     "name": "stdout",
     "output_type": "stream",
     "text": [
      "Kappa vs Epsilon. TM score: 0.9999999097971496\n",
      "Kappa Zeta\n"
     ]
    },
    {
     "name": "stderr",
     "output_type": "stream",
     "text": [
      "C:\\Users\\Utente\\AppData\\Local\\Temp\\ipykernel_11200\\3062668350.py:4: DeprecationWarning: Using .default_errordef() is deprecated. Use .errordef instead\n",
      "  alignment.optimise()\n"
     ]
    },
    {
     "name": "stdout",
     "output_type": "stream",
     "text": [
      "Kappa vs Zeta. TM score: 0.9999999315466842\n",
      "Kappa Beta\n"
     ]
    },
    {
     "name": "stderr",
     "output_type": "stream",
     "text": [
      "C:\\Users\\Utente\\AppData\\Local\\Temp\\ipykernel_11200\\3062668350.py:4: DeprecationWarning: Using .default_errordef() is deprecated. Use .errordef instead\n",
      "  alignment.optimise()\n"
     ]
    },
    {
     "name": "stdout",
     "output_type": "stream",
     "text": [
      "Kappa vs Beta. TM score: 0.9999998645654918\n",
      "Kappa Alpha\n"
     ]
    },
    {
     "name": "stderr",
     "output_type": "stream",
     "text": [
      "C:\\Users\\Utente\\AppData\\Local\\Temp\\ipykernel_11200\\3062668350.py:4: DeprecationWarning: Using .default_errordef() is deprecated. Use .errordef instead\n",
      "  alignment.optimise()\n"
     ]
    },
    {
     "name": "stdout",
     "output_type": "stream",
     "text": [
      "Kappa vs Alpha. TM score: 0.9999998656355029\n",
      "Kappa Delta\n"
     ]
    },
    {
     "name": "stderr",
     "output_type": "stream",
     "text": [
      "C:\\Users\\Utente\\AppData\\Local\\Temp\\ipykernel_11200\\3062668350.py:4: DeprecationWarning: Using .default_errordef() is deprecated. Use .errordef instead\n",
      "  alignment.optimise()\n"
     ]
    },
    {
     "name": "stdout",
     "output_type": "stream",
     "text": [
      "Kappa vs Delta. TM score: 0.9999999037502082\n",
      "Gamma Epsilon\n"
     ]
    },
    {
     "name": "stderr",
     "output_type": "stream",
     "text": [
      "C:\\Users\\Utente\\AppData\\Local\\Temp\\ipykernel_11200\\3062668350.py:4: DeprecationWarning: Using .default_errordef() is deprecated. Use .errordef instead\n",
      "  alignment.optimise()\n"
     ]
    },
    {
     "name": "stdout",
     "output_type": "stream",
     "text": [
      "Gamma vs Epsilon. TM score: 0.9999999473848443\n",
      "Gamma Zeta\n"
     ]
    },
    {
     "name": "stderr",
     "output_type": "stream",
     "text": [
      "C:\\Users\\Utente\\AppData\\Local\\Temp\\ipykernel_11200\\3062668350.py:4: DeprecationWarning: Using .default_errordef() is deprecated. Use .errordef instead\n",
      "  alignment.optimise()\n"
     ]
    },
    {
     "name": "stdout",
     "output_type": "stream",
     "text": [
      "Gamma vs Zeta. TM score: 0.9999999679845673\n",
      "Gamma Beta\n"
     ]
    },
    {
     "name": "stderr",
     "output_type": "stream",
     "text": [
      "C:\\Users\\Utente\\AppData\\Local\\Temp\\ipykernel_11200\\3062668350.py:4: DeprecationWarning: Using .default_errordef() is deprecated. Use .errordef instead\n",
      "  alignment.optimise()\n"
     ]
    },
    {
     "name": "stdout",
     "output_type": "stream",
     "text": [
      "Gamma vs Beta. TM score: 0.9999999308096823\n",
      "Gamma Alpha\n"
     ]
    },
    {
     "name": "stderr",
     "output_type": "stream",
     "text": [
      "C:\\Users\\Utente\\AppData\\Local\\Temp\\ipykernel_11200\\3062668350.py:4: DeprecationWarning: Using .default_errordef() is deprecated. Use .errordef instead\n",
      "  alignment.optimise()\n"
     ]
    },
    {
     "name": "stdout",
     "output_type": "stream",
     "text": [
      "Gamma vs Alpha. TM score: 0.999999913721652\n",
      "Gamma Delta\n"
     ]
    },
    {
     "name": "stderr",
     "output_type": "stream",
     "text": [
      "C:\\Users\\Utente\\AppData\\Local\\Temp\\ipykernel_11200\\3062668350.py:4: DeprecationWarning: Using .default_errordef() is deprecated. Use .errordef instead\n",
      "  alignment.optimise()\n"
     ]
    },
    {
     "name": "stdout",
     "output_type": "stream",
     "text": [
      "Gamma vs Delta. TM score: 0.9999999329747795\n",
      "Gamma Kappa\n"
     ]
    },
    {
     "name": "stderr",
     "output_type": "stream",
     "text": [
      "C:\\Users\\Utente\\AppData\\Local\\Temp\\ipykernel_11200\\3062668350.py:4: DeprecationWarning: Using .default_errordef() is deprecated. Use .errordef instead\n",
      "  alignment.optimise()\n"
     ]
    },
    {
     "name": "stdout",
     "output_type": "stream",
     "text": [
      "Gamma vs Kappa. TM score: 0.9999998996224926\n",
      "Iota1 Epsilon\n"
     ]
    },
    {
     "name": "stderr",
     "output_type": "stream",
     "text": [
      "C:\\Users\\Utente\\AppData\\Local\\Temp\\ipykernel_11200\\3062668350.py:4: DeprecationWarning: Using .default_errordef() is deprecated. Use .errordef instead\n",
      "  alignment.optimise()\n"
     ]
    },
    {
     "name": "stdout",
     "output_type": "stream",
     "text": [
      "Iota1 vs Epsilon. TM score: 0.9999999588999203\n",
      "Iota1 Zeta\n"
     ]
    },
    {
     "name": "stderr",
     "output_type": "stream",
     "text": [
      "C:\\Users\\Utente\\AppData\\Local\\Temp\\ipykernel_11200\\3062668350.py:4: DeprecationWarning: Using .default_errordef() is deprecated. Use .errordef instead\n",
      "  alignment.optimise()\n"
     ]
    },
    {
     "name": "stdout",
     "output_type": "stream",
     "text": [
      "Iota1 vs Zeta. TM score: 0.9999999677174224\n",
      "Iota1 Beta\n"
     ]
    },
    {
     "name": "stderr",
     "output_type": "stream",
     "text": [
      "C:\\Users\\Utente\\AppData\\Local\\Temp\\ipykernel_11200\\3062668350.py:4: DeprecationWarning: Using .default_errordef() is deprecated. Use .errordef instead\n",
      "  alignment.optimise()\n"
     ]
    },
    {
     "name": "stdout",
     "output_type": "stream",
     "text": [
      "Iota1 vs Beta. TM score: 0.9999999007131839\n",
      "Iota1 Alpha\n"
     ]
    },
    {
     "name": "stderr",
     "output_type": "stream",
     "text": [
      "C:\\Users\\Utente\\AppData\\Local\\Temp\\ipykernel_11200\\3062668350.py:4: DeprecationWarning: Using .default_errordef() is deprecated. Use .errordef instead\n",
      "  alignment.optimise()\n"
     ]
    },
    {
     "name": "stdout",
     "output_type": "stream",
     "text": [
      "Iota1 vs Alpha. TM score: 0.9999999099815161\n",
      "Iota1 Delta\n"
     ]
    },
    {
     "name": "stderr",
     "output_type": "stream",
     "text": [
      "C:\\Users\\Utente\\AppData\\Local\\Temp\\ipykernel_11200\\3062668350.py:4: DeprecationWarning: Using .default_errordef() is deprecated. Use .errordef instead\n",
      "  alignment.optimise()\n"
     ]
    },
    {
     "name": "stdout",
     "output_type": "stream",
     "text": [
      "Iota1 vs Delta. TM score: 0.9999999444246533\n",
      "Iota1 Kappa\n"
     ]
    },
    {
     "name": "stderr",
     "output_type": "stream",
     "text": [
      "C:\\Users\\Utente\\AppData\\Local\\Temp\\ipykernel_11200\\3062668350.py:4: DeprecationWarning: Using .default_errordef() is deprecated. Use .errordef instead\n",
      "  alignment.optimise()\n"
     ]
    },
    {
     "name": "stdout",
     "output_type": "stream",
     "text": [
      "Iota1 vs Kappa. TM score: 0.9999998981530948\n",
      "Iota1 Gamma\n"
     ]
    },
    {
     "name": "stderr",
     "output_type": "stream",
     "text": [
      "C:\\Users\\Utente\\AppData\\Local\\Temp\\ipykernel_11200\\3062668350.py:4: DeprecationWarning: Using .default_errordef() is deprecated. Use .errordef instead\n",
      "  alignment.optimise()\n"
     ]
    },
    {
     "name": "stdout",
     "output_type": "stream",
     "text": [
      "Iota1 vs Gamma. TM score: 0.9999999356771766\n",
      "Iota2 Epsilon\n"
     ]
    },
    {
     "name": "stderr",
     "output_type": "stream",
     "text": [
      "C:\\Users\\Utente\\AppData\\Local\\Temp\\ipykernel_11200\\3062668350.py:4: DeprecationWarning: Using .default_errordef() is deprecated. Use .errordef instead\n",
      "  alignment.optimise()\n"
     ]
    },
    {
     "name": "stdout",
     "output_type": "stream",
     "text": [
      "Iota2 vs Epsilon. TM score: 0.9999999563373362\n",
      "Iota2 Zeta\n"
     ]
    },
    {
     "name": "stderr",
     "output_type": "stream",
     "text": [
      "C:\\Users\\Utente\\AppData\\Local\\Temp\\ipykernel_11200\\3062668350.py:4: DeprecationWarning: Using .default_errordef() is deprecated. Use .errordef instead\n",
      "  alignment.optimise()\n"
     ]
    },
    {
     "name": "stdout",
     "output_type": "stream",
     "text": [
      "Iota2 vs Zeta. TM score: 0.9999999769147359\n",
      "Iota2 Beta\n"
     ]
    },
    {
     "name": "stderr",
     "output_type": "stream",
     "text": [
      "C:\\Users\\Utente\\AppData\\Local\\Temp\\ipykernel_11200\\3062668350.py:4: DeprecationWarning: Using .default_errordef() is deprecated. Use .errordef instead\n",
      "  alignment.optimise()\n"
     ]
    },
    {
     "name": "stdout",
     "output_type": "stream",
     "text": [
      "Iota2 vs Beta. TM score: 0.9999999099100539\n",
      "Iota2 Alpha\n"
     ]
    },
    {
     "name": "stderr",
     "output_type": "stream",
     "text": [
      "C:\\Users\\Utente\\AppData\\Local\\Temp\\ipykernel_11200\\3062668350.py:4: DeprecationWarning: Using .default_errordef() is deprecated. Use .errordef instead\n",
      "  alignment.optimise()\n"
     ]
    },
    {
     "name": "stdout",
     "output_type": "stream",
     "text": [
      "Iota2 vs Alpha. TM score: 0.9999999074127631\n",
      "Iota2 Delta\n"
     ]
    },
    {
     "name": "stderr",
     "output_type": "stream",
     "text": [
      "C:\\Users\\Utente\\AppData\\Local\\Temp\\ipykernel_11200\\3062668350.py:4: DeprecationWarning: Using .default_errordef() is deprecated. Use .errordef instead\n",
      "  alignment.optimise()\n"
     ]
    },
    {
     "name": "stdout",
     "output_type": "stream",
     "text": [
      "Iota2 vs Delta. TM score: 0.9999999418927205\n",
      "Iota2 Kappa\n"
     ]
    },
    {
     "name": "stderr",
     "output_type": "stream",
     "text": [
      "C:\\Users\\Utente\\AppData\\Local\\Temp\\ipykernel_11200\\3062668350.py:4: DeprecationWarning: Using .default_errordef() is deprecated. Use .errordef instead\n",
      "  alignment.optimise()\n"
     ]
    },
    {
     "name": "stdout",
     "output_type": "stream",
     "text": [
      "Iota2 vs Kappa. TM score: 0.9999999085583424\n",
      "Iota2 Gamma\n"
     ]
    },
    {
     "name": "stderr",
     "output_type": "stream",
     "text": [
      "C:\\Users\\Utente\\AppData\\Local\\Temp\\ipykernel_11200\\3062668350.py:4: DeprecationWarning: Using .default_errordef() is deprecated. Use .errordef instead\n",
      "  alignment.optimise()\n"
     ]
    },
    {
     "name": "stdout",
     "output_type": "stream",
     "text": [
      "Iota2 vs Gamma. TM score: 0.9999999448532546\n",
      "Iota2 Iota1\n"
     ]
    },
    {
     "name": "stderr",
     "output_type": "stream",
     "text": [
      "C:\\Users\\Utente\\AppData\\Local\\Temp\\ipykernel_11200\\3062668350.py:4: DeprecationWarning: Using .default_errordef() is deprecated. Use .errordef instead\n",
      "  alignment.optimise()\n"
     ]
    },
    {
     "name": "stdout",
     "output_type": "stream",
     "text": [
      "Iota2 vs Iota1. TM score: 0.9999999908161348\n",
      "Eta Epsilon\n"
     ]
    },
    {
     "name": "stderr",
     "output_type": "stream",
     "text": [
      "C:\\Users\\Utente\\AppData\\Local\\Temp\\ipykernel_11200\\3062668350.py:4: DeprecationWarning: Using .default_errordef() is deprecated. Use .errordef instead\n",
      "  alignment.optimise()\n"
     ]
    },
    {
     "name": "stdout",
     "output_type": "stream",
     "text": [
      "Eta vs Epsilon. TM score: 0.9999999334444009\n",
      "Eta Zeta\n"
     ]
    },
    {
     "name": "stderr",
     "output_type": "stream",
     "text": [
      "C:\\Users\\Utente\\AppData\\Local\\Temp\\ipykernel_11200\\3062668350.py:4: DeprecationWarning: Using .default_errordef() is deprecated. Use .errordef instead\n",
      "  alignment.optimise()\n"
     ]
    },
    {
     "name": "stdout",
     "output_type": "stream",
     "text": [
      "Eta vs Zeta. TM score: 0.9999999540341185\n",
      "Eta Beta\n"
     ]
    },
    {
     "name": "stderr",
     "output_type": "stream",
     "text": [
      "C:\\Users\\Utente\\AppData\\Local\\Temp\\ipykernel_11200\\3062668350.py:4: DeprecationWarning: Using .default_errordef() is deprecated. Use .errordef instead\n",
      "  alignment.optimise()\n"
     ]
    },
    {
     "name": "stdout",
     "output_type": "stream",
     "text": [
      "Eta vs Beta. TM score: 0.999999887030037\n",
      "Eta Alpha\n"
     ]
    },
    {
     "name": "stderr",
     "output_type": "stream",
     "text": [
      "C:\\Users\\Utente\\AppData\\Local\\Temp\\ipykernel_11200\\3062668350.py:4: DeprecationWarning: Using .default_errordef() is deprecated. Use .errordef instead\n",
      "  alignment.optimise()\n"
     ]
    },
    {
     "name": "stdout",
     "output_type": "stream",
     "text": [
      "Eta vs Alpha. TM score: 0.9999998846405961\n",
      "Eta Delta\n"
     ]
    },
    {
     "name": "stderr",
     "output_type": "stream",
     "text": [
      "C:\\Users\\Utente\\AppData\\Local\\Temp\\ipykernel_11200\\3062668350.py:4: DeprecationWarning: Using .default_errordef() is deprecated. Use .errordef instead\n",
      "  alignment.optimise()\n"
     ]
    },
    {
     "name": "stdout",
     "output_type": "stream",
     "text": [
      "Eta vs Delta. TM score: 0.999999919010198\n",
      "Eta Kappa\n"
     ]
    },
    {
     "name": "stderr",
     "output_type": "stream",
     "text": [
      "C:\\Users\\Utente\\AppData\\Local\\Temp\\ipykernel_11200\\3062668350.py:4: DeprecationWarning: Using .default_errordef() is deprecated. Use .errordef instead\n",
      "  alignment.optimise()\n"
     ]
    },
    {
     "name": "stdout",
     "output_type": "stream",
     "text": [
      "Eta vs Kappa. TM score: 0.9999998855836375\n",
      "Eta Gamma\n"
     ]
    },
    {
     "name": "stderr",
     "output_type": "stream",
     "text": [
      "C:\\Users\\Utente\\AppData\\Local\\Temp\\ipykernel_11200\\3062668350.py:4: DeprecationWarning: Using .default_errordef() is deprecated. Use .errordef instead\n",
      "  alignment.optimise()\n"
     ]
    },
    {
     "name": "stdout",
     "output_type": "stream",
     "text": [
      "Eta vs Gamma. TM score: 0.9999999219969111\n",
      "Eta Iota1\n"
     ]
    },
    {
     "name": "stderr",
     "output_type": "stream",
     "text": [
      "C:\\Users\\Utente\\AppData\\Local\\Temp\\ipykernel_11200\\3062668350.py:4: DeprecationWarning: Using .default_errordef() is deprecated. Use .errordef instead\n",
      "  alignment.optimise()\n"
     ]
    },
    {
     "name": "stdout",
     "output_type": "stream",
     "text": [
      "Eta vs Iota1. TM score: 0.9999999217736454\n",
      "Eta Iota2\n"
     ]
    },
    {
     "name": "stderr",
     "output_type": "stream",
     "text": [
      "C:\\Users\\Utente\\AppData\\Local\\Temp\\ipykernel_11200\\3062668350.py:4: DeprecationWarning: Using .default_errordef() is deprecated. Use .errordef instead\n",
      "  alignment.optimise()\n"
     ]
    },
    {
     "name": "stdout",
     "output_type": "stream",
     "text": [
      "Eta vs Iota2. TM score: 0.9999999309607135\n",
      "Ihu Epsilon\n"
     ]
    },
    {
     "name": "stderr",
     "output_type": "stream",
     "text": [
      "C:\\Users\\Utente\\AppData\\Local\\Temp\\ipykernel_11200\\3062668350.py:4: DeprecationWarning: Using .default_errordef() is deprecated. Use .errordef instead\n",
      "  alignment.optimise()\n"
     ]
    },
    {
     "name": "stdout",
     "output_type": "stream",
     "text": [
      "Ihu vs Epsilon. TM score: 0.9999999255554374\n",
      "Ihu Zeta\n"
     ]
    },
    {
     "name": "stderr",
     "output_type": "stream",
     "text": [
      "C:\\Users\\Utente\\AppData\\Local\\Temp\\ipykernel_11200\\3062668350.py:4: DeprecationWarning: Using .default_errordef() is deprecated. Use .errordef instead\n",
      "  alignment.optimise()\n"
     ]
    },
    {
     "name": "stdout",
     "output_type": "stream",
     "text": [
      "Ihu vs Zeta. TM score: 0.9999999343253152\n",
      "Ihu Beta\n"
     ]
    },
    {
     "name": "stderr",
     "output_type": "stream",
     "text": [
      "C:\\Users\\Utente\\AppData\\Local\\Temp\\ipykernel_11200\\3062668350.py:4: DeprecationWarning: Using .default_errordef() is deprecated. Use .errordef instead\n",
      "  alignment.optimise()\n"
     ]
    },
    {
     "name": "stdout",
     "output_type": "stream",
     "text": [
      "Ihu vs Beta. TM score: 0.999999882639012\n",
      "Ihu Alpha\n"
     ]
    },
    {
     "name": "stderr",
     "output_type": "stream",
     "text": [
      "C:\\Users\\Utente\\AppData\\Local\\Temp\\ipykernel_11200\\3062668350.py:4: DeprecationWarning: Using .default_errordef() is deprecated. Use .errordef instead\n",
      "  alignment.optimise()\n"
     ]
    },
    {
     "name": "stdout",
     "output_type": "stream",
     "text": [
      "Ihu vs Alpha. TM score: 0.9999998982126822\n",
      "Ihu Delta\n"
     ]
    },
    {
     "name": "stderr",
     "output_type": "stream",
     "text": [
      "C:\\Users\\Utente\\AppData\\Local\\Temp\\ipykernel_11200\\3062668350.py:4: DeprecationWarning: Using .default_errordef() is deprecated. Use .errordef instead\n",
      "  alignment.optimise()\n"
     ]
    },
    {
     "name": "stdout",
     "output_type": "stream",
     "text": [
      "Ihu vs Delta. TM score: 0.9999999156320836\n",
      "Ihu Kappa\n"
     ]
    },
    {
     "name": "stderr",
     "output_type": "stream",
     "text": [
      "C:\\Users\\Utente\\AppData\\Local\\Temp\\ipykernel_11200\\3062668350.py:4: DeprecationWarning: Using .default_errordef() is deprecated. Use .errordef instead\n",
      "  alignment.optimise()\n"
     ]
    },
    {
     "name": "stdout",
     "output_type": "stream",
     "text": [
      "Ihu vs Kappa. TM score: 0.9999998692509331\n",
      "Ihu Gamma\n"
     ]
    },
    {
     "name": "stderr",
     "output_type": "stream",
     "text": [
      "C:\\Users\\Utente\\AppData\\Local\\Temp\\ipykernel_11200\\3062668350.py:4: DeprecationWarning: Using .default_errordef() is deprecated. Use .errordef instead\n",
      "  alignment.optimise()\n"
     ]
    },
    {
     "name": "stdout",
     "output_type": "stream",
     "text": [
      "Ihu vs Gamma. TM score: 0.9999999184815106\n",
      "Ihu Iota1\n"
     ]
    }
   ],
   "source": [
    "labels = list(spike_muts_variants.keys())\n",
    "N = len(labels)\n",
    "tm_scores = np.zeros((N,N))\n",
    "pdbWTPath = \"Data\\\\PDB_Swiss\\\\6VXX.pdb\"\n",
    "#pdbFilesPath = \"Data\\\\PDB\\\\\"\n",
    "#pdbWTPath = pdbFilesPath + \"SPWT.pdb\"\n",
    "pdbSwissFilesPath = \"Data\\\\PDB_Swiss\\\\\"\n",
    "\n",
    "for i, (variant1, mut1) in enumerate(spike_muts_variants.items()):\n",
    "    \n",
    "    if variant1 == \"Wild Type\":\n",
    "        continue\n",
    "    #print(mut1)\n",
    "    mut1 = mut1\n",
    "\n",
    "    for j, (variant2, mut2) in enumerate(spike_muts_variants.items()):\n",
    "        if variant2 == \"Wild Type\":\n",
    "            continue\n",
    "        mut2 = mut2\n",
    "        if i > j:\n",
    "            if variant1!=variant2:\n",
    "                print(variant1, variant2)\n",
    "\n",
    "                if len(mut1) == 0:\n",
    "                    mut1 = None\n",
    "                    pdbFilePath1 = pdbSwissFilesPath+\"6VXX.pdb\"\n",
    "                else:\n",
    "                    pdbFilePath1 = pdbSwissFilesPath+\"{}.pdb\".format(variant1)\n",
    "                    if \"{}.pdb\".format(variant1) not in os.listdir(pdbSwissFilesPath):\n",
    "                        print(\"create \", pdbFilePath1)\n",
    "                        create_pdb_with_mutations(pdbWTPath, mut1, pdbFilePath1)\n",
    "                    \n",
    "                if len(mut2) == 0:\n",
    "                    mut2 = None\n",
    "                    pdbFilePath2 = pdbSwissFilesPath+\"6VXX.pdb\"\n",
    "                else:\n",
    "                    pdbFilePath2 = pdbSwissFilesPath+\"{}.pdb\".format(variant2)\n",
    "                    if \"{}.pdb\".format(variant2) not in os.listdir(pdbSwissFilesPath):\n",
    "                        print(\"create \", pdbFilePath2)\n",
    "                        create_pdb_with_mutations(pdbWTPath, mut2, pdbFilePath2)\n",
    "\n",
    "                tm_score = compute_tm_score(pdbFilePath1, pdbFilePath2)\n",
    "                \"\"\"\n",
    "                pdbFilePath1 = pdbFilesPath + spikes[variant1]+\".pdb\"\n",
    "                pdbFilePath2 = pdbFilesPath + spikes[variant2]+\".pdb\"\n",
    "                tm_score = compute_tm_score(pdbFilePath1, pdbFilePath2)\n",
    "                \"\"\"\n",
    "            else:\n",
    "                tm_score = 1.0\n",
    "            \n",
    "            print(\"{} vs {}. TM score: {}\".format(variant1, variant2, tm_score))\n",
    "            tm_scores[i, j] = tm_score\n",
    "            tm_scores[j, i] = tm_score\n",
    "         \n",
    "        elif i == j:\n",
    "            tm_scores[i, j] = 1.0\n",
    "            "
   ]
  },
  {
   "cell_type": "code",
   "execution_count": 19,
   "metadata": {},
   "outputs": [
    {
     "data": {
      "text/html": [
       "<div>\n",
       "<style scoped>\n",
       "    .dataframe tbody tr th:only-of-type {\n",
       "        vertical-align: middle;\n",
       "    }\n",
       "\n",
       "    .dataframe tbody tr th {\n",
       "        vertical-align: top;\n",
       "    }\n",
       "\n",
       "    .dataframe thead th {\n",
       "        text-align: right;\n",
       "    }\n",
       "</style>\n",
       "<table border=\"1\" class=\"dataframe\">\n",
       "  <thead>\n",
       "    <tr style=\"text-align: right;\">\n",
       "      <th></th>\n",
       "      <th>Wild Type</th>\n",
       "      <th>Epsilon</th>\n",
       "      <th>Zeta</th>\n",
       "      <th>Beta</th>\n",
       "      <th>Alpha</th>\n",
       "      <th>Delta</th>\n",
       "      <th>Kappa</th>\n",
       "      <th>Gamma</th>\n",
       "      <th>Iota1</th>\n",
       "      <th>Iota2</th>\n",
       "      <th>Eta</th>\n",
       "      <th>Ihu</th>\n",
       "      <th>Omicron1</th>\n",
       "      <th>Omicron5</th>\n",
       "    </tr>\n",
       "  </thead>\n",
       "  <tbody>\n",
       "    <tr>\n",
       "      <th>Wild Type</th>\n",
       "      <td>0.0</td>\n",
       "      <td>0.00000000</td>\n",
       "      <td>0.00000000</td>\n",
       "      <td>0.00000000</td>\n",
       "      <td>0.00000000</td>\n",
       "      <td>0.00000000</td>\n",
       "      <td>0.00000000</td>\n",
       "      <td>0.00000000</td>\n",
       "      <td>0.00000000</td>\n",
       "      <td>0.00000000</td>\n",
       "      <td>0.00000000</td>\n",
       "      <td>0.00000000</td>\n",
       "      <td>0.00000000</td>\n",
       "      <td>0.00000000</td>\n",
       "    </tr>\n",
       "    <tr>\n",
       "      <th>Epsilon</th>\n",
       "      <td>0.0</td>\n",
       "      <td>1.00000000</td>\n",
       "      <td>0.99999998</td>\n",
       "      <td>0.99999991</td>\n",
       "      <td>0.99999992</td>\n",
       "      <td>0.99999997</td>\n",
       "      <td>0.99999991</td>\n",
       "      <td>0.99999995</td>\n",
       "      <td>0.99999996</td>\n",
       "      <td>0.99999996</td>\n",
       "      <td>0.99999993</td>\n",
       "      <td>0.99999993</td>\n",
       "      <td>0.99999974</td>\n",
       "      <td>0.99999974</td>\n",
       "    </tr>\n",
       "    <tr>\n",
       "      <th>Zeta</th>\n",
       "      <td>0.0</td>\n",
       "      <td>0.99999998</td>\n",
       "      <td>1.00000000</td>\n",
       "      <td>0.99999993</td>\n",
       "      <td>0.99999993</td>\n",
       "      <td>0.99999996</td>\n",
       "      <td>0.99999993</td>\n",
       "      <td>0.99999997</td>\n",
       "      <td>0.99999997</td>\n",
       "      <td>0.99999998</td>\n",
       "      <td>0.99999995</td>\n",
       "      <td>0.99999993</td>\n",
       "      <td>0.99999976</td>\n",
       "      <td>0.99999975</td>\n",
       "    </tr>\n",
       "    <tr>\n",
       "      <th>Beta</th>\n",
       "      <td>0.0</td>\n",
       "      <td>0.99999991</td>\n",
       "      <td>0.99999993</td>\n",
       "      <td>1.00000000</td>\n",
       "      <td>0.99999988</td>\n",
       "      <td>0.99999990</td>\n",
       "      <td>0.99999986</td>\n",
       "      <td>0.99999993</td>\n",
       "      <td>0.99999990</td>\n",
       "      <td>0.99999991</td>\n",
       "      <td>0.99999989</td>\n",
       "      <td>0.99999988</td>\n",
       "      <td>0.99999972</td>\n",
       "      <td>0.99999972</td>\n",
       "    </tr>\n",
       "    <tr>\n",
       "      <th>Alpha</th>\n",
       "      <td>0.0</td>\n",
       "      <td>0.99999992</td>\n",
       "      <td>0.99999993</td>\n",
       "      <td>0.99999988</td>\n",
       "      <td>1.00000000</td>\n",
       "      <td>0.99999991</td>\n",
       "      <td>0.99999987</td>\n",
       "      <td>0.99999991</td>\n",
       "      <td>0.99999991</td>\n",
       "      <td>0.99999991</td>\n",
       "      <td>0.99999988</td>\n",
       "      <td>0.99999990</td>\n",
       "      <td>0.99999971</td>\n",
       "      <td>0.99999971</td>\n",
       "    </tr>\n",
       "    <tr>\n",
       "      <th>Delta</th>\n",
       "      <td>0.0</td>\n",
       "      <td>0.99999997</td>\n",
       "      <td>0.99999996</td>\n",
       "      <td>0.99999990</td>\n",
       "      <td>0.99999991</td>\n",
       "      <td>1.00000000</td>\n",
       "      <td>0.99999990</td>\n",
       "      <td>0.99999993</td>\n",
       "      <td>0.99999994</td>\n",
       "      <td>0.99999994</td>\n",
       "      <td>0.99999992</td>\n",
       "      <td>0.99999992</td>\n",
       "      <td>0.99999975</td>\n",
       "      <td>0.99999977</td>\n",
       "    </tr>\n",
       "    <tr>\n",
       "      <th>Kappa</th>\n",
       "      <td>0.0</td>\n",
       "      <td>0.99999991</td>\n",
       "      <td>0.99999993</td>\n",
       "      <td>0.99999986</td>\n",
       "      <td>0.99999987</td>\n",
       "      <td>0.99999990</td>\n",
       "      <td>1.00000000</td>\n",
       "      <td>0.99999990</td>\n",
       "      <td>0.99999990</td>\n",
       "      <td>0.99999991</td>\n",
       "      <td>0.99999989</td>\n",
       "      <td>0.99999987</td>\n",
       "      <td>0.99999969</td>\n",
       "      <td>0.99999969</td>\n",
       "    </tr>\n",
       "    <tr>\n",
       "      <th>Gamma</th>\n",
       "      <td>0.0</td>\n",
       "      <td>0.99999995</td>\n",
       "      <td>0.99999997</td>\n",
       "      <td>0.99999993</td>\n",
       "      <td>0.99999991</td>\n",
       "      <td>0.99999993</td>\n",
       "      <td>0.99999990</td>\n",
       "      <td>1.00000000</td>\n",
       "      <td>0.99999994</td>\n",
       "      <td>0.99999994</td>\n",
       "      <td>0.99999992</td>\n",
       "      <td>0.99999992</td>\n",
       "      <td>0.99999977</td>\n",
       "      <td>0.99999977</td>\n",
       "    </tr>\n",
       "    <tr>\n",
       "      <th>Iota1</th>\n",
       "      <td>0.0</td>\n",
       "      <td>0.99999996</td>\n",
       "      <td>0.99999997</td>\n",
       "      <td>0.99999990</td>\n",
       "      <td>0.99999991</td>\n",
       "      <td>0.99999994</td>\n",
       "      <td>0.99999990</td>\n",
       "      <td>0.99999994</td>\n",
       "      <td>1.00000000</td>\n",
       "      <td>0.99999999</td>\n",
       "      <td>0.99999992</td>\n",
       "      <td>0.99999991</td>\n",
       "      <td>0.99999975</td>\n",
       "      <td>0.99999973</td>\n",
       "    </tr>\n",
       "    <tr>\n",
       "      <th>Iota2</th>\n",
       "      <td>0.0</td>\n",
       "      <td>0.99999996</td>\n",
       "      <td>0.99999998</td>\n",
       "      <td>0.99999991</td>\n",
       "      <td>0.99999991</td>\n",
       "      <td>0.99999994</td>\n",
       "      <td>0.99999991</td>\n",
       "      <td>0.99999994</td>\n",
       "      <td>0.99999999</td>\n",
       "      <td>1.00000000</td>\n",
       "      <td>0.99999993</td>\n",
       "      <td>0.99999991</td>\n",
       "      <td>0.99999975</td>\n",
       "      <td>0.99999973</td>\n",
       "    </tr>\n",
       "    <tr>\n",
       "      <th>Eta</th>\n",
       "      <td>0.0</td>\n",
       "      <td>0.99999993</td>\n",
       "      <td>0.99999995</td>\n",
       "      <td>0.99999989</td>\n",
       "      <td>0.99999988</td>\n",
       "      <td>0.99999992</td>\n",
       "      <td>0.99999989</td>\n",
       "      <td>0.99999992</td>\n",
       "      <td>0.99999992</td>\n",
       "      <td>0.99999993</td>\n",
       "      <td>1.00000000</td>\n",
       "      <td>0.99999989</td>\n",
       "      <td>0.99999972</td>\n",
       "      <td>0.99999971</td>\n",
       "    </tr>\n",
       "    <tr>\n",
       "      <th>Ihu</th>\n",
       "      <td>0.0</td>\n",
       "      <td>0.99999993</td>\n",
       "      <td>0.99999993</td>\n",
       "      <td>0.99999988</td>\n",
       "      <td>0.99999990</td>\n",
       "      <td>0.99999992</td>\n",
       "      <td>0.99999987</td>\n",
       "      <td>0.99999992</td>\n",
       "      <td>0.99999991</td>\n",
       "      <td>0.99999991</td>\n",
       "      <td>0.99999989</td>\n",
       "      <td>1.00000000</td>\n",
       "      <td>0.99999971</td>\n",
       "      <td>0.99999971</td>\n",
       "    </tr>\n",
       "    <tr>\n",
       "      <th>Omicron1</th>\n",
       "      <td>0.0</td>\n",
       "      <td>0.99999974</td>\n",
       "      <td>0.99999976</td>\n",
       "      <td>0.99999972</td>\n",
       "      <td>0.99999971</td>\n",
       "      <td>0.99999975</td>\n",
       "      <td>0.99999969</td>\n",
       "      <td>0.99999977</td>\n",
       "      <td>0.99999975</td>\n",
       "      <td>0.99999975</td>\n",
       "      <td>0.99999972</td>\n",
       "      <td>0.99999971</td>\n",
       "      <td>1.00000000</td>\n",
       "      <td>0.99999991</td>\n",
       "    </tr>\n",
       "    <tr>\n",
       "      <th>Omicron5</th>\n",
       "      <td>0.0</td>\n",
       "      <td>0.99999974</td>\n",
       "      <td>0.99999975</td>\n",
       "      <td>0.99999972</td>\n",
       "      <td>0.99999971</td>\n",
       "      <td>0.99999977</td>\n",
       "      <td>0.99999969</td>\n",
       "      <td>0.99999977</td>\n",
       "      <td>0.99999973</td>\n",
       "      <td>0.99999973</td>\n",
       "      <td>0.99999971</td>\n",
       "      <td>0.99999971</td>\n",
       "      <td>0.99999991</td>\n",
       "      <td>1.00000000</td>\n",
       "    </tr>\n",
       "  </tbody>\n",
       "</table>\n",
       "</div>"
      ],
      "text/plain": [
       "           Wild Type     Epsilon        Zeta        Beta       Alpha   \n",
       "Wild Type        0.0  0.00000000  0.00000000  0.00000000  0.00000000  \\\n",
       "Epsilon          0.0  1.00000000  0.99999998  0.99999991  0.99999992   \n",
       "Zeta             0.0  0.99999998  1.00000000  0.99999993  0.99999993   \n",
       "Beta             0.0  0.99999991  0.99999993  1.00000000  0.99999988   \n",
       "Alpha            0.0  0.99999992  0.99999993  0.99999988  1.00000000   \n",
       "Delta            0.0  0.99999997  0.99999996  0.99999990  0.99999991   \n",
       "Kappa            0.0  0.99999991  0.99999993  0.99999986  0.99999987   \n",
       "Gamma            0.0  0.99999995  0.99999997  0.99999993  0.99999991   \n",
       "Iota1            0.0  0.99999996  0.99999997  0.99999990  0.99999991   \n",
       "Iota2            0.0  0.99999996  0.99999998  0.99999991  0.99999991   \n",
       "Eta              0.0  0.99999993  0.99999995  0.99999989  0.99999988   \n",
       "Ihu              0.0  0.99999993  0.99999993  0.99999988  0.99999990   \n",
       "Omicron1         0.0  0.99999974  0.99999976  0.99999972  0.99999971   \n",
       "Omicron5         0.0  0.99999974  0.99999975  0.99999972  0.99999971   \n",
       "\n",
       "                Delta       Kappa       Gamma       Iota1       Iota2   \n",
       "Wild Type  0.00000000  0.00000000  0.00000000  0.00000000  0.00000000  \\\n",
       "Epsilon    0.99999997  0.99999991  0.99999995  0.99999996  0.99999996   \n",
       "Zeta       0.99999996  0.99999993  0.99999997  0.99999997  0.99999998   \n",
       "Beta       0.99999990  0.99999986  0.99999993  0.99999990  0.99999991   \n",
       "Alpha      0.99999991  0.99999987  0.99999991  0.99999991  0.99999991   \n",
       "Delta      1.00000000  0.99999990  0.99999993  0.99999994  0.99999994   \n",
       "Kappa      0.99999990  1.00000000  0.99999990  0.99999990  0.99999991   \n",
       "Gamma      0.99999993  0.99999990  1.00000000  0.99999994  0.99999994   \n",
       "Iota1      0.99999994  0.99999990  0.99999994  1.00000000  0.99999999   \n",
       "Iota2      0.99999994  0.99999991  0.99999994  0.99999999  1.00000000   \n",
       "Eta        0.99999992  0.99999989  0.99999992  0.99999992  0.99999993   \n",
       "Ihu        0.99999992  0.99999987  0.99999992  0.99999991  0.99999991   \n",
       "Omicron1   0.99999975  0.99999969  0.99999977  0.99999975  0.99999975   \n",
       "Omicron5   0.99999977  0.99999969  0.99999977  0.99999973  0.99999973   \n",
       "\n",
       "                  Eta         Ihu    Omicron1    Omicron5  \n",
       "Wild Type  0.00000000  0.00000000  0.00000000  0.00000000  \n",
       "Epsilon    0.99999993  0.99999993  0.99999974  0.99999974  \n",
       "Zeta       0.99999995  0.99999993  0.99999976  0.99999975  \n",
       "Beta       0.99999989  0.99999988  0.99999972  0.99999972  \n",
       "Alpha      0.99999988  0.99999990  0.99999971  0.99999971  \n",
       "Delta      0.99999992  0.99999992  0.99999975  0.99999977  \n",
       "Kappa      0.99999989  0.99999987  0.99999969  0.99999969  \n",
       "Gamma      0.99999992  0.99999992  0.99999977  0.99999977  \n",
       "Iota1      0.99999992  0.99999991  0.99999975  0.99999973  \n",
       "Iota2      0.99999993  0.99999991  0.99999975  0.99999973  \n",
       "Eta        1.00000000  0.99999989  0.99999972  0.99999971  \n",
       "Ihu        0.99999989  1.00000000  0.99999971  0.99999971  \n",
       "Omicron1   0.99999972  0.99999971  1.00000000  0.99999991  \n",
       "Omicron5   0.99999971  0.99999971  0.99999991  1.00000000  "
      ]
     },
     "execution_count": 19,
     "metadata": {},
     "output_type": "execute_result"
    }
   ],
   "source": [
    "import pandas as pd\n",
    "pd.set_option(\"display.precision\", 8)\n",
    "df_tm_variants = pd.DataFrame(tm_scores, columns = labels, index = labels)\n",
    "df_tm_variants"
   ]
  },
  {
   "cell_type": "code",
   "execution_count": 20,
   "metadata": {},
   "outputs": [],
   "source": [
    "df_tm_variants.to_csv(\"Data/tm_score_variants.csv\")"
   ]
  },
  {
   "cell_type": "code",
   "execution_count": null,
   "metadata": {},
   "outputs": [],
   "source": [
    "\"\"\"\n",
    "adj_wt = A_s[\"Wild Type\"]\n",
    "n = adj_wt.shape[0]\n",
    "contact_sim_matrix = compute_contact_similarity_matrix(adj_wt, np.zeros((n,n)))\n",
    "contact_sim = compute_contact_similarity(contact_sim_matrix)\n",
    "\"\"\""
   ]
  },
  {
   "cell_type": "code",
   "execution_count": null,
   "metadata": {},
   "outputs": [],
   "source": [
    "\"\"\"\n",
    "plot_contact_sim(contact_sim_matrix, \"WT\", \"WT+{}\".format(str(mut)))\n",
    "\"\"\""
   ]
  }
 ],
 "metadata": {
  "colab": {
   "provenance": []
  },
  "kernelspec": {
   "display_name": "PCN",
   "language": "python",
   "name": "pcn"
  },
  "language_info": {
   "codemirror_mode": {
    "name": "ipython",
    "version": 3
   },
   "file_extension": ".py",
   "mimetype": "text/x-python",
   "name": "python",
   "nbconvert_exporter": "python",
   "pygments_lexer": "ipython3",
   "version": "3.8.3"
  },
  "widgets": {
   "application/vnd.jupyter.widget-state+json": {
    "0d3615b66d2d41dfb1ca60993f9f0103": {
     "model_module": "@jupyter-widgets/controls",
     "model_module_version": "1.5.0",
     "model_name": "HTMLModel",
     "state": {
      "_dom_classes": [],
      "_model_module": "@jupyter-widgets/controls",
      "_model_module_version": "1.5.0",
      "_model_name": "HTMLModel",
      "_view_count": null,
      "_view_module": "@jupyter-widgets/controls",
      "_view_module_version": "1.5.0",
      "_view_name": "HTMLView",
      "description": "",
      "description_tooltip": null,
      "layout": "IPY_MODEL_da458fa4505c47d6af8f3af40f7f1b9e",
      "placeholder": "​",
      "style": "IPY_MODEL_2124d2c432084c07bda75bf562df29d1",
      "value": " 120/? [00:11&lt;00:00, 14.13it/s]"
     }
    },
    "13d2e8e74f104f80a8aebdbe79adc567": {
     "model_module": "@jupyter-widgets/controls",
     "model_module_version": "1.5.0",
     "model_name": "ProgressStyleModel",
     "state": {
      "_model_module": "@jupyter-widgets/controls",
      "_model_module_version": "1.5.0",
      "_model_name": "ProgressStyleModel",
      "_view_count": null,
      "_view_module": "@jupyter-widgets/base",
      "_view_module_version": "1.2.0",
      "_view_name": "StyleView",
      "bar_color": null,
      "description_width": ""
     }
    },
    "1c74c7458bbe4cf7b888d495ef365f91": {
     "model_module": "@jupyter-widgets/controls",
     "model_module_version": "1.5.0",
     "model_name": "FloatProgressModel",
     "state": {
      "_dom_classes": [],
      "_model_module": "@jupyter-widgets/controls",
      "_model_module_version": "1.5.0",
      "_model_name": "FloatProgressModel",
      "_view_count": null,
      "_view_module": "@jupyter-widgets/controls",
      "_view_module_version": "1.5.0",
      "_view_name": "ProgressView",
      "bar_style": "success",
      "description": "",
      "description_tooltip": null,
      "layout": "IPY_MODEL_69955ce31d254e46816dd137b83757c7",
      "max": 100,
      "min": 0,
      "orientation": "horizontal",
      "style": "IPY_MODEL_13d2e8e74f104f80a8aebdbe79adc567",
      "value": 100
     }
    },
    "2124d2c432084c07bda75bf562df29d1": {
     "model_module": "@jupyter-widgets/controls",
     "model_module_version": "1.5.0",
     "model_name": "DescriptionStyleModel",
     "state": {
      "_model_module": "@jupyter-widgets/controls",
      "_model_module_version": "1.5.0",
      "_model_name": "DescriptionStyleModel",
      "_view_count": null,
      "_view_module": "@jupyter-widgets/base",
      "_view_module_version": "1.2.0",
      "_view_name": "StyleView",
      "description_width": ""
     }
    },
    "4555a17970364c35bccf547b1280d1ca": {
     "model_module": "@jupyter-widgets/controls",
     "model_module_version": "1.5.0",
     "model_name": "HBoxModel",
     "state": {
      "_dom_classes": [],
      "_model_module": "@jupyter-widgets/controls",
      "_model_module_version": "1.5.0",
      "_model_name": "HBoxModel",
      "_view_count": null,
      "_view_module": "@jupyter-widgets/controls",
      "_view_module_version": "1.5.0",
      "_view_name": "HBoxView",
      "box_style": "",
      "children": [
       "IPY_MODEL_50646980471244709d3f1206efca83bb",
       "IPY_MODEL_1c74c7458bbe4cf7b888d495ef365f91",
       "IPY_MODEL_0d3615b66d2d41dfb1ca60993f9f0103"
      ],
      "layout": "IPY_MODEL_ec683e1618f144f6b5069c34baae2189"
     }
    },
    "50646980471244709d3f1206efca83bb": {
     "model_module": "@jupyter-widgets/controls",
     "model_module_version": "1.5.0",
     "model_name": "HTMLModel",
     "state": {
      "_dom_classes": [],
      "_model_module": "@jupyter-widgets/controls",
      "_model_module_version": "1.5.0",
      "_model_name": "HTMLModel",
      "_view_count": null,
      "_view_module": "@jupyter-widgets/controls",
      "_view_module_version": "1.5.0",
      "_view_name": "HTMLView",
      "description": "",
      "description_tooltip": null,
      "layout": "IPY_MODEL_a0febf9ed1164367bc1f2ce712ff0079",
      "placeholder": "​",
      "style": "IPY_MODEL_938a3dad7f404ad88dfefc5dc1a77a11",
      "value": ""
     }
    },
    "69955ce31d254e46816dd137b83757c7": {
     "model_module": "@jupyter-widgets/base",
     "model_module_version": "1.2.0",
     "model_name": "LayoutModel",
     "state": {
      "_model_module": "@jupyter-widgets/base",
      "_model_module_version": "1.2.0",
      "_model_name": "LayoutModel",
      "_view_count": null,
      "_view_module": "@jupyter-widgets/base",
      "_view_module_version": "1.2.0",
      "_view_name": "LayoutView",
      "align_content": null,
      "align_items": null,
      "align_self": null,
      "border": null,
      "bottom": null,
      "display": null,
      "flex": null,
      "flex_flow": null,
      "grid_area": null,
      "grid_auto_columns": null,
      "grid_auto_flow": null,
      "grid_auto_rows": null,
      "grid_column": null,
      "grid_gap": null,
      "grid_row": null,
      "grid_template_areas": null,
      "grid_template_columns": null,
      "grid_template_rows": null,
      "height": null,
      "justify_content": null,
      "justify_items": null,
      "left": null,
      "margin": null,
      "max_height": null,
      "max_width": null,
      "min_height": null,
      "min_width": null,
      "object_fit": null,
      "object_position": null,
      "order": null,
      "overflow": null,
      "overflow_x": null,
      "overflow_y": null,
      "padding": null,
      "right": null,
      "top": null,
      "visibility": null,
      "width": null
     }
    },
    "938a3dad7f404ad88dfefc5dc1a77a11": {
     "model_module": "@jupyter-widgets/controls",
     "model_module_version": "1.5.0",
     "model_name": "DescriptionStyleModel",
     "state": {
      "_model_module": "@jupyter-widgets/controls",
      "_model_module_version": "1.5.0",
      "_model_name": "DescriptionStyleModel",
      "_view_count": null,
      "_view_module": "@jupyter-widgets/base",
      "_view_module_version": "1.2.0",
      "_view_name": "StyleView",
      "description_width": ""
     }
    },
    "a0febf9ed1164367bc1f2ce712ff0079": {
     "model_module": "@jupyter-widgets/base",
     "model_module_version": "1.2.0",
     "model_name": "LayoutModel",
     "state": {
      "_model_module": "@jupyter-widgets/base",
      "_model_module_version": "1.2.0",
      "_model_name": "LayoutModel",
      "_view_count": null,
      "_view_module": "@jupyter-widgets/base",
      "_view_module_version": "1.2.0",
      "_view_name": "LayoutView",
      "align_content": null,
      "align_items": null,
      "align_self": null,
      "border": null,
      "bottom": null,
      "display": null,
      "flex": null,
      "flex_flow": null,
      "grid_area": null,
      "grid_auto_columns": null,
      "grid_auto_flow": null,
      "grid_auto_rows": null,
      "grid_column": null,
      "grid_gap": null,
      "grid_row": null,
      "grid_template_areas": null,
      "grid_template_columns": null,
      "grid_template_rows": null,
      "height": null,
      "justify_content": null,
      "justify_items": null,
      "left": null,
      "margin": null,
      "max_height": null,
      "max_width": null,
      "min_height": null,
      "min_width": null,
      "object_fit": null,
      "object_position": null,
      "order": null,
      "overflow": null,
      "overflow_x": null,
      "overflow_y": null,
      "padding": null,
      "right": null,
      "top": null,
      "visibility": null,
      "width": null
     }
    },
    "da458fa4505c47d6af8f3af40f7f1b9e": {
     "model_module": "@jupyter-widgets/base",
     "model_module_version": "1.2.0",
     "model_name": "LayoutModel",
     "state": {
      "_model_module": "@jupyter-widgets/base",
      "_model_module_version": "1.2.0",
      "_model_name": "LayoutModel",
      "_view_count": null,
      "_view_module": "@jupyter-widgets/base",
      "_view_module_version": "1.2.0",
      "_view_name": "LayoutView",
      "align_content": null,
      "align_items": null,
      "align_self": null,
      "border": null,
      "bottom": null,
      "display": null,
      "flex": null,
      "flex_flow": null,
      "grid_area": null,
      "grid_auto_columns": null,
      "grid_auto_flow": null,
      "grid_auto_rows": null,
      "grid_column": null,
      "grid_gap": null,
      "grid_row": null,
      "grid_template_areas": null,
      "grid_template_columns": null,
      "grid_template_rows": null,
      "height": null,
      "justify_content": null,
      "justify_items": null,
      "left": null,
      "margin": null,
      "max_height": null,
      "max_width": null,
      "min_height": null,
      "min_width": null,
      "object_fit": null,
      "object_position": null,
      "order": null,
      "overflow": null,
      "overflow_x": null,
      "overflow_y": null,
      "padding": null,
      "right": null,
      "top": null,
      "visibility": null,
      "width": null
     }
    },
    "ec683e1618f144f6b5069c34baae2189": {
     "model_module": "@jupyter-widgets/base",
     "model_module_version": "1.2.0",
     "model_name": "LayoutModel",
     "state": {
      "_model_module": "@jupyter-widgets/base",
      "_model_module_version": "1.2.0",
      "_model_name": "LayoutModel",
      "_view_count": null,
      "_view_module": "@jupyter-widgets/base",
      "_view_module_version": "1.2.0",
      "_view_name": "LayoutView",
      "align_content": null,
      "align_items": null,
      "align_self": null,
      "border": null,
      "bottom": null,
      "display": null,
      "flex": null,
      "flex_flow": null,
      "grid_area": null,
      "grid_auto_columns": null,
      "grid_auto_flow": null,
      "grid_auto_rows": null,
      "grid_column": null,
      "grid_gap": null,
      "grid_row": null,
      "grid_template_areas": null,
      "grid_template_columns": null,
      "grid_template_rows": null,
      "height": null,
      "justify_content": null,
      "justify_items": null,
      "left": null,
      "margin": null,
      "max_height": null,
      "max_width": null,
      "min_height": null,
      "min_width": null,
      "object_fit": null,
      "object_position": null,
      "order": null,
      "overflow": null,
      "overflow_x": null,
      "overflow_y": null,
      "padding": null,
      "right": null,
      "top": null,
      "visibility": null,
      "width": null
     }
    }
   }
  }
 },
 "nbformat": 4,
 "nbformat_minor": 4
}
