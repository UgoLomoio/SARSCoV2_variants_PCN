{
 "cells": [
  {
   "cell_type": "code",
   "execution_count": null,
   "metadata": {
    "id": "bHXKi5EOIjn2",
    "tags": []
   },
   "outputs": [],
   "source": [
    "import numpy as np"
   ]
  },
  {
   "cell_type": "code",
   "execution_count": null,
   "metadata": {
    "tags": []
   },
   "outputs": [],
   "source": [
    "#!pip install plotly"
   ]
  },
  {
   "cell_type": "code",
   "execution_count": null,
   "metadata": {
    "tags": []
   },
   "outputs": [],
   "source": [
    "import plotly.io as pio\n",
    "dpi = 600\n",
    "format = \".tif\"\n",
    "width = 2.0\n",
    "height = 2.0\n",
    "scale = 6\n",
    "text_color = \"black\""
   ]
  },
  {
   "cell_type": "code",
   "execution_count": null,
   "metadata": {
    "id": "_gFduGRoIZYt",
    "tags": []
   },
   "outputs": [],
   "source": [
    "spikes = [\"SPWT\",\"Epsl\",\"Zeta\",\"Beta\", \"Alfa\",\"Delt\",\"Kapp\",\"Gamm\",\"Iota\",\"Iot2\",\"Eta1\",\"Ihu1\",\"Omi1\",\"Omi5\"]\n",
    "\n",
    "th_min = 4.0\n",
    "th_max = 8.0\n",
    "\n",
    "pdbFilesPath = \"PDB/\"\n",
    "\n",
    "spike_muts_variants = {'Wild Type': np.array([]),\n",
    "                         'Epsilon': np.array([ 13, 152, 452, 614]),\n",
    "                         'Zeta': np.array([ 484,  614, 1176]),\n",
    "                         'Beta': np.array([ 80, 215, 246, 417, 484, 501, 614, 701]),\n",
    "                         'Alpha': np.array([ 501,  570,  614,  681,  716,  982, 1118]),\n",
    "                         'Delta': np.array([158, 452, 478, 614, 681, 950]),\n",
    "                         'Kappa': np.array([ 154,  484,  614,  681, 1071]),\n",
    "                         'Gamma': np.array([ 138,  190,  417,  484,  501,  614,  655, 1027]),\n",
    "                         'Iota1': np.array([  5,  95, 253, 477, 614]),\n",
    "                         'Iota2': np.array([  5,  95, 253, 484, 614]),\n",
    "                         'Eta': np.array([ 52,  67, 484, 614, 677, 888]),\n",
    "                         'Ihu': np.array([  96,  190,  210,  346,  394,  449,  490,  501,  614,  681,  859,\n",
    "                                 936, 1191]),\n",
    "                         'Omicron1': np.array([ 67,  95, 142, 212, 339, 371, 373, 375, 417, 440, 446, 477, 478,\n",
    "                                484, 493, 496, 498, 501, 505, 547, 614, 655, 679, 681, 764, 796,\n",
    "                                856, 954, 969, 981]),\n",
    "                         'Omicron5': np.array([142, 213, 339, 371, 373, 375, 376, 405, 408, 417, 440, 452, 477,\n",
    "                                478, 484, 486, 498, 501, 505, 614, 655, 679, 681, 764, 796, 954,\n",
    "                                969])\n",
    "}\n",
    "                "
   ]
  },
  {
   "cell_type": "code",
   "execution_count": null,
   "metadata": {
    "colab": {
     "base_uri": "https://localhost:8080/"
    },
    "executionInfo": {
     "elapsed": 167989,
     "status": "ok",
     "timestamp": 1671097100857,
     "user": {
      "displayName": "UGO LOMOIO",
      "userId": "13693923129053979509"
     },
     "user_tz": -60
    },
    "id": "ElVEKFHIIuIe",
    "outputId": "ed31f216-f170-4291-ffc8-842a8b7dc986",
    "tags": []
   },
   "outputs": [],
   "source": [
    "import pandas as pd \n",
    "\n",
    "A_s = dict()\n",
    "\n",
    "for i, pdb in enumerate(spikes):\n",
    "    \n",
    "    #read PCN\n",
    "    name = list(spike_muts_variants.keys())[i]\n",
    "    A = np.loadtxt(r\"Data\\Adj\\{}_adj_mat_{}_{}.txt\".format(pdb.lower(), str(th_min), str(th_max)))\n",
    "    A_s[name] = A"
   ]
  },
  {
   "cell_type": "code",
   "execution_count": null,
   "metadata": {
    "tags": []
   },
   "outputs": [],
   "source": [
    "A_s.keys()"
   ]
  },
  {
   "cell_type": "code",
   "execution_count": null,
   "metadata": {
    "id": "abw5BW2gPHnS",
    "tags": []
   },
   "outputs": [],
   "source": [
    "def compute_contact_similarity(contact_sim_matrix):\n",
    "    n, m = contact_sim_matrix.shape\n",
    "    total = n*m\n",
    "    n_diff_contacts = np.count_nonzero(contact_sim_matrix)\n",
    "    return ((total-n_diff_contacts)/total)*100.0"
   ]
  },
  {
   "cell_type": "code",
   "execution_count": null,
   "metadata": {
    "tags": []
   },
   "outputs": [],
   "source": [
    "def readPDBFile(pdbFilePath):\n",
    "\n",
    "    atoms = []\n",
    "    with open(pdbFilePath) as pdbfile:\n",
    "        for line in pdbfile:\n",
    "            if line[:4] == 'ATOM':\n",
    "              # Split the line\n",
    "                splitted_line = [line[:6], line[6:11], line[12:16], line[17:20], line[21], line[22:26], line[30:38], line[38:46], line[46:54], line[56:61], line[62:66]]\n",
    "                atoms.append(splitted_line)\n",
    "                # To format again the pdb file with the fields extracted\n",
    "                #print(\"%-6s%5s %4s %3s %s %4s    %8s%8s%8s   %3s%3s\\n\"%tuple(splitted_line))\n",
    "    return np.array(atoms)  \n",
    "\n",
    "def getModelledResidues(pdbFilePath):\n",
    "    \n",
    "    modelled_residues = []\n",
    "    atoms = readPDBFile(pdbFilePath)\n",
    "    \n",
    "    last_resi = 0\n",
    "    for i, atom in enumerate(atoms):\n",
    "        \n",
    "        resn = atom[3] #res name\n",
    "        resi = int(atom[5]) #res index\n",
    "        chain = atom[4]\n",
    "        \n",
    "        if resi != last_resi:\n",
    "            modelled_residues.append((str(resi)+ \" \" + chain))\n",
    "            last_resi = resi\n",
    "\n",
    "    return modelled_residues\n",
    "\n",
    "def map_Graph(G, residue_names):\n",
    "     \n",
    "    mapping = dict()\n",
    "    for i, residue_name in enumerate(residue_names):\n",
    "        mapping[i] = residue_name\n",
    "            \n",
    "    #relabel nodes\n",
    "    G = nx.relabel_nodes(G, mapping)\n",
    "    return G\n",
    "    \n",
    "def removeUnmodelled(G1, G2):\n",
    "    \n",
    "    modelled1 = list(dict(G1.nodes()).keys())\n",
    "    modelled2 = list(dict(G2.nodes()).keys())\n",
    "    \n",
    "    for node1 in modelled1:\n",
    "        if node1 not in modelled2:\n",
    "            G1.remove_node(node1)\n",
    "            \n",
    "    for node2 in modelled2:\n",
    "        if node2 not in modelled1:\n",
    "            G2.remove_node(node2)\n",
    "            \n",
    "    return G1, G2"
   ]
  },
  {
   "cell_type": "code",
   "execution_count": null,
   "metadata": {
    "id": "3cCfNHsBKBbB",
    "tags": []
   },
   "outputs": [],
   "source": [
    "def plot_contact_sim(contact_sim, var1, var2):\n",
    "        \n",
    "    n = contact_sim.shape[0]\n",
    "    fig = go.Figure(data=go.Heatmap(\n",
    "                      z=contact_sim,\n",
    "                      x=np.arange(0, n),\n",
    "                      y=np.arange(0, n),\n",
    "                      colorscale='OrRd'\n",
    "                    )\n",
    "                 )\n",
    "    #fig.show()    \n",
    "    return fig"
   ]
  },
  {
   "cell_type": "code",
   "execution_count": null,
   "metadata": {
    "tags": []
   },
   "outputs": [],
   "source": [
    "import plotly.graph_objects as go"
   ]
  },
  {
   "cell_type": "code",
   "execution_count": null,
   "metadata": {
    "id": "iaFntZZLJ84P",
    "tags": []
   },
   "outputs": [],
   "source": [
    "def compute_contact_similarity_matrix(A1, A2):\n",
    "    \n",
    "    diff = A1 != A2\n",
    "    contact_sim = np.zeros((diff.shape[0], diff.shape[1]))\n",
    "    for i in range (diff.shape[0]):\n",
    "        for j in range (diff.shape[1]):\n",
    "            elem = diff[i][j]\n",
    "            if elem: #contact difference\n",
    "                contact_sim[i, j] = 1.0\n",
    "            else:\n",
    "                contact_sim[i, j] = 0.0\n",
    "    return contact_sim"
   ]
  },
  {
   "cell_type": "code",
   "execution_count": null,
   "metadata": {
    "colab": {
     "base_uri": "https://localhost:8080/"
    },
    "executionInfo": {
     "elapsed": 415046,
     "status": "ok",
     "timestamp": 1671100084467,
     "user": {
      "displayName": "UGO LOMOIO",
      "userId": "13693923129053979509"
     },
     "user_tz": -60
    },
    "id": "6NLtcnvBI5_7",
    "outputId": "e6cf3abe-ced8-4fa2-fcb2-b9fa95ec642d",
    "tags": []
   },
   "outputs": [],
   "source": [
    "import networkx as nx \n",
    "\n",
    "n = len(spikes)\n",
    "contacts_sim_mat = {}\n",
    "figures = {}\n",
    "contacts_sim = np.zeros((n, n), dtype = float)\n",
    "\n",
    "for i, (var1, A1) in enumerate(A_s.items()):\n",
    "\n",
    "    n1 = A1.shape[0]\n",
    "    G_variant1 = nx.from_numpy_matrix(A1)\n",
    "    pdb1 = spikes[i]\n",
    "    modelled_nodes_variant1 = getModelledResidues(\"Data/PDB/{}.pdb\".format(pdb1))\n",
    "    for j, (var2, A2) in enumerate(A_s.items()):\n",
    "        if i > j:\n",
    "            if var1 != var2:\n",
    "                if \"{}!={}\".format(var1, var2) not in contacts_sim_mat.keys():\n",
    "                    print(var1, var2)\n",
    "                    n2 = A2.shape[0]\n",
    "\n",
    "                    G_variant2 = nx.from_numpy_matrix(A2)\n",
    "                    pdb2 = spikes[j]\n",
    "                    modelled_nodes_variant2 = getModelledResidues(\"Data/PDB/{}.pdb\".format(pdb2))\n",
    "\n",
    "                    G_variant1 = map_Graph(G_variant1, modelled_nodes_variant1)  \n",
    "                    G_variant2 = map_Graph(G_variant2, modelled_nodes_variant2)  \n",
    "                    G_variant1_new, G_variant2_new = removeUnmodelled(G_variant1, G_variant2)  \n",
    "                    A1_copy = np.array(nx.adjacency_matrix(G_variant1_new).todense())\n",
    "                    A2_copy = np.array(nx.adjacency_matrix(G_variant2_new).todense())\n",
    "                    \n",
    "                    contact_sim_matrix = compute_contact_similarity_matrix(A1_copy, A2_copy)\n",
    "                    contacts_sim_mat[var1+\"!=\"+var2] = contact_sim_matrix\n",
    "                    contact_sim = compute_contact_similarity(contact_sim_matrix)\n",
    "                    contacts_sim[i, j] = contact_sim\n",
    "                    contacts_sim[j, i] = contact_sim\n",
    "                    print(\"Contact similarity between {} and {} Spike SARS-CoV-2 variants: {} %\".format(var1, var2, contact_sim))\n",
    "                    #fig = plot_contact_sim(contact_sim_matrix, var1, var2)\n",
    "                    #figures[var1+\"!=\"+var2] = fig\n",
    "        elif i == j:\n",
    "            print(\"i == j, Contact similarity between {} and {} Spike SARS-CoV-2 variants: {} %\".format(var1, var2, 100.0))\n",
    "            contacts_sim[i, j] = 100.0\n",
    "            contacts_sim[j, i] = 100.0"
   ]
  },
  {
   "cell_type": "code",
   "execution_count": null,
   "metadata": {
    "tags": []
   },
   "outputs": [],
   "source": [
    "import pandas as pd\n",
    "df_cs = pd.DataFrame(contacts_sim, columns = list(A_s.keys()), index = list(A_s.keys()))\n",
    "df_cs.to_csv(\"Data\\contact_sim_variants.csv\")"
   ]
  },
  {
   "cell_type": "code",
   "execution_count": null,
   "metadata": {
    "tags": []
   },
   "outputs": [],
   "source": [
    "#!pip install -U kaleido"
   ]
  },
  {
   "cell_type": "code",
   "execution_count": null,
   "metadata": {
    "tags": []
   },
   "outputs": [],
   "source": [
    "#!pip install --upgrade nbformat"
   ]
  },
  {
   "cell_type": "code",
   "execution_count": null,
   "metadata": {
    "tags": []
   },
   "outputs": [],
   "source": [
    "#plot contact sim \n",
    "import plotly.figure_factory as ff\n",
    "from scipy.spatial.distance import pdist, squareform\n",
    "\n",
    "ticksuffix = \"                             \"\n",
    "# Initialize figure by creating upper dendrogram\n",
    "labels = np.array(sorted(list(spike_muts_variants.keys())))\n",
    "labels_no_mutant = np.array(sorted([elem for elem in list(spike_muts_variants.keys()) if \"Mutant\" not in elem]))\n",
    "i_no_mutant = [i for i, elem in enumerate(list(spike_muts_variants.keys())) if \"Mutant\" not in elem]\n",
    "n_no_mut = labels_no_mutant.shape[0]\n",
    "n = labels.shape[0]\n",
    "contacts_sim_nomutant = np.zeros((n_no_mut, n_no_mut))\n",
    "idx=0\n",
    "for i in range(n):\n",
    "    jdx=0\n",
    "    if i in i_no_mutant:\n",
    "        for j in range(n):\n",
    "            if j in i_no_mutant:\n",
    "                contacts_sim_nomutant[idx, jdx] = contacts_sim[i, j]\n",
    "                jdx+=1\n",
    "        idx+=1\n",
    "print(contacts_sim_nomutant)\n",
    "\n",
    "fig = ff.create_dendrogram(contacts_sim_nomutant, orientation='bottom', labels=labels_no_mutant)\n",
    "for i in range(len(fig['data'])):\n",
    "    fig['data'][i]['yaxis'] = 'y2'\n",
    "\n",
    "# Create Side Dendrogram\n",
    "dendro_side = ff.create_dendrogram(contacts_sim_nomutant, orientation='right')\n",
    "for i in range(len(dendro_side['data'])):\n",
    "    dendro_side['data'][i]['xaxis'] = 'x2'\n",
    "    \n",
    "# Add Side Dendrogram Data to Figure\n",
    "for data in dendro_side['data']:\n",
    "    fig.add_trace(data)\n",
    "\n",
    "# Create Heatmap\n",
    "dendro_leaves = dendro_side['layout']['yaxis']['ticktext']\n",
    "dendro_leaves = list(map(int, dendro_leaves))\n",
    "data_dist = [1-contacts_sim_nomutant[i, j] for i in range(contacts_sim_nomutant.shape[0]) for j in range(contacts_sim_nomutant.shape[1]) if i > j]  #pdist(contacts_sim_nomutant)\n",
    "heat_data = contacts_sim_nomutant #squareform(data_dist)\n",
    "heat_data = heat_data[dendro_leaves,:]\n",
    "heat_data = heat_data[:,dendro_leaves]\n",
    "\n",
    "# Create Heatmap\n",
    "dendro_leaves = dendro_side['layout']['yaxis']['ticktext']\n",
    "dendro_leaves = list(map(int, dendro_leaves))\n",
    "data_dist = [1-contacts_sim_nomutant[i, j] for i in range(contacts_sim_nomutant.shape[0]) for j in range(contacts_sim_nomutant.shape[1]) if i > j]  #pdist(contacts_sim_nomutant)\n",
    "heat_data = contacts_sim_nomutant #squareform(data_dist)\n",
    "heat_data = heat_data[dendro_leaves,:]\n",
    "heat_data = heat_data[:,dendro_leaves]\n",
    "\n",
    "heatmap = [\n",
    "    go.Heatmap(\n",
    "        x = dendro_leaves,\n",
    "        y = dendro_leaves,\n",
    "        z = heat_data,\n",
    "        colorscale = 'Blues'\n",
    "    )\n",
    "]\n",
    "\n",
    "heatmap[0]['x'] = fig['layout']['xaxis']['tickvals']\n",
    "heatmap[0]['y'] = dendro_side['layout']['yaxis']['tickvals']\n",
    "\n",
    "# Add Heatmap Data to Figure\n",
    "for data in heatmap:\n",
    "    fig.add_trace(data)\n",
    "\n",
    "# Edit Layout\n",
    "fig.update_layout({'width':width*dpi, 'height':height*dpi,\n",
    "                         'showlegend':False, 'hovermode': 'closest', 'title_font_color': text_color, 'font_color': text_color\n",
    "                         })\n",
    "# Edit xaxis\n",
    "fig.update_layout(xaxis={'domain': [.15, 1],\n",
    "                                  'mirror': False,\n",
    "                                  'showgrid': False,\n",
    "                                  'showline': False,\n",
    "                                  'zeroline': False,\n",
    "                                  'tickmode': \"array\",\n",
    "                                  'tickvals': np.arange(5, 215, 10),\n",
    "                                  'ticktext': \"<b>\"+fig['layout']['xaxis']['ticktext']+\"</b>\"+ticksuffix})\n",
    "# Edit xaxis2\n",
    "fig.update_layout(xaxis2={'domain': [0, .15],\n",
    "                                   'mirror': False,\n",
    "                                   'showgrid': False,\n",
    "                                   'showline': False,\n",
    "                                   'zeroline': False,\n",
    "                                   'showticklabels': False,\n",
    "                                   'ticks':\"\"})\n",
    "\n",
    "# Edit yaxis\n",
    "fig.update_layout(yaxis={'domain': [0, .85],\n",
    "                                  'mirror': False,\n",
    "                                  'showgrid': False,\n",
    "                                  'showline': False,\n",
    "                                  'zeroline': False,\n",
    "                                  'showticklabels': True, \n",
    "                                  'tickmode': \"array\",\n",
    "                                  'tickvals': np.arange(5, 215, 10),\n",
    "                                  'ticktext': \"<b>\"+fig['layout']['xaxis']['ticktext']+\"</b>\"+ticksuffix\n",
    "                        })\n",
    "# Edit yaxis2\n",
    "fig.update_layout(yaxis2={'domain':[.825, .975],\n",
    "                                   'mirror': False,\n",
    "                                   'showgrid': False,\n",
    "                                   'showline': False,\n",
    "                                   'zeroline': False,\n",
    "                                   'showticklabels': False,\n",
    "                                   'ticks': \"\"})\n",
    "\n",
    "# Plot!\n",
    "fig.show()\n",
    "\n",
    "#Save\n",
    "fig.write_html(\"Figures/ContactSimilarity/contactDistNormNoMut.html\")\n",
    "pio.write_image(fig, \"Figures/ContactSimilarity/contactDistNormNoMut.png\", engine = \"orca\", width=width*dpi, height=height*dpi, scale=scale)"
   ]
  },
  {
   "cell_type": "code",
   "execution_count": null,
   "metadata": {},
   "outputs": [],
   "source": []
  },
  {
   "cell_type": "code",
   "execution_count": null,
   "metadata": {
    "tags": []
   },
   "outputs": [],
   "source": [
    "#plot contact sim \n",
    "import plotly.figure_factory as ff\n",
    "from scipy.spatial.distance import pdist, squareform\n",
    "\n",
    "ticksuffix = \"                             \"\n",
    "# Initialize figure by creating upper dendrogram\n",
    "labels = np.array(sorted(list(spike_muts_variants.keys())))\n",
    "n = labels.shape[0]\n",
    "\n",
    "fig = ff.create_dendrogram(contacts_sim, orientation='bottom', labels=labels)\n",
    "for i in range(len(fig['data'])):\n",
    "    fig['data'][i]['yaxis'] = 'y2'\n",
    "\n",
    "# Create Side Dendrogram\n",
    "dendro_side = ff.create_dendrogram(contacts_sim, orientation='right')\n",
    "for i in range(len(dendro_side['data'])):\n",
    "    dendro_side['data'][i]['xaxis'] = 'x2'\n",
    "    \n",
    "# Add Side Dendrogram Data to Figure\n",
    "for data in dendro_side['data']:\n",
    "    fig.add_trace(data)\n",
    "\n",
    "# Create Heatmap\n",
    "dendro_leaves = dendro_side['layout']['yaxis']['ticktext']\n",
    "dendro_leaves = list(map(int, dendro_leaves))\n",
    "data_dist = [1-contacts_sim[i, j] for i in range(contacts_sim.shape[0]) for j in range(contacts_sim.shape[1]) if i > j]  #pdist(contacts_sim)\n",
    "heat_data = contacts_sim #squareform(data_dist)\n",
    "heat_data = heat_data[dendro_leaves,:]\n",
    "heat_data = heat_data[:,dendro_leaves]\n",
    "\n",
    "# Create Heatmap\n",
    "dendro_leaves = dendro_side['layout']['yaxis']['ticktext']\n",
    "dendro_leaves = list(map(int, dendro_leaves))\n",
    "data_dist = [1-contacts_sim[i, j] for i in range(contacts_sim.shape[0]) for j in range(contacts_sim.shape[1]) if i > j]  #pdist(contacts_sim)\n",
    "heat_data = contacts_sim #squareform(data_dist)\n",
    "heat_data = heat_data[dendro_leaves,:]\n",
    "heat_data = heat_data[:,dendro_leaves]\n",
    "\n",
    "heatmap = [\n",
    "    go.Heatmap(\n",
    "        x = dendro_leaves,\n",
    "        y = dendro_leaves,\n",
    "        z = heat_data,\n",
    "        colorscale = 'Blues'\n",
    "    )\n",
    "]\n",
    "\n",
    "heatmap[0]['x'] = fig['layout']['xaxis']['tickvals']\n",
    "heatmap[0]['y'] = dendro_side['layout']['yaxis']['tickvals']\n",
    "\n",
    "# Add Heatmap Data to Figure\n",
    "for data in heatmap:\n",
    "    fig.add_trace(data)\n",
    "\n",
    "# Edit Layout\n",
    "fig.update_layout({'width':width*dpi, 'height':height*dpi,\n",
    "                         'showlegend':False, 'hovermode': 'closest', 'title_font_color': text_color, 'font_color': text_color\n",
    "                         })\n",
    "# Edit xaxis\n",
    "fig.update_layout(xaxis={'domain': [.15, 1],\n",
    "                                  'mirror': False,\n",
    "                                  'showgrid': False,\n",
    "                                  'showline': False,\n",
    "                                  'zeroline': False,\n",
    "                                  'tickmode': \"array\",\n",
    "                                  'tickvals': np.arange(5, 215, 10),\n",
    "                                  'ticktext': \"<b>\"+fig['layout']['xaxis']['ticktext']+\"</b>\"+ticksuffix})\n",
    "# Edit xaxis2\n",
    "fig.update_layout(xaxis2={'domain': [0, .15],\n",
    "                                   'mirror': False,\n",
    "                                   'showgrid': False,\n",
    "                                   'showline': False,\n",
    "                                   'zeroline': False,\n",
    "                                   'showticklabels': False,\n",
    "                                   'ticks':\"\"})\n",
    "\n",
    "# Edit yaxis\n",
    "fig.update_layout(yaxis={'domain': [0, .85],\n",
    "                                  'mirror': False,\n",
    "                                  'showgrid': False,\n",
    "                                  'showline': False,\n",
    "                                  'zeroline': False,\n",
    "                                  'showticklabels': True, \n",
    "                                  'tickmode': \"array\",\n",
    "                                  'tickvals': np.arange(5, 215, 10),\n",
    "                                  'ticktext': \"<b>\"+fig['layout']['xaxis']['ticktext']+\"</b>\"+ticksuffix,\n",
    "                        })\n",
    "# Edit yaxis2\n",
    "fig.update_layout(yaxis2={'domain':[.825, .975],\n",
    "                                   'mirror': False,\n",
    "                                   'showgrid': False,\n",
    "                                   'showline': False,\n",
    "                                   'zeroline': False,\n",
    "                                   'showticklabels': False,\n",
    "                                   'ticks': \"\"})\n",
    "\n",
    "# Plot!\n",
    "fig.show()\n",
    "\n",
    "#Save\n",
    "fig.write_html(\"Figures/ContactSimilarity/contactDistNorm.html\")\n",
    "pio.write_image(fig, \"Figures/ContactSimilarity/contactDistNorm.png\", engine = \"orca\", width=width*dpi, height=height*dpi, scale=scale)"
   ]
  },
  {
   "cell_type": "code",
   "execution_count": null,
   "metadata": {
    "tags": []
   },
   "outputs": [],
   "source": [
    "N = contacts_sim.shape[0]\n",
    "labels = list(spike_muts_variants.keys())\n",
    "labels = [\"<b>{}</b>\".format(label) for label in labels]\n",
    "fig = go.Figure(data=go.Heatmap(\n",
    "                      z=contacts_sim,\n",
    "                      x=np.arange(0, N),\n",
    "                      y=np.arange(0, N),\n",
    "                      colorscale='OrRd'\n",
    "                    )\n",
    "                 )\n",
    "# Edit yaxis\n",
    "fig.update_layout(yaxis={         'mirror': False,\n",
    "                                  'showgrid': False,\n",
    "                                  'showline': False,\n",
    "                                  'zeroline': False, \n",
    "                                  'showticklabels': True,\n",
    "                                  'ticklabelposition': \"outside bottom\",\n",
    "                                  'tickmode': \"array\",\n",
    "                                  'tickvals': np.arange(0, N, 1),\n",
    "                                  'ticktext': labels,\n",
    "                                  'tickfont_size': 20\n",
    "                        })\n",
    "# Edit xaxis\n",
    "fig.update_layout(xaxis={\n",
    "\n",
    "                                  'mirror': False,\n",
    "                                  'showgrid': False,\n",
    "                                  'showline': False,\n",
    "                                  'zeroline': False,\n",
    "                                  'showticklabels': True,\n",
    "                                  'ticklabelposition': \"outside bottom\",\n",
    "                                  'tickmode': \"array\",\n",
    "                                  'tickvals': np.arange(0, N, 1),\n",
    "                                  'ticktext': labels,\n",
    "                                  'tickfont_size': 20\n",
    "                                \n",
    "    \n",
    "                        })\n",
    "fig.update_layout(width=width*dpi, height=height*dpi, title_font_color = text_color, font_color = text_color)\n",
    "fig.show()\n",
    "\n",
    "#Save\n",
    "fig.write_html(\"Figures/ContactSimilarity/contactSim.html\")\n",
    "pio.write_image(fig, \"Figures/ContactSimilarity/contactSim.png\", engine = \"orca\", width=width*dpi, height=height*dpi, scale=scale)"
   ]
  },
  {
   "cell_type": "code",
   "execution_count": null,
   "metadata": {},
   "outputs": [],
   "source": [
    "var1 = \"Omicron1\"\n",
    "var2 = \"Omicron5\"\n",
    "if var1+\"!=\"+var2 in contacts_sim_mat.keys():\n",
    "    key = var1+\"!=\"+var2 \n",
    "elif var2+\"!=\"+var1 in contacts_sim_mat.keys():\n",
    "    key = var2+\"!=\"+var1 \n",
    "fig = plot_contact_sim(contacts_sim_mat[key], var1, var2)\n",
    "fig.show()"
   ]
  },
  {
   "cell_type": "code",
   "execution_count": null,
   "metadata": {},
   "outputs": [],
   "source": [
    "contact_sim_matrix"
   ]
  },
  {
   "cell_type": "code",
   "execution_count": null,
   "metadata": {},
   "outputs": [],
   "source": [
    "var1, var2"
   ]
  },
  {
   "cell_type": "code",
   "execution_count": null,
   "metadata": {},
   "outputs": [],
   "source": [
    "curr_min = 100.0\n",
    "curr_i_min = 0\n",
    "curr_j_min = 0\n",
    "for i in range(n):\n",
    "    for j in range(n):\n",
    "        curr_value = contacts_sim[i][j]\n",
    "        if curr_value > 0.0:\n",
    "            if curr_value < curr_min:\n",
    "                curr_min = curr_value\n",
    "                curr_i_min = i\n",
    "                curr_j_min = j\n",
    "                \n",
    "print(\"Min {} found for i = {} and j = {}\".format(curr_min, curr_i_min, curr_j_min))    \n",
    "print(curr_i_min, spikes[curr_i_min])\n",
    "print(curr_j_min, spikes[curr_j_min])"
   ]
  },
  {
   "cell_type": "code",
   "execution_count": null,
   "metadata": {},
   "outputs": [],
   "source": []
  },
  {
   "cell_type": "code",
   "execution_count": null,
   "metadata": {},
   "outputs": [],
   "source": []
  },
  {
   "cell_type": "code",
   "execution_count": null,
   "metadata": {},
   "outputs": [],
   "source": []
  },
  {
   "cell_type": "code",
   "execution_count": null,
   "metadata": {},
   "outputs": [],
   "source": []
  }
 ],
 "metadata": {
  "colab": {
   "authorship_tag": "ABX9TyOHyAYE8zmWGBMbaP4CqO4x",
   "provenance": []
  },
  "kernelspec": {
   "display_name": "PCN",
   "language": "python",
   "name": "pcn"
  },
  "language_info": {
   "codemirror_mode": {
    "name": "ipython",
    "version": 3
   },
   "file_extension": ".py",
   "mimetype": "text/x-python",
   "name": "python",
   "nbconvert_exporter": "python",
   "pygments_lexer": "ipython3",
   "version": "3.8.3"
  }
 },
 "nbformat": 4,
 "nbformat_minor": 4
}
